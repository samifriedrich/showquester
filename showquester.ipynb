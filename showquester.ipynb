{
 "cells": [
  {
   "cell_type": "markdown",
   "metadata": {},
   "source": [
    "# Showquester"
   ]
  },
  {
   "cell_type": "code",
   "execution_count": 1,
   "metadata": {},
   "outputs": [],
   "source": [
    "# load libraries\n",
    "import os\n",
    "import spotipy\n",
    "import spotipy.util as util\n",
    "\n",
    "import pickle\n",
    "\n",
    "import requests\n",
    "import pandas as pd\n",
    "\n",
    "# show all the things\n",
    "pd.set_option('display.max_columns', None)\n",
    "pd.set_option('display.max_rows', None)\n",
    "\n",
    "import datetime\n",
    "\n",
    "# load environmental variables\n",
    "from dotenv import load_dotenv\n",
    "load_dotenv()\n",
    "\n",
    "from fuzzywuzzy import fuzz\n",
    "from fuzzywuzzy import process\n",
    "\n",
    "from math import ceil as round_up"
   ]
  },
  {
   "cell_type": "code",
   "execution_count": 149,
   "metadata": {},
   "outputs": [
    {
     "data": {
      "text/html": [
       "<div>\n",
       "<style scoped>\n",
       "    .dataframe tbody tr th:only-of-type {\n",
       "        vertical-align: middle;\n",
       "    }\n",
       "\n",
       "    .dataframe tbody tr th {\n",
       "        vertical-align: top;\n",
       "    }\n",
       "\n",
       "    .dataframe thead th {\n",
       "        text-align: right;\n",
       "    }\n",
       "</style>\n",
       "<table border=\"1\" class=\"dataframe\">\n",
       "  <thead>\n",
       "    <tr style=\"text-align: right;\">\n",
       "      <th></th>\n",
       "      <th>venue</th>\n",
       "      <th>url</th>\n",
       "    </tr>\n",
       "  </thead>\n",
       "  <tbody>\n",
       "    <tr>\n",
       "      <th>0</th>\n",
       "      <td>McMenamin's Crystal Ballroom</td>\n",
       "      <td>https://www.mcmenamins.com/'</td>\n",
       "    </tr>\n",
       "    <tr>\n",
       "      <th>1</th>\n",
       "      <td>Mississippi Studios</td>\n",
       "      <td>https://www.mississippistudios.com/</td>\n",
       "    </tr>\n",
       "    <tr>\n",
       "      <th>2</th>\n",
       "      <td>Polaris Hall</td>\n",
       "      <td>https://www.mississippistudios.com/</td>\n",
       "    </tr>\n",
       "    <tr>\n",
       "      <th>3</th>\n",
       "      <td>Doug Fir Lounge</td>\n",
       "      <td>https://www.dougfirlounge.com/</td>\n",
       "    </tr>\n",
       "    <tr>\n",
       "      <th>4</th>\n",
       "      <td>Wonder Ballroom</td>\n",
       "      <td>https://wonderballroom.com/</td>\n",
       "    </tr>\n",
       "    <tr>\n",
       "      <th>5</th>\n",
       "      <td>Holocene</td>\n",
       "      <td>http://www.holocene.org/</td>\n",
       "    </tr>\n",
       "    <tr>\n",
       "      <th>6</th>\n",
       "      <td>Roseland Theater</td>\n",
       "      <td>http://roselandpdx.com/</td>\n",
       "    </tr>\n",
       "  </tbody>\n",
       "</table>\n",
       "</div>"
      ],
      "text/plain": [
       "                          venue                                  url\n",
       "0  McMenamin's Crystal Ballroom         https://www.mcmenamins.com/'\n",
       "1           Mississippi Studios  https://www.mississippistudios.com/\n",
       "2                  Polaris Hall  https://www.mississippistudios.com/\n",
       "3               Doug Fir Lounge       https://www.dougfirlounge.com/\n",
       "4               Wonder Ballroom          https://wonderballroom.com/\n",
       "5                      Holocene             http://www.holocene.org/\n",
       "6              Roseland Theater              http://roselandpdx.com/"
      ]
     },
     "execution_count": 149,
     "metadata": {},
     "output_type": "execute_result"
    }
   ],
   "source": [
    "venue_info = pd.read_csv('venues.csv')\n",
    "venue_info"
   ]
  },
  {
   "cell_type": "code",
   "execution_count": 287,
   "metadata": {},
   "outputs": [],
   "source": [
    "# change these values for each venue\n",
    "venue_name = venue_info.venue[2]\n",
    "venue_url = venue_info.url[2]"
   ]
  },
  {
   "cell_type": "code",
   "execution_count": 288,
   "metadata": {},
   "outputs": [],
   "source": [
    "#### FUNCTIONS\n",
    "\n",
    "# search for venue and retrieve id\n",
    "# NOTE: venue name must exactly match for the search to be successful\n",
    "def get_venue_id(venue_name): \n",
    "    req = f'https://api.songkick.com/api/3.0/search/venues.json?query={venue_name}&apikey={sk_api_key}'\n",
    "    response = requests.get(req)\n",
    "    num_responses = response.json()['resultsPage']['totalEntries']\n",
    "    if num_responses > 0:\n",
    "        results = response.json()['resultsPage']['results']\n",
    "        top_hit = results['venue'][0]\n",
    "        venue_id = top_hit['id']\n",
    "        displayName = top_hit['displayName']\n",
    "        print(f'Found: {displayName}')\n",
    "        return venue_id\n",
    "    else:\n",
    "        print('No venue found with that name.')\n",
    "\n",
    "# get a venue's upcoming events from songkick\n",
    "def get_venue_events(venue_id):\n",
    "    req = f'https://api.songkick.com/api/3.0/venues/{venue_id}/calendar.json?apikey={sk_api_key}'\n",
    "    response = requests.get(req)\n",
    "    # get number of events per page\n",
    "    per_page = response.json()['resultsPage']['perPage']\n",
    "    # get total number of events\n",
    "    total_entries = response.json()['resultsPage']['totalEntries']\n",
    "    # if multiple pages of events\n",
    "    if total_entries > per_page:\n",
    "        # calculate number of pages\n",
    "        pages = round_up(total_entries/per_page)\n",
    "        # save first page of results to venue_events\n",
    "        venue_events = response.json()['resultsPage']['results']['event']\n",
    "        # get subsequent pages of results\n",
    "        for page_num in range(2, pages+1):\n",
    "            # request next page of events\n",
    "            req = f'https://api.songkick.com/api/3.0/venues/{venue_id}/calendar.json?apikey={sk_api_key}&page={page_num}'\n",
    "            response = requests.get(req)\n",
    "            page_events = response.json()['resultsPage']['results']['event']\n",
    "            # add to venue_events list\n",
    "            venue_events.extend(page_events)\n",
    "    else:\n",
    "        venue_events = response.json()['resultsPage']['results']['event']\n",
    "\n",
    "    return venue_events\n",
    "\n",
    "\n",
    "# create a dataframe of relevant data\n",
    "def events_df(event_list):\n",
    "    dates = []\n",
    "    artists = []\n",
    "    ids = []\n",
    "    for event in event_list:\n",
    "\n",
    "        # get performers\n",
    "        performance = event['performance']\n",
    "        num_performers = len(performance)\n",
    "        # add to artists list\n",
    "        for artist in performance:\n",
    "            artists.append(artist['displayName'])\n",
    "            ids.append(artist['id'])\n",
    "\n",
    "        # get date\n",
    "        event_date = event['start']['date']\n",
    "        # add to dates list, once for each performer\n",
    "        dates.extend([event_date] * num_performers)\n",
    "        \n",
    "    return pd.DataFrame(data={'artist':artists, 'date':dates, 'artist_id':ids})\n",
    "\n",
    "def get_artist(search_str):\n",
    "    if token:\n",
    "        sp = spotipy.Spotify(auth=token)\n",
    "        sp.trace = False\n",
    "        results = sp.search(search_str,type='artist')\n",
    "    \n",
    "    if results['artists']['total'] > 0:\n",
    "        items = results['artists']['items']\n",
    "        hits = {}\n",
    "        for artist in items:\n",
    "            hits[artist['uri']] = artist['name']\n",
    "\n",
    "        best_hit = process.extractOne(search_str, hits)\n",
    "        best_hit_uri = best_hit[2]\n",
    "        artist_obj = sp.artist(best_hit_uri)\n",
    "        return artist_obj\n",
    "    else:\n",
    "        print(f'\\\"{search_str}\\\" was not found on Spotify.')\n",
    "        return None\n",
    "        \n",
    "def get_top_track(artist_uri):\n",
    "    if token:\n",
    "        sp = spotipy.Spotify(auth=token)\n",
    "        sp.trace = False\n",
    "        results = sp.artist_top_tracks(artist_uri)\n",
    "    \n",
    "    top_tracks = results['tracks']\n",
    "    top_track = []\n",
    "    if top_tracks:\n",
    "        for track in top_tracks:\n",
    "            album_artist = track['album']['artists'][0]['uri']\n",
    "            if album_artist == artist_uri:\n",
    "                top_track = track['uri']\n",
    "                return top_track\n",
    "                break\n",
    "            else:\n",
    "                continue\n",
    "        if not top_track:\n",
    "            top_track = top_tracks[0]['uri']\n",
    "            print(f'check {artist_uri} for top track {top_track}')\n",
    "            return top_track\n",
    "    else:\n",
    "        artist_name = sp.artist(artist_uri)['name']\n",
    "        print(f'*********No tracks found for {artist_name}*********')\n",
    "\n",
    "def chunks(lst, n):\n",
    "    \"\"\"Yield successive n-sized chunks from lst.\"\"\"\n",
    "    for i in range(0, len(lst), n):\n",
    "        yield lst[i:i + n]\n",
    "\n",
    "def update_description(venue_name, venue_url):\n",
    "    todays_date = datetime.date.today()\n",
    "    playlist_name = 'ShowQuester: ' + venue_name\n",
    "    descr = f'A programmatically-generated playlist featuring artists coming soon to {venue_name}. Ordered by date, with this week up top and events farther in the future at the bottom. Updated {todays_date}. Go to {venue_url} for tickets. Check out my GitHub for details on how this playlist is generated: [COMING SOON]'\n",
    "    results = sp.user_playlist_change_details(\n",
    "            username, playlist_id=playlist_id, name=playlist_name, description=descr)\n",
    "    print(f'Updated {playlist_name}')"
   ]
  },
  {
   "cell_type": "markdown",
   "metadata": {},
   "source": [
    "## Get calendar from Songkick API"
   ]
  },
  {
   "cell_type": "code",
   "execution_count": 289,
   "metadata": {},
   "outputs": [
    {
     "name": "stdout",
     "output_type": "stream",
     "text": [
      "Found: Polaris Hall\n"
     ]
    }
   ],
   "source": [
    "sk_api_key = os.environ.get('SONGKICK_API_KEY')\n",
    "venue_id = get_venue_id(venue_name)\n",
    "event_list = get_venue_events(venue_id)\n",
    "shows = events_df(event_list)"
   ]
  },
  {
   "cell_type": "code",
   "execution_count": 265,
   "metadata": {},
   "outputs": [],
   "source": [
    "# pickle dataframe\n",
    "today = datetime.date.today()\n",
    "today = today.strftime('%m-%d-%Y')\n",
    "pickle_name = today + \"_\" + venue_name + '_shows.pickle'\n",
    "shows.to_pickle(pickle_name)"
   ]
  },
  {
   "cell_type": "markdown",
   "metadata": {},
   "source": [
    "## Remove exact duplicates"
   ]
  },
  {
   "cell_type": "code",
   "execution_count": 290,
   "metadata": {},
   "outputs": [],
   "source": [
    "# remove exact duplicates\n",
    "artist_list = list(shows.artist)\n",
    "artist_list = list(process.dedupe(artist_list, threshold=99, scorer=fuzz.token_sort_ratio))"
   ]
  },
  {
   "cell_type": "markdown",
   "metadata": {},
   "source": [
    "## Connect to Spotify"
   ]
  },
  {
   "cell_type": "code",
   "execution_count": 299,
   "metadata": {},
   "outputs": [],
   "source": [
    "# set API authorization vars and scope\n",
    "client_id = os.environ.get('SPOTIPY_CLIENT_ID')\n",
    "client_secret = os.environ.get('SPOTIPY_CLIENT_SECRET')\n",
    "username = os.environ.get('SPOTIPY_USERNAME')\n",
    "scope = 'user-library-read playlist-modify-private playlist-modify-public playlist-read-private'\n",
    "\n",
    "# authenticate\n",
    "token = util.prompt_for_user_token(\n",
    "        username=username,\n",
    "        scope=scope,\n",
    "        client_id=client_id,\n",
    "        client_secret=client_secret,\n",
    "        redirect_uri='http://localhost/')\n",
    "\n",
    "\n",
    "sp = spotipy.Spotify(auth=token)"
   ]
  },
  {
   "cell_type": "markdown",
   "metadata": {},
   "source": [
    "## Get SoundQuester playlist info, or create a new SoundQuester playlist"
   ]
  },
  {
   "cell_type": "code",
   "execution_count": 300,
   "metadata": {},
   "outputs": [
    {
     "name": "stdout",
     "output_type": "stream",
     "text": [
      "Found playlist for Polaris Hall named \"ShowQuester: Polaris Hall\"\n"
     ]
    }
   ],
   "source": [
    "# get playlist names and uris\n",
    "my_playlists = {}\n",
    "\n",
    "if token:\n",
    "    sp = spotipy.Spotify(auth=token)\n",
    "    sp.trace = False\n",
    "    result = sp.user_playlists(username)\n",
    "\n",
    "for each in result['items']:\n",
    "    my_playlists[each['name']] = each['uri']\n",
    "\n",
    "# search playlists for a SoundQuester venue playlist\n",
    "results = [(name, uri) for name, uri in my_playlists.items() if venue_name in name]\n",
    "# if venue playlist found, get uri\n",
    "if results:\n",
    "    playlist_name, playlist_uri = results[0]\n",
    "    print(f'Found playlist for {venue_name} named \"{playlist_name}\"')\n",
    "# if venue playlist missing, create new SoundQuester playlist\n",
    "else:\n",
    "    print(f'No playlist found for \"{venue_name}\"')\n",
    "    playlist_name = 'SoundQuester: ' + venue_name\n",
    "    if token:\n",
    "        sp = spotipy.Spotify(auth=token)\n",
    "        sp.trace = False\n",
    "        results = sp.user_playlist_create(username, playlist_name, public=True)\n",
    "        playlist_uri = results['uri']\n",
    "        print(f'Created playlist for venue_name named \"{playlist_name}\"')\n",
    "        print(playlist_uri)"
   ]
  },
  {
   "cell_type": "code",
   "execution_count": 301,
   "metadata": {},
   "outputs": [
    {
     "data": {
      "text/plain": [
       "{'ShowQuester: Mississippi Studios': 'spotify:playlist:1ndO4967sqMKFsMapRUVXe',\n",
       " 'ShowQuester: Polaris Hall': 'spotify:playlist:3wyoGUeXeFAkz048JxbeBV',\n",
       " 'ShowQuester: Doug Fir Lounge': 'spotify:playlist:4TI0yIKfLQchbbUKs7c54r',\n",
       " 'ShowQuester: Wonder Ballroom': 'spotify:playlist:5s5WCIvbu6Xexnj9kKwzjq',\n",
       " \"ShowQuester: McMenamin's Crystal Ballroom\": 'spotify:playlist:5seIWANnuh0K9y7YO6s4dN',\n",
       " 'ShowQuester: Holocene': 'spotify:playlist:1j4XEP3eh73yaiEUBwmNm9',\n",
       " 'ShowQuester: Roseland Theater': 'spotify:playlist:453jgCdKEvu4WTVtsUUlNu',\n",
       " 'The Shape Of Punk To Come': 'spotify:playlist:1tEFRg4TCE9v1KVP8wIjv1',\n",
       " 'Metal Essentials': 'spotify:playlist:37i9dQZF1DWWOaP4H0w5b0',\n",
       " 'Post Punk 2k': 'spotify:playlist:37i9dQZF1DWYwMzXER4RFF',\n",
       " 'Vaporwave': 'spotify:playlist:17HYiAIcwlDEg5RgVkm4L7',\n",
       " 'album scrape': 'spotify:playlist:5vFdoBU8LfgtyV6it0G19Q',\n",
       " 'modge podge 2': 'spotify:playlist:4C21taFJ1cZp963gHwxYSB',\n",
       " 'The Dirty Thirty Get Down': 'spotify:playlist:3wtzpabS8oPQKqT71L6nxI',\n",
       " 'throwback beats': 'spotify:playlist:2YKN2qa6Ilbe3nXXVUBSFt',\n",
       " 'sami bday bash': 'spotify:playlist:3caNlZabl26NCujL4SYEi1',\n",
       " 'Backbeat Boyz': 'spotify:playlist:0F2tGZDxxco41eqBPDJheH',\n",
       " 'freshPOW': 'spotify:playlist:1DlgHAWVWr1EcPKP3NM6n4',\n",
       " 'pythene': 'spotify:playlist:2eOk9m9Z4MaFUqYG4rCqtN',\n",
       " 'Silver Springs': 'spotify:playlist:43szLulK8wgquVH90gxufG',\n",
       " 'The Midnight Hour': 'spotify:playlist:37i9dQZF1DXea80XwOJRgD',\n",
       " 'Next Wave Neo-Soul': 'spotify:playlist:37i9dQZF1DX44dZ4p5QLf4',\n",
       " 'Return of the Mack': 'spotify:playlist:6VuhnLFFLRp2xaAMaJJkEl',\n",
       " 'Women of Rock': 'spotify:playlist:37i9dQZF1DXd0ZFXhY0CRF',\n",
       " 'Walk Like A Badass': 'spotify:playlist:37i9dQZF1DX1tyCD9QhIWF',\n",
       " 'All Things Post': 'spotify:playlist:37i9dQZF1DX9Mqxt6NLTDY',\n",
       " '[INBOX]': 'spotify:playlist:1hdJtCDmj9STlWlf6c2c4U',\n",
       " 'Fierce Femmes': 'spotify:playlist:37i9dQZF1DX5kjCvsC5isB',\n",
       " 'Pynk Bounce': 'spotify:playlist:4ItPFL66hguvJXwdxVQ0Bj',\n",
       " 'Release Radar': 'spotify:playlist:37i9dQZEVXblrJESC2wtAi',\n",
       " 'Lofi Hip-Hop': 'spotify:playlist:37i9dQZF1DX36Xw4IJIVKA',\n",
       " \"songs so beautiful they make me say 'ow'\": 'spotify:playlist:2SUkl5rqV0rwOlTIuF58Ju',\n",
       " 'side-0': 'spotify:playlist:2t0kXIDdyntdimjNT1ktMa',\n",
       " 'side-b': 'spotify:playlist:2I5iY72uQlRMXuxJDdR5XC',\n",
       " 'side-a': 'spotify:playlist:0Igw1FBASCYxV631U9EeAU',\n",
       " 'Everywhere': 'spotify:playlist:4FbgSxRUwvcmUimEz5C2ui',\n",
       " 'bubblegum': 'spotify:playlist:0ixArOwVaghRhH4EIHmhtb',\n",
       " 'Jazz Rap': 'spotify:playlist:37i9dQZF1DX8Kgdykz6OKj',\n",
       " 'grow': 'spotify:playlist:5J6VKZ3Otx2mgukzTUTAeQ',\n",
       " 'a.paak': 'spotify:playlist:1eCEYlpX2pKouodluH3qce',\n",
       " 'Signed XOXO': 'spotify:playlist:37i9dQZF1DX2A29LI7xHn1',\n",
       " 'Hype': 'spotify:playlist:37i9dQZF1DX4eRPd9frC1m',\n",
       " 'Starred': 'spotify:playlist:43cBhm1s4wrwIHTa0yGIlh',\n",
       " 'freshies': 'spotify:playlist:6uyKfDsY1gYjNOkeaiQwpV',\n",
       " 'Satisfied': 'spotify:playlist:4rGoQzD7ZjZnXNQCmAskKH',\n",
       " 'Birdsong': 'spotify:playlist:7BP6V8qKWyBP4J5aPBaABT',\n",
       " 'Oh Devil': 'spotify:playlist:3NfxaJAv1pQnaczgJgT30n',\n",
       " 'RapCaviar': 'spotify:playlist:37i9dQZF1DX0XUsuxWHRQd',\n",
       " 'Silk Sheets': 'spotify:playlist:37i9dQZF1DWVGy1YP1ojM5',\n",
       " 'This Is James Blake': 'spotify:playlist:37i9dQZF1DXb0j2lQMFxFe'}"
      ]
     },
     "execution_count": 301,
     "metadata": {},
     "output_type": "execute_result"
    }
   ],
   "source": [
    "my_playlists"
   ]
  },
  {
   "cell_type": "markdown",
   "metadata": {},
   "source": [
    "## Get Spotify artist objects for each performer"
   ]
  },
  {
   "cell_type": "code",
   "execution_count": 293,
   "metadata": {},
   "outputs": [
    {
     "name": "stdout",
     "output_type": "stream",
     "text": [
      "\"The Shivas (OR)\" was not found on Spotify.\n"
     ]
    }
   ],
   "source": [
    "# retrieve all artist objects for performing artists\n",
    "artist_obj = []\n",
    "for artist in artist_list:\n",
    "    artist_obj.append(get_artist(artist))"
   ]
  },
  {
   "cell_type": "markdown",
   "metadata": {},
   "source": [
    "## Pulling tracks to add to the playlist"
   ]
  },
  {
   "cell_type": "code",
   "execution_count": 294,
   "metadata": {},
   "outputs": [
    {
     "name": "stdout",
     "output_type": "stream",
     "text": [
      "check spotify:artist:3trCmV1zHVJj8OnEdzOrlD for top track spotify:track:0qOMTezsihwX8uhjE76HgG\n"
     ]
    }
   ],
   "source": [
    "tracks_to_add = []\n",
    "for artist in artist_obj:\n",
    "    if artist is not None:\n",
    "        artist_uri = artist['uri']\n",
    "        track = get_top_track(artist_uri)\n",
    "        tracks_to_add.append(track)"
   ]
  },
  {
   "cell_type": "markdown",
   "metadata": {},
   "source": [
    "## Update playlist with new track list"
   ]
  },
  {
   "cell_type": "code",
   "execution_count": 295,
   "metadata": {},
   "outputs": [],
   "source": [
    "# filter out empty strings where no track was found\n",
    "tracks_to_add = list(filter(None, tracks_to_add))"
   ]
  },
  {
   "cell_type": "code",
   "execution_count": 296,
   "metadata": {},
   "outputs": [],
   "source": [
    "# batch tracks into 100's to respect Spotify Web API limits\n",
    "track_batches = list(chunks(tracks_to_add, 100))"
   ]
  },
  {
   "cell_type": "code",
   "execution_count": 297,
   "metadata": {},
   "outputs": [],
   "source": [
    "# update playlist with new track list\n",
    "playlist_id = playlist_uri.split(':')[2]\n",
    "\n",
    "for i in range(0,len(track_batches)):  # for each batch of tracks\n",
    "    track_uris = track_batches[i]\n",
    "    # if first batch, replace playlist \n",
    "    if i == 0:\n",
    "        if token:\n",
    "            sp = spotipy.Spotify(auth=token)\n",
    "            sp.trace = False\n",
    "            result = sp.user_playlist_replace_tracks(username, playlist_id, track_uris)\n",
    "    else:\n",
    "        if token:\n",
    "            sp = spotipy.Spotify(auth=token)\n",
    "            sp.trace = False\n",
    "            results = sp.user_playlist_add_tracks(username, playlist_id, track_uris)"
   ]
  },
  {
   "cell_type": "markdown",
   "metadata": {},
   "source": [
    "## Update playlist info"
   ]
  },
  {
   "cell_type": "code",
   "execution_count": 298,
   "metadata": {},
   "outputs": [
    {
     "name": "stdout",
     "output_type": "stream",
     "text": [
      "Updated ShowQuester: Polaris Hall\n"
     ]
    }
   ],
   "source": [
    "# update playlist info\n",
    "update_description(venue_name, venue_url)"
   ]
  },
  {
   "cell_type": "code",
   "execution_count": null,
   "metadata": {},
   "outputs": [],
   "source": []
  }
 ],
 "metadata": {
  "kernelspec": {
   "display_name": "Python 3",
   "language": "python",
   "name": "python3"
  },
  "language_info": {
   "codemirror_mode": {
    "name": "ipython",
    "version": 3
   },
   "file_extension": ".py",
   "mimetype": "text/x-python",
   "name": "python",
   "nbconvert_exporter": "python",
   "pygments_lexer": "ipython3",
   "version": "3.8.0"
  }
 },
 "nbformat": 4,
 "nbformat_minor": 2
}
