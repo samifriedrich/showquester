{
 "cells": [
  {
   "cell_type": "code",
   "execution_count": 287,
   "metadata": {},
   "outputs": [
    {
     "data": {
      "text/plain": [
       "True"
      ]
     },
     "execution_count": 287,
     "metadata": {},
     "output_type": "execute_result"
    }
   ],
   "source": [
    "# load environmental variables\n",
    "from dotenv import load_dotenv\n",
    "load_dotenv()"
   ]
  },
  {
   "cell_type": "markdown",
   "metadata": {},
   "source": [
    "# Scrape Mississippi Studios calendar"
   ]
  },
  {
   "cell_type": "code",
   "execution_count": 286,
   "metadata": {},
   "outputs": [],
   "source": [
    "# load libraries\n",
    "import os\n",
    "import spotipy\n",
    "import spotipy.util as util\n",
    "\n",
    "import pickle\n",
    "\n",
    "import requests\n",
    "from bs4 import BeautifulSoup\n",
    "import re\n",
    "import pandas as pd\n",
    "\n",
    "import datetime"
   ]
  },
  {
   "cell_type": "code",
   "execution_count": 3,
   "metadata": {},
   "outputs": [],
   "source": [
    "# scrape calendar page for mississippi\n",
    "site = \"https://www.mississippistudios.com/calendar/\"\n",
    "# no headers\n",
    "response = requests.get(site)\n",
    "content = response.content"
   ]
  },
  {
   "cell_type": "markdown",
   "metadata": {},
   "source": [
    "## Parse the scraped website using BeautifulSoup4"
   ]
  },
  {
   "cell_type": "code",
   "execution_count": 4,
   "metadata": {},
   "outputs": [],
   "source": [
    "soup = BeautifulSoup(content, 'lxml')"
   ]
  },
  {
   "cell_type": "markdown",
   "metadata": {},
   "source": [
    "### BROKEN: Save data as a text file\n",
    "It seems that BeautifulSoup objects cannot be pickled...\n",
    "\n",
    "Will need to save html from the initial URL request if we want to do this, or alternatively just output the dataframe."
   ]
  },
  {
   "cell_type": "code",
   "execution_count": 138,
   "metadata": {},
   "outputs": [
    {
     "data": {
      "text/plain": [
       "'2020-02-20_mississippi_studios_cal.txt'"
      ]
     },
     "execution_count": 138,
     "metadata": {},
     "output_type": "execute_result"
    }
   ],
   "source": [
    "# give today's date to file name\n",
    "todays_date = datetime.date.today()\n",
    "filename = str(todays_date) + '_mississippi_studios_cal.txt'\n",
    "filename"
   ]
  },
  {
   "cell_type": "code",
   "execution_count": null,
   "metadata": {},
   "outputs": [],
   "source": [
    "# write data to file\n",
    "#filename = '2020-01-22_mississippi_studios_cal.txt'\n",
    "f = open( filename, 'w' )\n",
    "f.write(soup.prettify())\n",
    "f.close()"
   ]
  },
  {
   "cell_type": "code",
   "execution_count": 285,
   "metadata": {},
   "outputs": [],
   "source": [
    "# load a file\n",
    "filename = '2020-02-18_mississippi_studios_cal.txt'\n",
    "with open(filename) as f:\n",
    "    soup = BeautifulSoup(f.read(), 'lxml')"
   ]
  },
  {
   "cell_type": "markdown",
   "metadata": {},
   "source": [
    "## Parse the soup"
   ]
  },
  {
   "cell_type": "code",
   "execution_count": 5,
   "metadata": {},
   "outputs": [],
   "source": [
    "days = soup.find_all('td')\n",
    "\n",
    "dates = []\n",
    "headliners = []\n",
    "openers = []\n",
    "venues = []\n",
    "\n",
    "for day in days:\n",
    "    \n",
    "    events = day.find_all(class_='one-event')\n",
    "    if events:\n",
    "            date = day.section.span['title']\n",
    "\n",
    "    for event in events:\n",
    "        # record a date\n",
    "        dates.append(date)\n",
    "        \n",
    "        # record venue\n",
    "        venue = event.find(class_='venue').text\n",
    "        venues.append(venue)\n",
    "        \n",
    "        # get headliner and add to list\n",
    "        heads = event.find(class_='headliners').text\n",
    "        headliners.append(heads)\n",
    "        \n",
    "        # get openers and add to list \n",
    "        supps = event.find_all(class_='supports')\n",
    "        \n",
    "        opener_list = []\n",
    "        for supp in supps:\n",
    "            opener_list.append(supp.text)\n",
    "\n",
    "        # format multiple openers to match multiple headliners\n",
    "        # (to allow vectorized string methods later on)\n",
    "        opener_string = ' / '.join(opener_list)\n",
    "        \n",
    "        openers.append(opener_string)"
   ]
  },
  {
   "cell_type": "code",
   "execution_count": 72,
   "metadata": {},
   "outputs": [
    {
     "data": {
      "text/html": [
       "<div>\n",
       "<style scoped>\n",
       "    .dataframe tbody tr th:only-of-type {\n",
       "        vertical-align: middle;\n",
       "    }\n",
       "\n",
       "    .dataframe tbody tr th {\n",
       "        vertical-align: top;\n",
       "    }\n",
       "\n",
       "    .dataframe thead th {\n",
       "        text-align: right;\n",
       "    }\n",
       "</style>\n",
       "<table border=\"1\" class=\"dataframe\">\n",
       "  <thead>\n",
       "    <tr style=\"text-align: right;\">\n",
       "      <th></th>\n",
       "      <th>headliners</th>\n",
       "      <th>openers</th>\n",
       "      <th>date</th>\n",
       "      <th>venue</th>\n",
       "    </tr>\n",
       "  </thead>\n",
       "  <tbody>\n",
       "    <tr>\n",
       "      <th>0</th>\n",
       "      <td>Trout Steak Revival</td>\n",
       "      <td>Left Coast Country</td>\n",
       "      <td>2020-02-19T00:00:00-08:00</td>\n",
       "      <td>Mississippi Studios</td>\n",
       "    </tr>\n",
       "    <tr>\n",
       "      <th>1</th>\n",
       "      <td>Dustbowl Revival</td>\n",
       "      <td>Jared &amp; The Mill</td>\n",
       "      <td>2020-02-20T00:00:00-08:00</td>\n",
       "      <td>Mississippi Studios</td>\n",
       "    </tr>\n",
       "    <tr>\n",
       "      <th>2</th>\n",
       "      <td>Mike and the Moonpies / Quaker City Night Hawks</td>\n",
       "      <td></td>\n",
       "      <td>2020-02-21T00:00:00-08:00</td>\n",
       "      <td>Polaris Hall</td>\n",
       "    </tr>\n",
       "    <tr>\n",
       "      <th>3</th>\n",
       "      <td>Sexy Pants</td>\n",
       "      <td>Internet Beef / Rap Class</td>\n",
       "      <td>2020-02-21T00:00:00-08:00</td>\n",
       "      <td>Mississippi Studios</td>\n",
       "    </tr>\n",
       "    <tr>\n",
       "      <th>4</th>\n",
       "      <td>Dirty Honey - Rolling 7s Tour</td>\n",
       "      <td>The Amazons</td>\n",
       "      <td>2020-02-22T00:00:00-08:00</td>\n",
       "      <td>Polaris Hall</td>\n",
       "    </tr>\n",
       "    <tr>\n",
       "      <th>...</th>\n",
       "      <td>...</td>\n",
       "      <td>...</td>\n",
       "      <td>...</td>\n",
       "      <td>...</td>\n",
       "    </tr>\n",
       "    <tr>\n",
       "      <th>106</th>\n",
       "      <td>The BellRays / Slim Cessna's Auto Club</td>\n",
       "      <td></td>\n",
       "      <td>2020-06-18T00:00:00-07:00</td>\n",
       "      <td>Mississippi Studios</td>\n",
       "    </tr>\n",
       "    <tr>\n",
       "      <th>107</th>\n",
       "      <td>Bing &amp; Ruth</td>\n",
       "      <td></td>\n",
       "      <td>2020-06-19T00:00:00-07:00</td>\n",
       "      <td>Mississippi Studios</td>\n",
       "    </tr>\n",
       "    <tr>\n",
       "      <th>108</th>\n",
       "      <td>Polaris (from The Adventures of Pete &amp; Pete)</td>\n",
       "      <td></td>\n",
       "      <td>2020-07-08T00:00:00-07:00</td>\n",
       "      <td>Mississippi Studios</td>\n",
       "    </tr>\n",
       "    <tr>\n",
       "      <th>109</th>\n",
       "      <td>Archers Of Loaf</td>\n",
       "      <td></td>\n",
       "      <td>2020-07-09T00:00:00-07:00</td>\n",
       "      <td>Mississippi Studios</td>\n",
       "    </tr>\n",
       "    <tr>\n",
       "      <th>110</th>\n",
       "      <td>Archers Of Loaf</td>\n",
       "      <td></td>\n",
       "      <td>2020-07-10T00:00:00-07:00</td>\n",
       "      <td>Mississippi Studios</td>\n",
       "    </tr>\n",
       "  </tbody>\n",
       "</table>\n",
       "<p>111 rows × 4 columns</p>\n",
       "</div>"
      ],
      "text/plain": [
       "                                          headliners  \\\n",
       "0                                Trout Steak Revival   \n",
       "1                                   Dustbowl Revival   \n",
       "2    Mike and the Moonpies / Quaker City Night Hawks   \n",
       "3                                         Sexy Pants   \n",
       "4                      Dirty Honey - Rolling 7s Tour   \n",
       "..                                               ...   \n",
       "106           The BellRays / Slim Cessna's Auto Club   \n",
       "107                                      Bing & Ruth   \n",
       "108     Polaris (from The Adventures of Pete & Pete)   \n",
       "109                                  Archers Of Loaf   \n",
       "110                                  Archers Of Loaf   \n",
       "\n",
       "                       openers                       date                venue  \n",
       "0           Left Coast Country  2020-02-19T00:00:00-08:00  Mississippi Studios  \n",
       "1             Jared & The Mill  2020-02-20T00:00:00-08:00  Mississippi Studios  \n",
       "2                               2020-02-21T00:00:00-08:00         Polaris Hall  \n",
       "3    Internet Beef / Rap Class  2020-02-21T00:00:00-08:00  Mississippi Studios  \n",
       "4                  The Amazons  2020-02-22T00:00:00-08:00         Polaris Hall  \n",
       "..                         ...                        ...                  ...  \n",
       "106                             2020-06-18T00:00:00-07:00  Mississippi Studios  \n",
       "107                             2020-06-19T00:00:00-07:00  Mississippi Studios  \n",
       "108                             2020-07-08T00:00:00-07:00  Mississippi Studios  \n",
       "109                             2020-07-09T00:00:00-07:00  Mississippi Studios  \n",
       "110                             2020-07-10T00:00:00-07:00  Mississippi Studios  \n",
       "\n",
       "[111 rows x 4 columns]"
      ]
     },
     "execution_count": 72,
     "metadata": {},
     "output_type": "execute_result"
    }
   ],
   "source": [
    "d = {'headliners': headliners, 'openers': openers, 'date': dates, 'venue': venues}\n",
    "all_shows = pd.DataFrame(data = d)\n",
    "all_shows"
   ]
  },
  {
   "cell_type": "markdown",
   "metadata": {},
   "source": [
    "## Pickling the `all_shows` dataframe"
   ]
  },
  {
   "cell_type": "code",
   "execution_count": 14,
   "metadata": {},
   "outputs": [
    {
     "data": {
      "text/plain": [
       "'02-19-2020_all_shows.pickle'"
      ]
     },
     "execution_count": 14,
     "metadata": {},
     "output_type": "execute_result"
    }
   ],
   "source": [
    "today = datetime.date.today()\n",
    "today = today.strftime('%m-%d-%Y')\n",
    "pickle_name = today + '_all_shows.pickle'\n",
    "pickle_name"
   ]
  },
  {
   "cell_type": "code",
   "execution_count": 15,
   "metadata": {},
   "outputs": [],
   "source": [
    "# pickle the dataframe\n",
    "all_shows.to_pickle(pickle_name)"
   ]
  },
  {
   "cell_type": "code",
   "execution_count": 63,
   "metadata": {},
   "outputs": [
    {
     "data": {
      "text/html": [
       "<div>\n",
       "<style scoped>\n",
       "    .dataframe tbody tr th:only-of-type {\n",
       "        vertical-align: middle;\n",
       "    }\n",
       "\n",
       "    .dataframe tbody tr th {\n",
       "        vertical-align: top;\n",
       "    }\n",
       "\n",
       "    .dataframe thead th {\n",
       "        text-align: right;\n",
       "    }\n",
       "</style>\n",
       "<table border=\"1\" class=\"dataframe\">\n",
       "  <thead>\n",
       "    <tr style=\"text-align: right;\">\n",
       "      <th></th>\n",
       "      <th>headliners</th>\n",
       "      <th>openers</th>\n",
       "      <th>date</th>\n",
       "      <th>venue</th>\n",
       "    </tr>\n",
       "  </thead>\n",
       "  <tbody>\n",
       "    <tr>\n",
       "      <th>0</th>\n",
       "      <td>Trout Steak Revival</td>\n",
       "      <td>Left Coast Country</td>\n",
       "      <td>2020-02-19T00:00:00-08:00</td>\n",
       "      <td>Mississippi Studios</td>\n",
       "    </tr>\n",
       "    <tr>\n",
       "      <th>1</th>\n",
       "      <td>Dustbowl Revival</td>\n",
       "      <td>Jared &amp; The Mill</td>\n",
       "      <td>2020-02-20T00:00:00-08:00</td>\n",
       "      <td>Mississippi Studios</td>\n",
       "    </tr>\n",
       "    <tr>\n",
       "      <th>2</th>\n",
       "      <td>Mike and the Moonpies / Quaker City Night Hawks</td>\n",
       "      <td></td>\n",
       "      <td>2020-02-21T00:00:00-08:00</td>\n",
       "      <td>Polaris Hall</td>\n",
       "    </tr>\n",
       "    <tr>\n",
       "      <th>3</th>\n",
       "      <td>Sexy Pants</td>\n",
       "      <td>Internet Beef / Rap Class</td>\n",
       "      <td>2020-02-21T00:00:00-08:00</td>\n",
       "      <td>Mississippi Studios</td>\n",
       "    </tr>\n",
       "    <tr>\n",
       "      <th>4</th>\n",
       "      <td>Dirty Honey - Rolling 7s Tour</td>\n",
       "      <td>The Amazons</td>\n",
       "      <td>2020-02-22T00:00:00-08:00</td>\n",
       "      <td>Polaris Hall</td>\n",
       "    </tr>\n",
       "  </tbody>\n",
       "</table>\n",
       "</div>"
      ],
      "text/plain": [
       "                                        headliners                    openers  \\\n",
       "0                              Trout Steak Revival         Left Coast Country   \n",
       "1                                 Dustbowl Revival           Jared & The Mill   \n",
       "2  Mike and the Moonpies / Quaker City Night Hawks                              \n",
       "3                                       Sexy Pants  Internet Beef / Rap Class   \n",
       "4                    Dirty Honey - Rolling 7s Tour                The Amazons   \n",
       "\n",
       "                        date                venue  \n",
       "0  2020-02-19T00:00:00-08:00  Mississippi Studios  \n",
       "1  2020-02-20T00:00:00-08:00  Mississippi Studios  \n",
       "2  2020-02-21T00:00:00-08:00         Polaris Hall  \n",
       "3  2020-02-21T00:00:00-08:00  Mississippi Studios  \n",
       "4  2020-02-22T00:00:00-08:00         Polaris Hall  "
      ]
     },
     "execution_count": 63,
     "metadata": {},
     "output_type": "execute_result"
    }
   ],
   "source": [
    "# load the pickled dataframe\n",
    "all_shows = pd.read_pickle('02-19-2020_all_shows.pickle')\n",
    "all_shows.head()"
   ]
  },
  {
   "cell_type": "markdown",
   "metadata": {},
   "source": [
    "## Remove cancelled shows and shows moved to other venues"
   ]
  },
  {
   "cell_type": "code",
   "execution_count": 288,
   "metadata": {},
   "outputs": [],
   "source": [
    "# convert all strings to lowercase\n",
    "all_shows['headliners'] = all_shows['headliners'].str.lower()\n",
    "all_shows['openers'] = all_shows['openers'].str.lower()\n",
    "all_shows['venue'] = all_shows['venue'].str.lower()"
   ]
  },
  {
   "cell_type": "code",
   "execution_count": 289,
   "metadata": {},
   "outputs": [],
   "source": [
    "# remove cancelled shows\n",
    "shows = all_shows[~all_shows['headliners'].str.contains('cancelled')]"
   ]
  },
  {
   "cell_type": "code",
   "execution_count": 290,
   "metadata": {},
   "outputs": [],
   "source": [
    "# remove shows that have been moved to other venues\n",
    "shows = shows[~shows['headliners'].str.contains('moved to')]"
   ]
  },
  {
   "cell_type": "code",
   "execution_count": 291,
   "metadata": {},
   "outputs": [
    {
     "data": {
      "text/html": [
       "<div>\n",
       "<style scoped>\n",
       "    .dataframe tbody tr th:only-of-type {\n",
       "        vertical-align: middle;\n",
       "    }\n",
       "\n",
       "    .dataframe tbody tr th {\n",
       "        vertical-align: top;\n",
       "    }\n",
       "\n",
       "    .dataframe thead th {\n",
       "        text-align: right;\n",
       "    }\n",
       "</style>\n",
       "<table border=\"1\" class=\"dataframe\">\n",
       "  <thead>\n",
       "    <tr style=\"text-align: right;\">\n",
       "      <th></th>\n",
       "      <th>headliners</th>\n",
       "      <th>openers</th>\n",
       "      <th>date</th>\n",
       "      <th>venue</th>\n",
       "    </tr>\n",
       "  </thead>\n",
       "  <tbody>\n",
       "    <tr>\n",
       "      <th>0</th>\n",
       "      <td>trout steak revival</td>\n",
       "      <td>left coast country</td>\n",
       "      <td>2020-02-19T00:00:00-08:00</td>\n",
       "      <td>mississippi studios</td>\n",
       "    </tr>\n",
       "    <tr>\n",
       "      <th>1</th>\n",
       "      <td>dustbowl revival</td>\n",
       "      <td>jared &amp; the mill</td>\n",
       "      <td>2020-02-20T00:00:00-08:00</td>\n",
       "      <td>mississippi studios</td>\n",
       "    </tr>\n",
       "    <tr>\n",
       "      <th>2</th>\n",
       "      <td>mike and the moonpies / quaker city night hawks</td>\n",
       "      <td></td>\n",
       "      <td>2020-02-21T00:00:00-08:00</td>\n",
       "      <td>polaris hall</td>\n",
       "    </tr>\n",
       "    <tr>\n",
       "      <th>3</th>\n",
       "      <td>sexy pants</td>\n",
       "      <td>internet beef / rap class</td>\n",
       "      <td>2020-02-21T00:00:00-08:00</td>\n",
       "      <td>mississippi studios</td>\n",
       "    </tr>\n",
       "    <tr>\n",
       "      <th>4</th>\n",
       "      <td>dirty honey - rolling 7s tour</td>\n",
       "      <td>the amazons</td>\n",
       "      <td>2020-02-22T00:00:00-08:00</td>\n",
       "      <td>polaris hall</td>\n",
       "    </tr>\n",
       "  </tbody>\n",
       "</table>\n",
       "</div>"
      ],
      "text/plain": [
       "                                        headliners                    openers  \\\n",
       "0                              trout steak revival         left coast country   \n",
       "1                                 dustbowl revival           jared & the mill   \n",
       "2  mike and the moonpies / quaker city night hawks                              \n",
       "3                                       sexy pants  internet beef / rap class   \n",
       "4                    dirty honey - rolling 7s tour                the amazons   \n",
       "\n",
       "                        date                venue  \n",
       "0  2020-02-19T00:00:00-08:00  mississippi studios  \n",
       "1  2020-02-20T00:00:00-08:00  mississippi studios  \n",
       "2  2020-02-21T00:00:00-08:00         polaris hall  \n",
       "3  2020-02-21T00:00:00-08:00  mississippi studios  \n",
       "4  2020-02-22T00:00:00-08:00         polaris hall  "
      ]
     },
     "execution_count": 291,
     "metadata": {},
     "output_type": "execute_result"
    }
   ],
   "source": [
    "shows.head()"
   ]
  },
  {
   "cell_type": "markdown",
   "metadata": {},
   "source": [
    "## Combine headliners and openers into a single string\n",
    "\n",
    "I decided to do this so that I use vectorized string methods on **all** artist listings **at once**. To keep consistent with the Mississippi calendar scheme, I'll use a ` / ` as a seperator.\n",
    "\n",
    "Alternatively, I could've written my cleaning functions then applied them to a list of `[shows['headliners'], shows['openers']]`."
   ]
  },
  {
   "cell_type": "code",
   "execution_count": 292,
   "metadata": {},
   "outputs": [],
   "source": [
    "# create full event lineup as a single string\n",
    "marquee = []\n",
    "for index, row in shows.iterrows():\n",
    "    # if no openers, billing is just headliner(s)\n",
    "    if not row['openers']:  \n",
    "        performers = row['headliners']\n",
    "    # if openers, billing is headliner(s) + opener(s)\n",
    "    else:\n",
    "        performers = row['headliners'] + \" / \" + row['openers']\n",
    "    \n",
    "    marquee.append(performers)"
   ]
  },
  {
   "cell_type": "code",
   "execution_count": 293,
   "metadata": {},
   "outputs": [
    {
     "data": {
      "text/html": [
       "<div>\n",
       "<style scoped>\n",
       "    .dataframe tbody tr th:only-of-type {\n",
       "        vertical-align: middle;\n",
       "    }\n",
       "\n",
       "    .dataframe tbody tr th {\n",
       "        vertical-align: top;\n",
       "    }\n",
       "\n",
       "    .dataframe thead th {\n",
       "        text-align: right;\n",
       "    }\n",
       "</style>\n",
       "<table border=\"1\" class=\"dataframe\">\n",
       "  <thead>\n",
       "    <tr style=\"text-align: right;\">\n",
       "      <th></th>\n",
       "      <th>headliners</th>\n",
       "      <th>openers</th>\n",
       "      <th>date</th>\n",
       "      <th>venue</th>\n",
       "      <th>marquee</th>\n",
       "    </tr>\n",
       "  </thead>\n",
       "  <tbody>\n",
       "    <tr>\n",
       "      <th>0</th>\n",
       "      <td>trout steak revival</td>\n",
       "      <td>left coast country</td>\n",
       "      <td>2020-02-19T00:00:00-08:00</td>\n",
       "      <td>mississippi studios</td>\n",
       "      <td>trout steak revival / left coast country</td>\n",
       "    </tr>\n",
       "    <tr>\n",
       "      <th>1</th>\n",
       "      <td>dustbowl revival</td>\n",
       "      <td>jared &amp; the mill</td>\n",
       "      <td>2020-02-20T00:00:00-08:00</td>\n",
       "      <td>mississippi studios</td>\n",
       "      <td>dustbowl revival / jared &amp; the mill</td>\n",
       "    </tr>\n",
       "    <tr>\n",
       "      <th>2</th>\n",
       "      <td>mike and the moonpies / quaker city night hawks</td>\n",
       "      <td></td>\n",
       "      <td>2020-02-21T00:00:00-08:00</td>\n",
       "      <td>polaris hall</td>\n",
       "      <td>mike and the moonpies / quaker city night hawks</td>\n",
       "    </tr>\n",
       "    <tr>\n",
       "      <th>3</th>\n",
       "      <td>sexy pants</td>\n",
       "      <td>internet beef / rap class</td>\n",
       "      <td>2020-02-21T00:00:00-08:00</td>\n",
       "      <td>mississippi studios</td>\n",
       "      <td>sexy pants / internet beef / rap class</td>\n",
       "    </tr>\n",
       "    <tr>\n",
       "      <th>4</th>\n",
       "      <td>dirty honey - rolling 7s tour</td>\n",
       "      <td>the amazons</td>\n",
       "      <td>2020-02-22T00:00:00-08:00</td>\n",
       "      <td>polaris hall</td>\n",
       "      <td>dirty honey - rolling 7s tour / the amazons</td>\n",
       "    </tr>\n",
       "    <tr>\n",
       "      <th>...</th>\n",
       "      <td>...</td>\n",
       "      <td>...</td>\n",
       "      <td>...</td>\n",
       "      <td>...</td>\n",
       "      <td>...</td>\n",
       "    </tr>\n",
       "    <tr>\n",
       "      <th>106</th>\n",
       "      <td>the bellrays / slim cessna's auto club</td>\n",
       "      <td></td>\n",
       "      <td>2020-06-18T00:00:00-07:00</td>\n",
       "      <td>mississippi studios</td>\n",
       "      <td>the bellrays / slim cessna's auto club</td>\n",
       "    </tr>\n",
       "    <tr>\n",
       "      <th>107</th>\n",
       "      <td>bing &amp; ruth</td>\n",
       "      <td></td>\n",
       "      <td>2020-06-19T00:00:00-07:00</td>\n",
       "      <td>mississippi studios</td>\n",
       "      <td>bing &amp; ruth</td>\n",
       "    </tr>\n",
       "    <tr>\n",
       "      <th>108</th>\n",
       "      <td>polaris (from the adventures of pete &amp; pete)</td>\n",
       "      <td></td>\n",
       "      <td>2020-07-08T00:00:00-07:00</td>\n",
       "      <td>mississippi studios</td>\n",
       "      <td>polaris (from the adventures of pete &amp; pete)</td>\n",
       "    </tr>\n",
       "    <tr>\n",
       "      <th>109</th>\n",
       "      <td>archers of loaf</td>\n",
       "      <td></td>\n",
       "      <td>2020-07-09T00:00:00-07:00</td>\n",
       "      <td>mississippi studios</td>\n",
       "      <td>archers of loaf</td>\n",
       "    </tr>\n",
       "    <tr>\n",
       "      <th>110</th>\n",
       "      <td>archers of loaf</td>\n",
       "      <td></td>\n",
       "      <td>2020-07-10T00:00:00-07:00</td>\n",
       "      <td>mississippi studios</td>\n",
       "      <td>archers of loaf</td>\n",
       "    </tr>\n",
       "  </tbody>\n",
       "</table>\n",
       "<p>110 rows × 5 columns</p>\n",
       "</div>"
      ],
      "text/plain": [
       "                                          headliners  \\\n",
       "0                                trout steak revival   \n",
       "1                                   dustbowl revival   \n",
       "2    mike and the moonpies / quaker city night hawks   \n",
       "3                                         sexy pants   \n",
       "4                      dirty honey - rolling 7s tour   \n",
       "..                                               ...   \n",
       "106           the bellrays / slim cessna's auto club   \n",
       "107                                      bing & ruth   \n",
       "108     polaris (from the adventures of pete & pete)   \n",
       "109                                  archers of loaf   \n",
       "110                                  archers of loaf   \n",
       "\n",
       "                       openers                       date  \\\n",
       "0           left coast country  2020-02-19T00:00:00-08:00   \n",
       "1             jared & the mill  2020-02-20T00:00:00-08:00   \n",
       "2                               2020-02-21T00:00:00-08:00   \n",
       "3    internet beef / rap class  2020-02-21T00:00:00-08:00   \n",
       "4                  the amazons  2020-02-22T00:00:00-08:00   \n",
       "..                         ...                        ...   \n",
       "106                             2020-06-18T00:00:00-07:00   \n",
       "107                             2020-06-19T00:00:00-07:00   \n",
       "108                             2020-07-08T00:00:00-07:00   \n",
       "109                             2020-07-09T00:00:00-07:00   \n",
       "110                             2020-07-10T00:00:00-07:00   \n",
       "\n",
       "                   venue                                          marquee  \n",
       "0    mississippi studios         trout steak revival / left coast country  \n",
       "1    mississippi studios              dustbowl revival / jared & the mill  \n",
       "2           polaris hall  mike and the moonpies / quaker city night hawks  \n",
       "3    mississippi studios           sexy pants / internet beef / rap class  \n",
       "4           polaris hall      dirty honey - rolling 7s tour / the amazons  \n",
       "..                   ...                                              ...  \n",
       "106  mississippi studios           the bellrays / slim cessna's auto club  \n",
       "107  mississippi studios                                      bing & ruth  \n",
       "108  mississippi studios     polaris (from the adventures of pete & pete)  \n",
       "109  mississippi studios                                  archers of loaf  \n",
       "110  mississippi studios                                  archers of loaf  \n",
       "\n",
       "[110 rows x 5 columns]"
      ]
     },
     "execution_count": 293,
     "metadata": {},
     "output_type": "execute_result"
    }
   ],
   "source": [
    "# save combined lineup to shows dataframe as a new column 'marquee'\n",
    "shows['marquee'] = marquee\n",
    "shows"
   ]
  },
  {
   "cell_type": "code",
   "execution_count": 294,
   "metadata": {},
   "outputs": [
    {
     "data": {
      "text/plain": [
       "'sold out: stumpfest ix: high on fire / lord dying / black cobra / night swim / semantron / mike scheidt (solo)'"
      ]
     },
     "execution_count": 294,
     "metadata": {},
     "output_type": "execute_result"
    }
   ],
   "source": [
    "shows[shows['marquee'].str.contains('mike')]['marquee'][87]"
   ]
  },
  {
   "cell_type": "markdown",
   "metadata": {},
   "source": [
    "# Cleaning strings\n",
    "\n",
    "- remove 'an evening with' and 'an evening of'\n",
    "- remove 'sold out: '\n",
    "- remove 'solo' and '(solo)'\n",
    "- remove 'unplugged'"
   ]
  },
  {
   "cell_type": "code",
   "execution_count": 295,
   "metadata": {},
   "outputs": [
    {
     "data": {
      "text/plain": [
       "28    sold out: jason lytle: an evening of acoustic ...\n",
       "29    jason lytle: an evening of acoustic piano and ...\n",
       "50      an evening with caitlin canty with noam pikelny\n",
       "61                 an evening with steep canyon rangers\n",
       "73                           an evening with dan mangan\n",
       "Name: marquee, dtype: object"
      ]
     },
     "execution_count": 295,
     "metadata": {},
     "output_type": "execute_result"
    }
   ],
   "source": [
    "# playing with the pattern\n",
    "# unclear why adding a '\\b' after 'evening' results in 0 hits\n",
    "pattern = r\"\\ban evening (?:of|with) \"\n",
    "shows[shows['marquee'].str.contains(pattern)]['marquee']"
   ]
  },
  {
   "cell_type": "code",
   "execution_count": 296,
   "metadata": {},
   "outputs": [],
   "source": [
    "# remove \"an evening of/with \" from artist strings\n",
    "pattern = r\"\\ban evening (?:of|with) \"\n",
    "shows['marquee'] = [re.sub(pattern, \"\", each) for each in shows['marquee']]"
   ]
  },
  {
   "cell_type": "code",
   "execution_count": 297,
   "metadata": {},
   "outputs": [
    {
     "data": {
      "text/plain": [
       "Series([], Name: marquee, dtype: object)"
      ]
     },
     "execution_count": 297,
     "metadata": {},
     "output_type": "execute_result"
    }
   ],
   "source": [
    "# confirm\n",
    "shows[shows['marquee'].str.contains(pattern)]['marquee']"
   ]
  },
  {
   "cell_type": "code",
   "execution_count": 298,
   "metadata": {},
   "outputs": [],
   "source": [
    "# remove \"sold out: \" from artist strings\n",
    "shows['marquee'] = shows['marquee'].str.replace('sold out: ','')"
   ]
  },
  {
   "cell_type": "code",
   "execution_count": 299,
   "metadata": {},
   "outputs": [
    {
     "data": {
      "text/plain": [
       "Series([], Name: marquee, dtype: object)"
      ]
     },
     "execution_count": 299,
     "metadata": {},
     "output_type": "execute_result"
    }
   ],
   "source": [
    "# confirm\n",
    "shows[shows['marquee'].str.contains('sold out: ')]['marquee']"
   ]
  },
  {
   "cell_type": "code",
   "execution_count": 300,
   "metadata": {},
   "outputs": [],
   "source": [
    "# remove instances of 'solo' and '(solo)' from artist strings\n",
    "pattern = r\"\\s?[(]?solo[)]?\"\n",
    "shows['marquee'] = [re.sub(pattern, \"\", each) for each in shows['marquee']]"
   ]
  },
  {
   "cell_type": "code",
   "execution_count": 301,
   "metadata": {},
   "outputs": [
    {
     "data": {
      "text/plain": [
       "Series([], Name: marquee, dtype: object)"
      ]
     },
     "execution_count": 301,
     "metadata": {},
     "output_type": "execute_result"
    }
   ],
   "source": [
    "# confirm\n",
    "shows[shows['marquee'].str.contains('solo')]['marquee']"
   ]
  },
  {
   "cell_type": "code",
   "execution_count": 302,
   "metadata": {},
   "outputs": [],
   "source": [
    "# remove 'unplugged' from artist strings\n",
    "pattern = r\"\\s[(]?unplugged[)]?\"\n",
    "shows['marquee'] = [re.sub(pattern, \"\", each) for each in shows['marquee']]"
   ]
  },
  {
   "cell_type": "code",
   "execution_count": 303,
   "metadata": {},
   "outputs": [
    {
     "data": {
      "text/plain": [
       "Series([], Name: marquee, dtype: object)"
      ]
     },
     "execution_count": 303,
     "metadata": {},
     "output_type": "execute_result"
    }
   ],
   "source": [
    "# confirm\n",
    "shows[shows['marquee'].str.contains('unplugged')]['marquee']"
   ]
  },
  {
   "cell_type": "code",
   "execution_count": 304,
   "metadata": {},
   "outputs": [],
   "source": [
    "# remove various notations of \"early show\" and \"late show\" (which escape duplicates)\n",
    "pattern = r\"\\s?-?\\s?[(]?(?:early|late) show[)]?\"\n",
    "shows['marquee'] = [re.sub(pattern, \"\", each) for each in shows['marquee']]"
   ]
  },
  {
   "cell_type": "code",
   "execution_count": 305,
   "metadata": {},
   "outputs": [
    {
     "data": {
      "text/plain": [
       "Series([], Name: marquee, dtype: object)"
      ]
     },
     "execution_count": 305,
     "metadata": {},
     "output_type": "execute_result"
    }
   ],
   "source": [
    "# confirm\n",
    "pattern = r\"\\s?-?\\s?[(]?(?:early|late) show[)]?\"\n",
    "shows[shows['marquee'].str.contains(pattern)]['marquee']"
   ]
  },
  {
   "cell_type": "markdown",
   "metadata": {},
   "source": [
    "## Separating by venue"
   ]
  },
  {
   "cell_type": "code",
   "execution_count": 306,
   "metadata": {},
   "outputs": [
    {
     "data": {
      "text/plain": [
       "mississippi studios    83\n",
       "polaris hall           27\n",
       "Name: venue, dtype: int64"
      ]
     },
     "execution_count": 306,
     "metadata": {},
     "output_type": "execute_result"
    }
   ],
   "source": [
    "shows['venue'].value_counts()"
   ]
  },
  {
   "cell_type": "code",
   "execution_count": 307,
   "metadata": {},
   "outputs": [],
   "source": [
    "def venue_split(df, venue_col, match_str):\n",
    "    return df[df[venue_col].str.contains(match_str)].copy()"
   ]
  },
  {
   "cell_type": "code",
   "execution_count": 308,
   "metadata": {},
   "outputs": [],
   "source": [
    "def subset_df_by_match(df, col, match_str):\n",
    "    return df[df[venue_col].str.contains(match_str)].copy()"
   ]
  },
  {
   "cell_type": "code",
   "execution_count": 309,
   "metadata": {},
   "outputs": [
    {
     "data": {
      "text/plain": [
       "(27, 5)"
      ]
     },
     "execution_count": 309,
     "metadata": {},
     "output_type": "execute_result"
    }
   ],
   "source": [
    "# extract shows at Polaris Hall\n",
    "polaris_shows = venue_events(shows,'venue','polaris')\n",
    "polaris_shows.shape"
   ]
  },
  {
   "cell_type": "code",
   "execution_count": 310,
   "metadata": {},
   "outputs": [
    {
     "data": {
      "text/plain": [
       "(83, 5)"
      ]
     },
     "execution_count": 310,
     "metadata": {},
     "output_type": "execute_result"
    }
   ],
   "source": [
    "# extract events at Mississippi\n",
    "mississippi_shows = venue_events(shows,'venue','mississippi')\n",
    "mississippi_shows.shape"
   ]
  },
  {
   "cell_type": "markdown",
   "metadata": {},
   "source": [
    "## Creating a list of search strings"
   ]
  },
  {
   "cell_type": "code",
   "execution_count": 311,
   "metadata": {},
   "outputs": [],
   "source": [
    "def artist_list(df, col):\n",
    "    # flatten list of lists into single list\n",
    "    events = df[col].str.split(' / ')\n",
    "    events_flat = [artist for event in events for artist in event]\n",
    "    # convert to Series\n",
    "    artists = pd.Series(events_flat)\n",
    "    # remove duplicates from list\n",
    "    artists_unique = [] \n",
    "    [artists_unique.append(artist) for artist in artists if artist not in artists_unique] \n",
    "    return artists_unique"
   ]
  },
  {
   "cell_type": "code",
   "execution_count": 312,
   "metadata": {},
   "outputs": [
    {
     "data": {
      "text/plain": [
       "144"
      ]
     },
     "execution_count": 312,
     "metadata": {},
     "output_type": "execute_result"
    }
   ],
   "source": [
    "missi_search_list = artist_list(mississippi_shows,'marquee')\n",
    "len(missi_search_list)"
   ]
  },
  {
   "cell_type": "code",
   "execution_count": 313,
   "metadata": {},
   "outputs": [
    {
     "data": {
      "text/plain": [
       "47"
      ]
     },
     "execution_count": 313,
     "metadata": {},
     "output_type": "execute_result"
    }
   ],
   "source": [
    "polaris_search_list = artist_list(polaris_shows,'marquee')\n",
    "len(polaris_search_list)"
   ]
  },
  {
   "cell_type": "code",
   "execution_count": 314,
   "metadata": {},
   "outputs": [
    {
     "data": {
      "text/plain": [
       "['trout steak revival',\n",
       " 'left coast country',\n",
       " 'dustbowl revival',\n",
       " 'jared & the mill',\n",
       " 'sexy pants',\n",
       " 'internet beef',\n",
       " 'rap class',\n",
       " 'dave hause & the mermaid',\n",
       " 'northcote',\n",
       " 'kandace springs with special guest jimmie herrod',\n",
       " \"the mysti krewe of nimbus' mardi gras party feat. too loose cajun\",\n",
       " 'zydeco band',\n",
       " 'a conversation with raphael saadiq',\n",
       " 'siren and the sea',\n",
       " 'blossom',\n",
       " 'snugsworth',\n",
       " 'slow hollows',\n",
       " 'fox academy',\n",
       " 'yacht rock revue',\n",
       " 'eyelids',\n",
       " \"talkin' to johnny\",\n",
       " 'zebra hunt',\n",
       " 'carsie blanton',\n",
       " 'jamie drake',\n",
       " 'hikes',\n",
       " 'childspeak',\n",
       " 'lower dens',\n",
       " 'ami dang',\n",
       " 'habibi',\n",
       " 'rudy de anda',\n",
       " 'shopping',\n",
       " 'automatic',\n",
       " 'mope grooves',\n",
       " 'blackwater holylight',\n",
       " 'abronia',\n",
       " 'night swim',\n",
       " 'the ballroom thieves',\n",
       " 'harlequin gold',\n",
       " 'christopher paul stelling',\n",
       " 'jacob miller',\n",
       " 'the comedians following tool on tour: the tour featuring rory scovel and nick youssef',\n",
       " 'advance base',\n",
       " 'claire cronin',\n",
       " 'ruth gabrus',\n",
       " 'casey neill & the norway rats',\n",
       " 'redray frazier band',\n",
       " 'alia farah & friends',\n",
       " 'jason lytle: acoustic piano and guitar',\n",
       " 'califone',\n",
       " 'marisa anderson',\n",
       " 'blackbird blackbird',\n",
       " 'megan diana',\n",
       " 'evan thomas way and the phasers',\n",
       " \"isabeau waia'u walker\",\n",
       " 'roselit bone',\n",
       " 'brent amaker deathsquad',\n",
       " 'frazey ford',\n",
       " 'alec shaw',\n",
       " 'gladie',\n",
       " 'delicate steve',\n",
       " 'al lover',\n",
       " 'potty mouth',\n",
       " 'sir babygirl',\n",
       " 'ata kak',\n",
       " 'town mountain',\n",
       " 'laney lou and the bird dogs',\n",
       " 'good morning',\n",
       " 'vita and the woolf',\n",
       " 'stealing sheep',\n",
       " 'vundabar',\n",
       " 'great grandpa',\n",
       " 'dumbo gets mad',\n",
       " 'sea moya',\n",
       " 'ratboys',\n",
       " 'ellis',\n",
       " 'the mauskovic dance band',\n",
       " 'orquestra pacifico tropical',\n",
       " 'beach slang',\n",
       " 'the aquadolls',\n",
       " 'social animals',\n",
       " 'rainbow girls',\n",
       " 'goodnight, texas',\n",
       " 'steep canyon rangers',\n",
       " 'ezra bell',\n",
       " 'múm',\n",
       " 'joe henry & acoustic',\n",
       " 'mdou moctar',\n",
       " 'lithics',\n",
       " 'sam coomes',\n",
       " 'the third mind: introducing dave alvin, david immergluck, michael jerome, victor krummenacher and featuring jesse sykes',\n",
       " 'post animal',\n",
       " 'twen',\n",
       " 'acid mothers temple & the melting paraiso u.f.o.',\n",
       " 'my education',\n",
       " 'dan mangan',\n",
       " 'ben watt',\n",
       " 'whitmer thomas',\n",
       " 'u.s. girls',\n",
       " 'bonjay',\n",
       " 'quasi',\n",
       " 'the cave singers',\n",
       " 'somesurprises',\n",
       " 'the red pears',\n",
       " 'the california honeydrops',\n",
       " 'lillie mae & aubrie sellers',\n",
       " 'out of limits',\n",
       " 'juana molina',\n",
       " 'stumpfest ix: pallbearer',\n",
       " 'true widow',\n",
       " 'dead now',\n",
       " 'persekutor',\n",
       " 'ils',\n",
       " 'stumpfest ix: high on fire',\n",
       " 'lord dying',\n",
       " 'black cobra',\n",
       " 'semantron',\n",
       " 'mike scheidt',\n",
       " 'stumpfest ix: danny carey trio',\n",
       " \"daniel romano's outfit\",\n",
       " 'mammatus',\n",
       " 'carlton melton',\n",
       " 'dommengang',\n",
       " 'via vale',\n",
       " 'kevin devine',\n",
       " 'john k. samson',\n",
       " 'worriers',\n",
       " 'ivan & alyosha',\n",
       " 'six organs of admittance',\n",
       " 'della mae',\n",
       " 'half waif',\n",
       " 'mk.gee',\n",
       " 'pigs on the wing: dark side of the rainbow',\n",
       " 'phoebe robinson',\n",
       " 'kyle dunnigan',\n",
       " 'alex lahey',\n",
       " 'liv slingerland',\n",
       " 'vanessa carlton',\n",
       " 'jenny o.',\n",
       " 'braids',\n",
       " 'the bellrays',\n",
       " \"slim cessna's auto club\",\n",
       " 'bing & ruth',\n",
       " 'polaris (from the adventures of pete & pete)',\n",
       " 'archers of loaf']"
      ]
     },
     "execution_count": 314,
     "metadata": {},
     "output_type": "execute_result"
    }
   ],
   "source": [
    "missi_search_list"
   ]
  },
  {
   "cell_type": "markdown",
   "metadata": {},
   "source": [
    "### Non-musical events\n",
    "The page for Raphael Saadiq says: \"This event is not a musical performance\" on the click-to page, but this is not the case for every non-musical event (e.g. \"the comedians following tool on tour: the tour...\"."
   ]
  },
  {
   "cell_type": "markdown",
   "metadata": {},
   "source": [
    "## Problem strings and their natures:\n",
    "\n",
    "### Special characters and strings\n",
    "- ` - `\n",
    "    - bookended by spaces\n",
    "- `&`\n",
    "- `:`\n",
    "    - seems that this always follows 'sold out'\n",
    "    - not always artist: qualifyer (as in `jason lytle: an evening of acoustic`); sometimes it's the opposite, as in `cameron esposito: save yourself tour`\n",
    "- `feat.`\n",
    "- `featuring`\n",
    "- `tour`\n",
    "- `moved to...`\n",
    "- `sold out`\n",
    "    - always followed by a ':'\n",
    "- `an evening with/of`\n",
    "- `early show`, `late show`\n",
    "\n",
    "\n",
    "- `dirty honey - rolling 7s tour`: the artist is 'dirty honey' and the `- rolling 7s tour` refers to the tour name\n",
    "    - possible solution: watch to see if '-' characters indicate \"extra\" info about the event that can be removed for passing a string to the Spotify artist search\n",
    "    - try splitting string before and after the special character, then searching both and seeing what hits better\n",
    "    - look for reference to the string \"tour\" and do something like:\n",
    "    ```\n",
    "    if artist.contains('tour'):\n",
    "        skip\n",
    "    ```\n",
    "- `dave hause & the mermaid`: the artist is `dave hause`, the mermaid is extra and does not help search function\n",
    "    - same as above, but for '&' characters\n",
    "- `casey neill & the norway rats`: the artist in this case is the full string, including the `&`\n",
    "- `the mysti krewe of nimbus' mardi gras party feat. too loose cajun`: no results for any way of breaking this up\n",
    "- `zydeco band`\n",
    "- `moved to aladdin theater:`\n"
   ]
  },
  {
   "cell_type": "markdown",
   "metadata": {},
   "source": [
    "# Spotify"
   ]
  },
  {
   "cell_type": "code",
   "execution_count": 131,
   "metadata": {},
   "outputs": [],
   "source": [
    "# set API authorization vars and scope\n",
    "client_id = os.environ.get('SPOTIPY_CLIENT_ID')\n",
    "client_secret = os.environ.get('SPOTIPY_CLIENT_SECRET')\n",
    "scope = 'user-library-read playlist-modify-private playlist-modify-public playlist-read-private'\n",
    "username = '1237403078'\n",
    "mississippi_pl_uri = \n",
    "polaris_pl_uri = "
   ]
  },
  {
   "cell_type": "code",
   "execution_count": 242,
   "metadata": {},
   "outputs": [],
   "source": [
    "# authenticate\n",
    "token = util.prompt_for_user_token(\n",
    "        username=username,\n",
    "        scope=scope,\n",
    "        client_id=client_id,\n",
    "        client_secret=client_secret,\n",
    "        redirect_uri='http://localhost/')\n",
    "\n",
    "\n",
    "sp = spotipy.Spotify(auth=token)"
   ]
  },
  {
   "cell_type": "code",
   "execution_count": 155,
   "metadata": {},
   "outputs": [
    {
     "name": "stdout",
     "output_type": "stream",
     "text": [
      " A programmatically-generated playlist featuring artists coming soon to {}. Ordered by date, with today at the top and events farther in the future at the bottom. Updated {}. Go to https://www.mississippistudios.com/calendar/ for tickets. Check out my GitHub for details on how this playlist is generated: [LINK COMING SOON]\n"
     ]
    }
   ],
   "source": [
    "# create new playlist\n",
    "venue = 'Mississippi Studios'\n",
    "missi_descr = \" A programmatically-generated playlist featuring artists coming soon to {}. Ordered by date, with today at the top and events farther in the future at the bottom. Updated {}. Go to https://www.mississippistudios.com/calendar/ for tickets. Check out my GitHub for details on how this playlist is generated: [LINK COMING SOON]\"\n",
    "print(missi_descr)\n",
    "results = sp.user_playlist_create(username, \"AroundTown: Mississippi Studios\", public=True, description=missi_descr.format(venue, todays_date))"
   ]
  },
  {
   "cell_type": "code",
   "execution_count": 244,
   "metadata": {},
   "outputs": [],
   "source": [
    "# create new playlist\n",
    "venue_name = 'Polaris Hall'\n",
    "pl_name = 'SoundQuester: ' + venue_name\n",
    "results = sp.user_playlist_create(username, pl_name, public=True)\n",
    "polaris_pl_uri = results['uri']"
   ]
  },
  {
   "cell_type": "code",
   "execution_count": 247,
   "metadata": {},
   "outputs": [
    {
     "data": {
      "text/plain": [
       "'spotify:playlist:3wyoGUeXeFAkz048JxbeBV'"
      ]
     },
     "execution_count": 247,
     "metadata": {},
     "output_type": "execute_result"
    }
   ],
   "source": [
    "polaris_pl_uri"
   ]
  },
  {
   "cell_type": "markdown",
   "metadata": {},
   "source": [
    "Note: I could just leave duplicates in and filter this later based on Spotify's search results. Might not be a bad idea to double check for duplicate artist URI's once all acquired."
   ]
  },
  {
   "cell_type": "markdown",
   "metadata": {},
   "source": [
    "## Searching for Spotify artists, first pass\n",
    "\n",
    "**The for loop**\n",
    "\n",
    "In this block of code, I loop through the strings of the `hl_no_dups` list, passing each to the `sp.search` function and passing in `artist` for the `type` parameter, and limiting the number of returned search result hits to 1.\n",
    "\n",
    "**The conditionals**\n",
    "\n",
    "If the search produces at least one result, the top hit Artist Object (contained within `results['artists']['items'][0]`) is extracted and assigned to the `artists_found` dictionary, with the `uri` serving as the dictionary key. Even though I only need the artist URI to generate my playlist, I might want to analyze other artist parameters (e.g. popularity) later, so I might as well grab the whole thing for now."
   ]
  },
  {
   "cell_type": "code",
   "execution_count": 315,
   "metadata": {},
   "outputs": [
    {
     "name": "stdout",
     "output_type": "stream",
     "text": [
      "SEARCHING...  trout steak revival\n",
      "Found!  Trout Steak Revival spotify:artist:7gf4unCQOlGg7UD38XzqPd\n",
      "SEARCHING...  left coast country\n",
      "Found!  Left Coast Country spotify:artist:0lrjVsOuOG3lqrhDzsJN6x\n",
      "SEARCHING...  dustbowl revival\n",
      "Found!  Dustbowl Revival spotify:artist:3cB0nIIeIGSuMlw6rnu1dm\n",
      "SEARCHING...  jared & the mill\n",
      "Found!  Jared & The Mill spotify:artist:0GklSybv01PPje5GlXFq2i\n",
      "SEARCHING...  sexy pants\n",
      "XXXXXX NOT found:  sexy pants\n",
      "SEARCHING...  internet beef\n",
      "Found!  Internet Beef spotify:artist:1gyvvV8gEt85zp189XdyaO\n",
      "SEARCHING...  rap class\n",
      "Found!  Rap Class spotify:artist:73yoLoaMB8o5AvG3vDd498\n",
      "SEARCHING...  dave hause & the mermaid\n",
      "XXXXXX NOT found:  dave hause & the mermaid\n",
      "SEARCHING...  northcote\n",
      "Found!  Northcote spotify:artist:0238bOScDVbMG0RBP2NguG\n",
      "SEARCHING...  kandace springs with special guest jimmie herrod\n",
      "XXXXXX NOT found:  kandace springs with special guest jimmie herrod\n",
      "SEARCHING...  the mysti krewe of nimbus' mardi gras party feat. too loose cajun\n",
      "XXXXXX NOT found:  the mysti krewe of nimbus' mardi gras party feat. too loose cajun\n",
      "SEARCHING...  zydeco band\n",
      "Found!  The Soileau Zydeco Band spotify:artist:1gIeQpnV2wL2LNklWtQGnT\n",
      "SEARCHING...  a conversation with raphael saadiq\n",
      "XXXXXX NOT found:  a conversation with raphael saadiq\n",
      "SEARCHING...  siren and the sea\n",
      "Found!  Siren and the Sea spotify:artist:45Z7TLBfSId65NDrTBr7t3\n",
      "SEARCHING...  blossom\n",
      "Found!  Blossoms spotify:artist:22RISwgVJyZu9lpqAcv1F5\n",
      "SEARCHING...  snugsworth\n",
      "Found!  Snugsworth spotify:artist:38PIRv5SnPsCwlQzoL1ec4\n",
      "SEARCHING...  slow hollows\n",
      "Found!  Slow Hollows spotify:artist:7qME2V5vIIPqIKCpzxQMPz\n",
      "SEARCHING...  fox academy\n",
      "Found!  Fox Academy spotify:artist:0JqRJZzARcjmH60HwUenow\n",
      "SEARCHING...  yacht rock revue\n",
      "Found!  Yacht Rock Revue spotify:artist:5vJbbFDnRQql9BtSgR9vZH\n",
      "SEARCHING...  eyelids\n",
      "Found!  Eyelids spotify:artist:0rYNielsCINWVoYJofAmUs\n",
      "SEARCHING...  talkin' to johnny\n",
      "XXXXXX NOT found:  talkin' to johnny\n",
      "SEARCHING...  zebra hunt\n",
      "Found!  Zebra Hunt spotify:artist:7ieyLt5tfhq9SDuQHUAWEy\n",
      "SEARCHING...  carsie blanton\n",
      "Found!  Carsie Blanton spotify:artist:1NkiZTHV6voDpcA7eEQQMb\n",
      "SEARCHING...  jamie drake\n",
      "Found!  Jamie Drake spotify:artist:7rvB7ONJSqlmaCrcbhelir\n",
      "SEARCHING...  hikes\n",
      "Found!  Hikes spotify:artist:5luRIEhyaVB12mabNujZHx\n",
      "SEARCHING...  childspeak\n",
      "Found!  Childspeak spotify:artist:7EChgPT2nlsUDY8IDgzMbp\n",
      "SEARCHING...  lower dens\n",
      "Found!  Lower Dens spotify:artist:5uTJLo3c4ZHpH8oEwGxYUN\n",
      "SEARCHING...  ami dang\n",
      "Found!  Ami Dang spotify:artist:1DAqw4sYHPmgHQ6gzOVDig\n",
      "SEARCHING...  habibi\n",
      "Found!  Habibi spotify:artist:600GgDUq9kzGJgNIrVsWfz\n",
      "SEARCHING...  rudy de anda\n",
      "Found!  Rudy De Anda spotify:artist:4zAauwbGLs7vAEzfJEklGF\n",
      "SEARCHING...  shopping\n",
      "Found!  Shopping spotify:artist:1UgRlUUZBwiGwqMFHA4Puf\n",
      "SEARCHING...  automatic\n",
      "Found!  Automatic spotify:artist:3uX1tstdmFJyxW9b5mSNlU\n",
      "SEARCHING...  mope grooves\n",
      "########## CHECK SECOND HIT ##########\n",
      "first hit: Mope Grooves spotify:artist:180kJdOQylLrSL0euYbqLF\n",
      "second hit: Mope Grooves spotify:artist:6M2xZYSG9CUbJqCnLgdKSL\n",
      "Found!  Mope Grooves spotify:artist:180kJdOQylLrSL0euYbqLF\n",
      "SEARCHING...  blackwater holylight\n",
      "Found!  Blackwater Holylight spotify:artist:2fqEhs5dZBrDLUqHvWRtBc\n",
      "SEARCHING...  abronia\n",
      "########## CHECK SECOND HIT ##########\n",
      "first hit: Abronia spotify:artist:4BTddjd5LzqjQ5WAViSw0g\n",
      "second hit: Abronia spotify:artist:2A6A8d8EtJVTb5oj4VgVyG\n",
      "Found!  Abronia spotify:artist:4BTddjd5LzqjQ5WAViSw0g\n",
      "SEARCHING...  night swim\n",
      "Found!  Night Swims spotify:artist:1dbB3o36oc3cNytRgI9cca\n",
      "SEARCHING...  the ballroom thieves\n",
      "Found!  The Ballroom Thieves spotify:artist:7kZBQcHbD4IKKEJIMnrRWC\n",
      "SEARCHING...  harlequin gold\n",
      "Found!  Harlequin Gold spotify:artist:0gCgdNAS3rxAlWw1qVXX5F\n",
      "SEARCHING...  christopher paul stelling\n",
      "Found!  Christopher Paul Stelling spotify:artist:0uvkj2Pqn60liBxf2a91D4\n",
      "SEARCHING...  jacob miller\n",
      "########## CHECK SECOND HIT ##########\n",
      "first hit: Jacob Miller spotify:artist:6zJjuLyqniz4ilDlYIjiio\n",
      "second hit: Jacob Miller spotify:artist:5ETV1D5HBcoygYbYGEAln6\n",
      "Found!  Jacob Miller spotify:artist:6zJjuLyqniz4ilDlYIjiio\n",
      "SEARCHING...  the comedians following tool on tour: the tour featuring rory scovel and nick youssef\n",
      "XXXXXX NOT found:  the comedians following tool on tour: the tour featuring rory scovel and nick youssef\n",
      "SEARCHING...  advance base\n",
      "Found!  Advance Base spotify:artist:4YIMPSc3zZLRwe4Ujaxjce\n",
      "SEARCHING...  claire cronin\n",
      "Found!  Claire Cronin spotify:artist:3QpahvBtZqiCtP5aacbX1I\n",
      "SEARCHING...  ruth gabrus\n",
      "Found!  Ruth Garbus spotify:artist:4n4AixYCSIn4H5BriyTEhm\n",
      "SEARCHING...  casey neill & the norway rats\n",
      "Found!  Casey Neill & The Norway Rats spotify:artist:6vEAVDP48QvbfXuYOSCRiE\n",
      "SEARCHING...  redray frazier band\n",
      "XXXXXX NOT found:  redray frazier band\n",
      "SEARCHING...  alia farah & friends\n",
      "XXXXXX NOT found:  alia farah & friends\n",
      "SEARCHING...  jason lytle: acoustic piano and guitar\n",
      "XXXXXX NOT found:  jason lytle: acoustic piano and guitar\n",
      "SEARCHING...  califone\n",
      "Found!  Califone spotify:artist:3mv2eHwrIONSkviASDMRMa\n",
      "SEARCHING...  marisa anderson\n",
      "Found!  Marisa Anderson spotify:artist:5j2d5CS0sh2LTpFsrKAFcW\n",
      "SEARCHING...  blackbird blackbird\n",
      "Found!  Blackbird Blackbird spotify:artist:2TWKl87Jnmd5MApKEpVCxA\n",
      "SEARCHING...  megan diana\n",
      "Found!  Megan Diana spotify:artist:3jtb4SRwzhhMRYd6wqNuxu\n",
      "SEARCHING...  evan thomas way and the phasers\n",
      "Found!  Evan Thomas Way & The Phasers spotify:artist:1qKOyEsBtSuBorVkNSCwGZ\n",
      "SEARCHING...  isabeau waia'u walker\n",
      "Found!  Isabeau Waia'u Walker spotify:artist:34IeX9oov4lkjQF5ug72D9\n",
      "SEARCHING...  roselit bone\n",
      "Found!  Roselit Bone spotify:artist:37ycePIPQXwy6rXkjMLojU\n",
      "SEARCHING...  brent amaker deathsquad\n",
      "XXXXXX NOT found:  brent amaker deathsquad\n",
      "SEARCHING...  frazey ford\n",
      "Found!  Frazey Ford spotify:artist:3w6sr0v1PArSe6JAwqk8Bl\n",
      "SEARCHING...  alec shaw\n",
      "Found!  Alec Shaw spotify:artist:1x2a2ZJLYCvBrasdEfcuGw\n",
      "SEARCHING...  gladie\n",
      "Found!  Gladie spotify:artist:7CmAu41S1eT28xXF2ocPE6\n",
      "SEARCHING...  delicate steve\n",
      "Found!  Delicate Steve spotify:artist:1bNgeTuV3MlkAq64Ybvcq5\n",
      "SEARCHING...  al lover\n",
      "Found!  Al Lover spotify:artist:2rVYWIbqIKx8d6hN4owg4A\n",
      "SEARCHING...  potty mouth\n",
      "Found!  Potty Mouth spotify:artist:4liUQpCxxhjGMgc33K81Fw\n",
      "SEARCHING...  sir babygirl\n",
      "Found!  Sir Babygirl spotify:artist:3Z9b1MnVKbJw8LpgQclsls\n",
      "SEARCHING...  ata kak\n",
      "Found!  Ata Kak spotify:artist:172WdsNGJYNNXVNQ1tXfrB\n",
      "SEARCHING...  town mountain\n",
      "Found!  Town Mountain spotify:artist:5cudslRGWg0GsXaN79Wifs\n",
      "SEARCHING...  laney lou and the bird dogs\n",
      "Found!  Laney Lou and the Bird Dogs spotify:artist:2X8vBRaS7l9JlOJS3uoz3T\n",
      "SEARCHING...  good morning\n",
      "Found!  Good Morning spotify:artist:2kMzxA8edU05hvMFU493zJ\n",
      "SEARCHING...  vita and the woolf\n",
      "Found!  Vita and the Woolf spotify:artist:2EkeitO4tB1cvLuXX3xMx7\n",
      "SEARCHING...  stealing sheep\n",
      "Found!  Stealing Sheep spotify:artist:3ghT43Gj41br25PvBCDS22\n",
      "SEARCHING...  vundabar\n",
      "Found!  Vundabar spotify:artist:1W4itxt3vwhmrgLEBuVHJ6\n",
      "SEARCHING...  great grandpa\n",
      "Found!  Great Grandpa spotify:artist:1Hs5RG6WIwUSJLxRYWaOW6\n",
      "SEARCHING...  dumbo gets mad\n",
      "Found!  Dumbo Gets Mad spotify:artist:530iy3GzOTqWe9LEeiZuDO\n",
      "SEARCHING...  sea moya\n",
      "Found!  Sea Moya spotify:artist:3U2w4PW1aS0fNikBX0u3pG\n",
      "SEARCHING...  ratboys\n",
      "Found!  Ratboys spotify:artist:1SoBNpuC0N4nvaQFENS0qf\n",
      "SEARCHING...  ellis\n",
      "Found!  Ellise spotify:artist:2FovgCfOwN9iqbkCBlKFdT\n",
      "SEARCHING...  the mauskovic dance band\n",
      "Found!  The Mauskovic Dance Band spotify:artist:02riqGdWw4EdqKJzOeWRZS\n",
      "SEARCHING...  orquestra pacifico tropical\n",
      "Found!  Orquestra Pacifico Tropical spotify:artist:4dh4FGfCH6JynLw3W1meuq\n",
      "SEARCHING...  beach slang\n",
      "Found!  Beach Slang spotify:artist:3d5usliWmjkMKGsv2X341Q\n",
      "SEARCHING...  the aquadolls\n",
      "Found!  The Aquadolls spotify:artist:75dqW38mCNfvNv9G3nqIE5\n",
      "SEARCHING...  social animals\n",
      "Found!  Social Animals spotify:artist:6B7x4EysPMAo1fj4FSFrEJ\n",
      "SEARCHING...  rainbow girls\n",
      "Found!  Rainbow Girls spotify:artist:5qV8qZrppecEsKTWwCCtA7\n",
      "SEARCHING...  goodnight, texas\n",
      "Found!  Goodnight, Texas spotify:artist:5ammRFhN6wQXM30xlhndC5\n",
      "SEARCHING...  steep canyon rangers\n",
      "Found!  Steep Canyon Rangers spotify:artist:1a6tqLJPUs4DBAnNUZkr2O\n",
      "SEARCHING...  ezra bell\n",
      "Found!  Ezra Bell spotify:artist:1nGqKVGfPPiVgxMdx8hYOI\n",
      "SEARCHING...  múm\n",
      "Found!  Mumford & Sons spotify:artist:3gd8FJtBJtkRxdfbTu19U2\n",
      "SEARCHING...  joe henry & acoustic\n"
     ]
    },
    {
     "name": "stdout",
     "output_type": "stream",
     "text": [
      "XXXXXX NOT found:  joe henry & acoustic\n",
      "SEARCHING...  mdou moctar\n",
      "Found!  Mdou Moctar spotify:artist:48dgx7iGqLQ3E5KO3pzd94\n",
      "SEARCHING...  lithics\n",
      "Found!  Lithics spotify:artist:11m3JrB2fXeM5rR5yxhKGF\n",
      "SEARCHING...  sam coomes\n",
      "Found!  Sam Coomes spotify:artist:15yETfkJIkKOIpL482Acd7\n",
      "SEARCHING...  the third mind: introducing dave alvin, david immergluck, michael jerome, victor krummenacher and featuring jesse sykes\n",
      "XXXXXX NOT found:  the third mind: introducing dave alvin, david immergluck, michael jerome, victor krummenacher and featuring jesse sykes\n",
      "SEARCHING...  post animal\n",
      "Found!  Post Animal spotify:artist:4iaDWP59Z3e62DW7YWDbIE\n",
      "SEARCHING...  twen\n",
      "Found!  Twenty One Pilots spotify:artist:3YQKmKGau1PzlVlkL1iodx\n",
      "SEARCHING...  acid mothers temple & the melting paraiso u.f.o.\n",
      "Found!  Acid Mothers Temple & The Melting Paraiso U.F.O. spotify:artist:4lSb7hjm2q4WTwdpjwcar7\n",
      "SEARCHING...  my education\n",
      "Found!  My Education spotify:artist:4paz9ZhZMz5YhQEzWfBQnb\n",
      "SEARCHING...  dan mangan\n",
      "Found!  Dan Mangan spotify:artist:5ByjU6oarxRC2Y85JpKx1n\n",
      "SEARCHING...  ben watt\n",
      "Found!  Ben Watt spotify:artist:4RIOH6XCUt1Xr8NLUj2u66\n",
      "SEARCHING...  whitmer thomas\n",
      "Found!  Whitmer Thomas spotify:artist:6conzu32k403L1Zr3xWTr1\n",
      "SEARCHING...  u.s. girls\n",
      "Found!  U.S. Girls spotify:artist:3AHFDfqhSqPBecjQDIOIJA\n",
      "SEARCHING...  bonjay\n",
      "Found!  Bonjay spotify:artist:12Jc0PCNtdYxqlBev0EqGJ\n",
      "SEARCHING...  quasi\n",
      "Found!  Quasimoto spotify:artist:1rJkz5vopfGxTUGFNB3o4G\n",
      "SEARCHING...  the cave singers\n",
      "retrying ...1secs\n",
      "Found!  The Cave Singers spotify:artist:4SjCvf9Ctuz369ZKAnjkZP\n",
      "SEARCHING...  somesurprises\n",
      "Found!  Somesurprises spotify:artist:0qgRfYHnkX1aRKmlWOEJZV\n",
      "SEARCHING...  the red pears\n",
      "Found!  The Red Pears spotify:artist:3FRYBFCNEBWMjk6kvwjHQT\n",
      "SEARCHING...  the california honeydrops\n",
      "Found!  The California Honeydrops spotify:artist:21t0aavYGSGFkYYFhu6urk\n",
      "SEARCHING...  lillie mae & aubrie sellers\n",
      "XXXXXX NOT found:  lillie mae & aubrie sellers\n",
      "SEARCHING...  out of limits\n",
      "XXXXXX NOT found:  out of limits\n",
      "SEARCHING...  juana molina\n",
      "Found!  Juana Molina spotify:artist:76hliHkgP5eIbVqLT7NmQ3\n",
      "SEARCHING...  stumpfest ix: pallbearer\n",
      "XXXXXX NOT found:  stumpfest ix: pallbearer\n",
      "SEARCHING...  true widow\n",
      "Found!  True Widow spotify:artist:7fS59zKuYPKhYlTGdg2PyM\n",
      "SEARCHING...  dead now\n",
      "Found!  Dead Now spotify:artist:0p3qMXSGchXXEwWZq0K4rR\n",
      "SEARCHING...  persekutor\n",
      "Found!  Persekutor spotify:artist:13qYgj860ADl0bM4qTfhlY\n",
      "SEARCHING...  ils\n",
      "Found!  Ilsey spotify:artist:2ZKzqJz3pPfWKVRgz9b39j\n",
      "SEARCHING...  stumpfest ix: high on fire\n",
      "XXXXXX NOT found:  stumpfest ix: high on fire\n",
      "SEARCHING...  lord dying\n",
      "Found!  Lord Dying spotify:artist:4t2eZIRH71WTOXpENMOM2Z\n",
      "SEARCHING...  black cobra\n",
      "Found!  Black Cobra spotify:artist:3vXdcEXbg9wysccGlh4LkD\n",
      "SEARCHING...  semantron\n",
      "XXXXXX NOT found:  semantron\n",
      "SEARCHING...  mike scheidt\n",
      "########## CHECK SECOND HIT ##########\n",
      "first hit: Mike Scheidt spotify:artist:1EwYzRAmoN8osU81nw7WKA\n",
      "second hit: Mike Scheidt spotify:artist:2JO1TegJIHSfOtbJcHcDoz\n",
      "Found!  Mike Scheidt spotify:artist:1EwYzRAmoN8osU81nw7WKA\n",
      "SEARCHING...  stumpfest ix: danny carey trio\n",
      "XXXXXX NOT found:  stumpfest ix: danny carey trio\n",
      "SEARCHING...  daniel romano's outfit\n",
      "XXXXXX NOT found:  daniel romano's outfit\n",
      "SEARCHING...  mammatus\n",
      "Found!  Mammatus spotify:artist:6EH9OqbeLIdAyinJhPb6va\n",
      "SEARCHING...  carlton melton\n",
      "Found!  Carlton Melton spotify:artist:7i2OQnh5CDETdLpdAzzYUL\n",
      "SEARCHING...  dommengang\n",
      "Found!  Dommengang spotify:artist:5q35XlMsagTXv2R48zJkkn\n",
      "SEARCHING...  via vale\n",
      "Found!  Via Vale spotify:artist:1FIDOEIn1HU7Pku5GrKfh2\n",
      "SEARCHING...  kevin devine\n",
      "########## CHECK SECOND HIT ##########\n",
      "first hit: Kevin Devine spotify:artist:66ScZxprvrMbCtN4ivA0JX\n",
      "second hit: Kevin Devine spotify:artist:2aysRnVvZLewou7jSytuRS\n",
      "Found!  Kevin Devine spotify:artist:66ScZxprvrMbCtN4ivA0JX\n",
      "SEARCHING...  john k. samson\n",
      "Found!  John K. Samson spotify:artist:3oOylXJSSKnZt9xZIjikTJ\n",
      "SEARCHING...  worriers\n",
      "Found!  Worriers spotify:artist:55Z2PiiE80rBOkkL1wyNPD\n",
      "SEARCHING...  ivan & alyosha\n",
      "Found!  Ivan & Alyosha spotify:artist:3D1IyJznpDnWnnFrzjuWnh\n",
      "SEARCHING...  six organs of admittance\n",
      "Found!  Six Organs Of Admittance spotify:artist:5jX8L7D6vWHYlNj9k361vI\n",
      "SEARCHING...  della mae\n",
      "Found!  Della Mae spotify:artist:4v6KHXXFsmn8oREWFyodCh\n",
      "SEARCHING...  half waif\n",
      "Found!  Half Waif spotify:artist:28mCmWkgrWHZ4fm5c3OcIj\n",
      "SEARCHING...  mk.gee\n",
      "Found!  Mk.gee spotify:artist:7tr9pbgNEKtG0GQTKe08Tz\n",
      "SEARCHING...  pigs on the wing: dark side of the rainbow\n",
      "XXXXXX NOT found:  pigs on the wing: dark side of the rainbow\n",
      "SEARCHING...  phoebe robinson\n",
      "XXXXXX NOT found:  phoebe robinson\n",
      "SEARCHING...  kyle dunnigan\n",
      "Found!  Kyle Dunnigan spotify:artist:4IVDPPI5DlTTQVbaTB1cYv\n",
      "SEARCHING...  alex lahey\n",
      "Found!  Alex Lahey spotify:artist:5kdYrM3h2sB1Eid5tDf6Hk\n",
      "SEARCHING...  liv slingerland\n",
      "Found!  Liv Slingerland spotify:artist:7yXoQcO4C5HP5PyaU8pbAb\n",
      "SEARCHING...  vanessa carlton\n",
      "Found!  Vanessa Carlton spotify:artist:5ILrArfIV0tMURcHJN8Q07\n",
      "SEARCHING...  jenny o.\n",
      "Found!  Jenny Owen Youngs spotify:artist:52mkFCABBeP3KjkWFA4M2H\n",
      "SEARCHING...  braids\n",
      "Found!  Braids spotify:artist:6JX35IQ1Yw84Yjzq2Y5p5i\n",
      "SEARCHING...  the bellrays\n",
      "Found!  The BellRays spotify:artist:1j22sbMyu5n26N00BebDBh\n",
      "SEARCHING...  slim cessna's auto club\n",
      "Found!  Slim Cessna's Auto Club spotify:artist:4hadRvyBwQwfETFBEUUaru\n",
      "SEARCHING...  bing & ruth\n",
      "Found!  Bing & Ruth spotify:artist:0grPfzk6cTnzfQpxjLDPs0\n",
      "SEARCHING...  polaris (from the adventures of pete & pete)\n",
      "XXXXXX NOT found:  polaris (from the adventures of pete & pete)\n",
      "SEARCHING...  archers of loaf\n",
      "Found!  Archers Of Loaf spotify:artist:0pNaVvqSvldpJl7pHpNoM9\n"
     ]
    }
   ],
   "source": [
    "artists_found = {}\n",
    "not_found = []\n",
    "artist_uris = []\n",
    "search_list = missi_search_list\n",
    "# first pass:\n",
    "for artist in search_list:\n",
    "    # try searching unmodified string\n",
    "    print('SEARCHING... ',artist)\n",
    "    results = sp.search(artist,type='artist',limit=2)\n",
    "    # if search produces artist hit(s)\n",
    "    if results['artists']['total'] > 0:\n",
    "        top_hit = results['artists']['items'][0]  # top hit\n",
    "        if len(results['artists']['items']) > 1:\n",
    "            second_hit = results['artists']['items'][1]  # second hit\n",
    "            # check that artist names for first two hits are not exactly the same\n",
    "            if top_hit['name'] == second_hit['name']:\n",
    "                print('########## CHECK SECOND HIT ##########')\n",
    "                print('first hit:',top_hit['name'], top_hit['uri'])\n",
    "                print('second hit:', second_hit['name'], second_hit['uri'])\n",
    "        official_name = top_hit['name']  # extract name (mostly for verbose printing)\n",
    "        uri = top_hit['uri']  # extract uri to be used as dictionary key\n",
    "        artists_found[uri] = top_hit  # save top hit to dictionary w/ uri as key\n",
    "        artist_uris.append(uri)  # save artist uri to list (to keep order)\n",
    "        print('Found! ', official_name, uri)\n",
    "    # if artist not found\n",
    "    elif results['artists']['total'] == 0:\n",
    "        not_found.append(artist)\n",
    "        print('XXXXXX NOT found: ',artist)\n",
    "        \n",
    "        "
   ]
  },
  {
   "cell_type": "markdown",
   "metadata": {},
   "source": [
    "Let's take a look at the official names of the artists we managed to find in Spotify:"
   ]
  },
  {
   "cell_type": "code",
   "execution_count": 37,
   "metadata": {},
   "outputs": [
    {
     "name": "stdout",
     "output_type": "stream",
     "text": [
      "Trout Steak Revival\n",
      "Left Coast Country\n",
      "Dustbowl Revival\n",
      "Jared & The Mill\n",
      "Internet Beef\n",
      "Rap Class\n",
      "Northcote\n",
      "The Soileau Zydeco Band\n",
      "Siren and the Sea\n",
      "Blossoms\n",
      "Snugsworth\n",
      "Slow Hollows\n",
      "Fox Academy\n",
      "Eyelids\n",
      "Zebra Hunt\n",
      "Carsie Blanton\n",
      "Jamie Drake\n",
      "Hikes\n",
      "Childspeak\n",
      "Lower Dens\n",
      "Ami Dang\n",
      "Habibi\n",
      "Rudy De Anda\n",
      "Shopping\n",
      "Automatic\n",
      "Mope Grooves\n",
      "Blackwater Holylight\n",
      "Abronia\n",
      "Night Swims\n",
      "The Ballroom Thieves\n",
      "Harlequin Gold\n",
      "Christopher Paul Stelling\n",
      "Jacob Miller\n",
      "Advance Base\n",
      "Claire Cronin\n",
      "Ruth Garbus\n",
      "Casey Neill & The Norway Rats\n",
      "Califone\n",
      "Marisa Anderson\n",
      "Blackbird Blackbird\n",
      "Megan Diana\n",
      "Evan Thomas Way & The Phasers\n",
      "Isabeau Waia'u Walker\n",
      "Roselit Bone\n",
      "Frazey Ford\n",
      "Alec Shaw\n",
      "Gladie\n",
      "Delicate Steve\n",
      "Al Lover\n",
      "Potty Mouth\n",
      "Sir Babygirl\n",
      "Ata Kak\n",
      "Town Mountain\n",
      "Laney Lou and the Bird Dogs\n",
      "Good Morning\n",
      "Vita and the Woolf\n",
      "Stealing Sheep\n",
      "Vundabar\n",
      "Great Grandpa\n",
      "Dumbo Gets Mad\n",
      "Sea Moya\n",
      "Ratboys\n",
      "Ellise\n",
      "The Mauskovic Dance Band\n",
      "Orquestra Pacifico Tropical\n",
      "Beach Slang\n",
      "The Aquadolls\n",
      "Social Animals\n",
      "Rainbow Girls\n",
      "Goodnight, Texas\n",
      "Ezra Bell\n",
      "Mumford & Sons\n",
      "Mdou Moctar\n",
      "Lithics\n",
      "Sam Coomes\n",
      "Post Animal\n",
      "Twenty One Pilots\n",
      "Acid Mothers Temple & The Melting Paraiso U.F.O.\n",
      "My Education\n",
      "Ben Watt\n",
      "Whitmer Thomas\n",
      "U.S. Girls\n",
      "Bonjay\n",
      "Quasimoto\n",
      "The Cave Singers\n",
      "Somesurprises\n",
      "The California Honeydrops\n",
      "Juana Molina\n",
      "True Widow\n",
      "Dead Now\n",
      "Persekutor\n",
      "Ilsey\n",
      "Lord Dying\n",
      "Black Cobra\n",
      "Mammatus\n",
      "Carlton Melton\n",
      "Dommengang\n",
      "Via Vale\n",
      "Kevin Devine\n",
      "John K. Samson\n",
      "Ivan & Alyosha\n",
      "Six Organs Of Admittance\n",
      "Della Mae\n",
      "Half Waif\n",
      "Mk.gee\n",
      "Kyle Dunnigan\n",
      "Alex Lahey\n",
      "Liv Slingerland\n",
      "Vanessa Carlton\n",
      "Jenny Owen Youngs\n",
      "Braids\n",
      "The BellRays\n",
      "Slim Cessna's Auto Club\n",
      "Bing & Ruth\n",
      "Archers Of Loaf\n"
     ]
    }
   ],
   "source": [
    "for each in artists_found.values():\n",
    "    print(each['name'])"
   ]
  },
  {
   "cell_type": "code",
   "execution_count": 316,
   "metadata": {},
   "outputs": [
    {
     "name": "stdout",
     "output_type": "stream",
     "text": [
      "144\n",
      "121\n",
      "23\n"
     ]
    }
   ],
   "source": [
    "print(len(search_list))\n",
    "print(len(artist_uris))\n",
    "print(len(not_found))"
   ]
  },
  {
   "cell_type": "markdown",
   "metadata": {},
   "source": [
    "### Check point: how many artists were recovered?\n",
    "\n",
    "What was our success rate of finding artists?"
   ]
  },
  {
   "cell_type": "code",
   "execution_count": 317,
   "metadata": {},
   "outputs": [
    {
     "name": "stdout",
     "output_type": "stream",
     "text": [
      "A first pass identified Spotify data for 121 out of 144 artists, a 84.03% success rate.\n"
     ]
    }
   ],
   "source": [
    "found_count = len(artist_uris)\n",
    "missing_count = len(not_found)\n",
    "total_count = len(search_list)\n",
    "search_success_rate = found_count/(found_count + missing_count)*100\n",
    "success_string = \"A first pass identified Spotify data for {} out of {} artists, a {:.2f}% success rate.\"\n",
    "print(success_string.format(found_count, total_count, search_success_rate))"
   ]
  },
  {
   "cell_type": "markdown",
   "metadata": {},
   "source": [
    "That's pretty good! \n",
    "\n",
    "For now, I'll complete the functionality of this script and add 1 song for each of these artists to a list of `tracks_to_add`."
   ]
  },
  {
   "cell_type": "markdown",
   "metadata": {},
   "source": [
    "## Pulling tracks to add to the playlist\n",
    "\n",
    "Ideas: \n",
    "- Cycle through popular tracks so that playlist is slightly different each week\n",
    "- Pull most popular song from newest album\n"
   ]
  },
  {
   "cell_type": "code",
   "execution_count": 318,
   "metadata": {},
   "outputs": [],
   "source": [
    "# pull top tracks \n",
    "tracks_to_add = []\n",
    "for artist_uri in artist_uris:\n",
    "    # retrieve list of top tracks\n",
    "    top_tracks = sp.artist_top_tracks(artist_uri)['tracks']\n",
    "    # find first track in top tracks that is credited to a single artist\n",
    "    for track in top_tracks:\n",
    "        if (len(track['artists'])) > 1:\n",
    "            continue\n",
    "        else:\n",
    "            top_track_uri = track['uri']\n",
    "            break\n",
    "    tracks_to_add.append(top_track_uri)"
   ]
  },
  {
   "cell_type": "code",
   "execution_count": 319,
   "metadata": {},
   "outputs": [
    {
     "data": {
      "text/plain": [
       "['spotify:track:1pWdkihXuQ7i2xTdSWhmda',\n",
       " 'spotify:track:2PbDTml5nlPHD8L48mExNm',\n",
       " 'spotify:track:3b8Kd3PSclU6juwYLbqlMS',\n",
       " 'spotify:track:2hRBqxdkYuFySfyEkcsPOp',\n",
       " 'spotify:track:5I9ILJIFGFoM4Qq8yddWam',\n",
       " 'spotify:track:3A5rPtjewJxprfPFPitjEQ',\n",
       " 'spotify:track:4RO7NCzIQsuoMmgg3AWWuQ',\n",
       " 'spotify:track:4RO7NCzIQsuoMmgg3AWWuQ',\n",
       " 'spotify:track:5vhHkcyIsL0e8JejMwECdt',\n",
       " 'spotify:track:3tzU46wNOVaFiYRNtNYY66',\n",
       " 'spotify:track:57AFoE8MhyLzQJZz1dkSRs',\n",
       " 'spotify:track:4hSfY4G2SIUlwGViX1ve6J',\n",
       " 'spotify:track:0lX13P1uH2Hn6R9iavXWxJ',\n",
       " 'spotify:track:3DLF0Ekj8dZIlTqcj0JBIA',\n",
       " 'spotify:track:4iVSm6kc2dUtsiUW9P1Uwf',\n",
       " 'spotify:track:1RxfLTbsy0Q3KhR89uShrS',\n",
       " 'spotify:track:4VRy3EuT72or2i6HGkBZPz',\n",
       " 'spotify:track:0nuTldtCp9eCHWkdriK7DV',\n",
       " 'spotify:track:3n8XA8Y9YAWVAKibeXuomP',\n",
       " 'spotify:track:5b6Dg4S94OYPQvlmosanwo',\n",
       " 'spotify:track:0sujwD2rDemdq6lBUvlB6j',\n",
       " 'spotify:track:3EdXHY7M1qkrHZKeKeHpdO',\n",
       " 'spotify:track:14nAUobNnAo4nSJjXbQofp',\n",
       " 'spotify:track:3EyAmeltHBFLXoBx1rNJXH',\n",
       " 'spotify:track:10he6VQJ3nYdpxD7mAOO5S',\n",
       " 'spotify:track:7KjOef9Rdrx222VItdy0dU',\n",
       " 'spotify:track:2qK3EcOwRxU5GIZlYWHBwa',\n",
       " 'spotify:track:6QTUV1rDVYpOjJhUFP1gsI',\n",
       " 'spotify:track:5hmdVInUUVcMWwSEZA2DX3',\n",
       " 'spotify:track:0eSlOjv3bsJuFJTnwxpzCL',\n",
       " 'spotify:track:3Iju4sprTb8as0be1A41q6',\n",
       " 'spotify:track:3ih3XlBmmQrqwZQj17Gh0I',\n",
       " 'spotify:track:2jKGCgPeUrcdIDdkLLGrlL',\n",
       " 'spotify:track:4SNxXAQ8QMlxLhYVX7nuoE',\n",
       " 'spotify:track:3BsrhBEosj03ADm5d2QP2d',\n",
       " 'spotify:track:4iUiidFVMjLQbdWFnVm3cR',\n",
       " 'spotify:track:3uBMB4pWWkOPM3XLxoG7E4',\n",
       " 'spotify:track:5fbrmJiqIlfI4e7t7RQIvT',\n",
       " 'spotify:track:0RDZz06qs6X8EtoqPmppRA',\n",
       " 'spotify:track:6iNO31NlTHD66Izp5vxry8',\n",
       " 'spotify:track:0n8hRiiVLRgObrkHYCy1I7',\n",
       " 'spotify:track:4spUUxNkV5NKXl50z6uemv',\n",
       " 'spotify:track:3DGrcih7twcLSH8ssp5s21',\n",
       " 'spotify:track:4d2jqJIZXzeOvDsxHmYva0',\n",
       " 'spotify:track:5SNedD7AjK41xh8VQh5LNM',\n",
       " 'spotify:track:550Z8MoCCRXnAE83dxCqfz',\n",
       " 'spotify:track:4vHOcrM8dJ9LE4pINXthgj',\n",
       " 'spotify:track:1rUPkryHdtGKeXVghrkGRl',\n",
       " 'spotify:track:1WyjSjo0nEZkzkWgJWRcEE',\n",
       " 'spotify:track:1tYXvwP2nPrU6bbV9QUU7i',\n",
       " 'spotify:track:1De7fMm1UPurbI47uUhIqS',\n",
       " 'spotify:track:5a4CjeST1bAEEgYIVa4amS',\n",
       " 'spotify:track:0RleEAKmcUbJ3R7AK0dSfV',\n",
       " 'spotify:track:3xSdEH8yjB0hiCcj9CG0xR',\n",
       " 'spotify:track:0O5eCt9Nbl8TG43Nx75kda',\n",
       " 'spotify:track:0OMEnGAKSH3BLNeCJWCZjX',\n",
       " 'spotify:track:3xQ3cs7ZWRXDFn8TygpGlX',\n",
       " 'spotify:track:6ZnPSPsjHmlKiBll2EVu1x',\n",
       " 'spotify:track:6UjeFOCGYgMpBUtqKg1Je3',\n",
       " 'spotify:track:6qEEi8NSpxJfORl3YRxzea',\n",
       " 'spotify:track:0fDFzVTG8c2fW9EM5f1RHM',\n",
       " 'spotify:track:0RQqOuAvXGo9EX51XTUvvx',\n",
       " 'spotify:track:5nVYhYC5DcXkaFWW9o5zMn',\n",
       " 'spotify:track:6dusf13SeuKTa3dnxVmH3f',\n",
       " 'spotify:track:1TpDY2yDMP7x9dU2rCyOFt',\n",
       " 'spotify:track:2tTZ30Y47onTYDssqpOBm4',\n",
       " 'spotify:track:6TwAaOX8aS0N50GzLeNHsd',\n",
       " 'spotify:track:4IDc7l0lXExSNq955XQCE9',\n",
       " 'spotify:track:4GJvolzpuvX8Fp38V1UQCT',\n",
       " 'spotify:track:0OOIFL8VNFHXRSsci9F2m4',\n",
       " 'spotify:track:7mkemk33kdLQvrkIpRkWWd',\n",
       " 'spotify:track:7xsjI11alpcfweV1y75dSs',\n",
       " 'spotify:track:5yqEdgJawICKIDA5cQZBOn',\n",
       " 'spotify:track:0hm8rgOY17z7kQJlqGKbu7',\n",
       " 'spotify:track:3pNiID8HDdeoUGQxGTY5Lg',\n",
       " 'spotify:track:0c3YWBPsNzyREE1rO0LaVl',\n",
       " 'spotify:track:2rhebL2w5mX3g4pU54bDEc',\n",
       " 'spotify:track:5azJUob8ahbXB3M9YFwTpd',\n",
       " 'spotify:track:3CRDbSIZ4r5MsZ0YwxuEkn',\n",
       " 'spotify:track:3VGcqMhMC0Ft06POAWUT3S',\n",
       " 'spotify:track:44xcesNKDvsRYz22xO7Uit',\n",
       " 'spotify:track:3PBwrqiZsfwkltwqvtsRau',\n",
       " 'spotify:track:23SGoB6pbBXx2qcrM1VEYU',\n",
       " 'spotify:track:5FRf7CEdIIc6ZjCdRC9V6s',\n",
       " 'spotify:track:4cahtZlZA1qbMGnx1TOD42',\n",
       " 'spotify:track:7zrAiPBBbkrGyV4b6xpQpn',\n",
       " 'spotify:track:3InFcD65QGmnAC5NiFMEG9',\n",
       " 'spotify:track:6uBexmz61ckt5XQRqTgF3M',\n",
       " 'spotify:track:6pcyGiFry1qnMRt2CZRjNy',\n",
       " 'spotify:track:7BOtaBZfN5pVNF5DC6VZ9D',\n",
       " 'spotify:track:2fRXHXLFvYnaYbQwkyadeC',\n",
       " 'spotify:track:7ibcDahEtQ8Grj7Fe3SSnJ',\n",
       " 'spotify:track:0EKTuuDuN8bAIwqFB1bPYY',\n",
       " 'spotify:track:4v6wHcAjo3yJBPGNrWqQfc',\n",
       " 'spotify:track:1chkdOyigkoPERkGnnfSzR',\n",
       " 'spotify:track:1chkdOyigkoPERkGnnfSzR',\n",
       " 'spotify:track:66PpQWZ7hLNq8i0XwQ5JVw',\n",
       " 'spotify:track:7uwcgQRqDQua07Lvm0xDvN',\n",
       " 'spotify:track:1Nzzs9OeDZesMLat0LVFQd',\n",
       " 'spotify:track:5jFz7um0CmlVjcUxvAY5hV',\n",
       " 'spotify:track:7Fut818B4HWwVAplnSAEaX',\n",
       " 'spotify:track:7MHYevAW7tSqcaprrKkmTa',\n",
       " 'spotify:track:3LLak1MClk4EhyW7GjMBZr',\n",
       " 'spotify:track:1KocWiRnnFsqHevbTnsDer',\n",
       " 'spotify:track:5l1AMUJEA43GYqxpfTyhoT',\n",
       " 'spotify:track:5zpUjhFZWLZ7vCVk6ZpnRs',\n",
       " 'spotify:track:6GZEEoTST2iZcU52LfVDHZ',\n",
       " 'spotify:track:75s7uFrBUhwHH4sVbsSn0a',\n",
       " 'spotify:track:2Dnh11uPLrW3eieWqc7d6p',\n",
       " 'spotify:track:6c0c9H6qAmKnYQK6TjYVqI',\n",
       " 'spotify:track:6I0m89XMkPX46MMaNmkWNK',\n",
       " 'spotify:track:7Ke3278Eb1oKmnZmZSvAAS',\n",
       " 'spotify:track:1ECcG7gnZ32HvDuqDQXQ38',\n",
       " 'spotify:track:095Ppfd7uF2U5W2wGrnpCd',\n",
       " 'spotify:track:4w1lzcaoZ1IC2K5TwjalRP',\n",
       " 'spotify:track:6EmwBRFDI25uukoQ9jCU6J',\n",
       " 'spotify:track:7mE20vOvTsQ9WWfCxgz3FG',\n",
       " 'spotify:track:3Z6wPfzx7wAkKTXvz0Ktiv',\n",
       " 'spotify:track:2v6xTo0iCKhHwoPlGuCWQs',\n",
       " 'spotify:track:2w5l9sDXytt4lu0ZYFSoIX',\n",
       " 'spotify:track:3NvlurGsg6RgPlgY2VVfl9']"
      ]
     },
     "execution_count": 319,
     "metadata": {},
     "output_type": "execute_result"
    }
   ],
   "source": [
    "tracks_to_add"
   ]
  },
  {
   "cell_type": "raw",
   "metadata": {},
   "source": []
  },
  {
   "cell_type": "markdown",
   "metadata": {},
   "source": [
    "## Updating playlist with track list"
   ]
  },
  {
   "cell_type": "code",
   "execution_count": 320,
   "metadata": {},
   "outputs": [],
   "source": [
    "def chunks(lst, n):\n",
    "    \"\"\"Yield successive n-sized chunks from lst.\"\"\"\n",
    "    for i in range(0, len(lst), n):\n",
    "        yield lst[i:i + n]"
   ]
  },
  {
   "cell_type": "code",
   "execution_count": 321,
   "metadata": {},
   "outputs": [],
   "source": [
    "# batch tracks into 100's\n",
    "track_batches = list(batch(tracks_to_add, 100))"
   ]
  },
  {
   "cell_type": "code",
   "execution_count": 325,
   "metadata": {},
   "outputs": [],
   "source": [
    "missi_pl_uri = '1ndO4967sqMKFsMapRUVXe'"
   ]
  },
  {
   "cell_type": "code",
   "execution_count": 326,
   "metadata": {},
   "outputs": [],
   "source": [
    "# update playlist with new track list\n",
    "playlist_id = missi_pl_uri\n",
    "\n",
    "for i in range(0,len(track_batches)):  # for each batch of tracks\n",
    "    track_uris = track_batches[i]\n",
    "    # if first batch, replace playlist \n",
    "    if i == 0:\n",
    "        result = sp.user_playlist_replace_tracks(username, playlist_id, track_uris)\n",
    "    else:\n",
    "        results = sp.user_playlist_add_tracks(username, playlist_id, track_uris)"
   ]
  },
  {
   "cell_type": "code",
   "execution_count": 188,
   "metadata": {},
   "outputs": [
    {
     "data": {
      "text/plain": [
       "121"
      ]
     },
     "execution_count": 188,
     "metadata": {},
     "output_type": "execute_result"
    }
   ],
   "source": [
    "len(tracks_to_add)"
   ]
  },
  {
   "cell_type": "markdown",
   "metadata": {},
   "source": [
    "## Updating playlist info"
   ]
  },
  {
   "cell_type": "code",
   "execution_count": 324,
   "metadata": {},
   "outputs": [
    {
     "data": {
      "text/plain": [
       "{'spotify:playlist:3wyoGUeXeFAkz048JxbeBV': 'ShowQuester: Polaris Hall',\n",
       " 'spotify:playlist:1ndO4967sqMKFsMapRUVXe': 'ShowQuester: Mississippi Studios',\n",
       " 'spotify:playlist:2YKN2qa6Ilbe3nXXVUBSFt': 'throwback beats',\n",
       " 'spotify:playlist:3caNlZabl26NCujL4SYEi1': 'sami bday bash',\n",
       " 'spotify:playlist:0F2tGZDxxco41eqBPDJheH': 'Backbeat Boyz',\n",
       " 'spotify:playlist:1DlgHAWVWr1EcPKP3NM6n4': 'freshPOW',\n",
       " 'spotify:playlist:2eOk9m9Z4MaFUqYG4rCqtN': 'pythene',\n",
       " 'spotify:playlist:43szLulK8wgquVH90gxufG': 'Silver Springs',\n",
       " 'spotify:playlist:37i9dQZF1DXea80XwOJRgD': 'The Midnight Hour',\n",
       " 'spotify:playlist:37i9dQZF1DX44dZ4p5QLf4': 'I Love My Neo-Soul',\n",
       " 'spotify:playlist:6VuhnLFFLRp2xaAMaJJkEl': 'Return of the Mack',\n",
       " 'spotify:playlist:37i9dQZF1DXd0ZFXhY0CRF': 'Women of Rock',\n",
       " 'spotify:playlist:37i9dQZF1DX1tyCD9QhIWF': 'Walk Like A Badass',\n",
       " 'spotify:playlist:37i9dQZF1DX9Mqxt6NLTDY': 'All Things Post',\n",
       " 'spotify:playlist:1hdJtCDmj9STlWlf6c2c4U': '[INBOX]',\n",
       " 'spotify:playlist:37i9dQZF1DX5kjCvsC5isB': 'Fierce Femmes',\n",
       " 'spotify:playlist:4ItPFL66hguvJXwdxVQ0Bj': 'Pynk Bounce',\n",
       " 'spotify:playlist:37i9dQZEVXblrJESC2wtAi': 'Release Radar',\n",
       " 'spotify:playlist:37i9dQZF1DX36Xw4IJIVKA': 'Lofi Hip-Hop',\n",
       " 'spotify:playlist:2SUkl5rqV0rwOlTIuF58Ju': \"songs so beautiful they make me say 'ow'\",\n",
       " 'spotify:playlist:2t0kXIDdyntdimjNT1ktMa': 'side-0',\n",
       " 'spotify:playlist:2I5iY72uQlRMXuxJDdR5XC': 'side-b',\n",
       " 'spotify:playlist:0Igw1FBASCYxV631U9EeAU': 'side-a',\n",
       " 'spotify:playlist:4FbgSxRUwvcmUimEz5C2ui': 'Everywhere',\n",
       " 'spotify:playlist:0ixArOwVaghRhH4EIHmhtb': 'bubblegum',\n",
       " 'spotify:playlist:37i9dQZF1DX8Kgdykz6OKj': 'Jazz Rap',\n",
       " 'spotify:playlist:5J6VKZ3Otx2mgukzTUTAeQ': 'grow',\n",
       " 'spotify:playlist:1eCEYlpX2pKouodluH3qce': 'a.paak',\n",
       " 'spotify:playlist:37i9dQZF1DX2A29LI7xHn1': 'Signed XOXO',\n",
       " 'spotify:playlist:37i9dQZF1DX4eRPd9frC1m': 'Hype',\n",
       " 'spotify:playlist:43cBhm1s4wrwIHTa0yGIlh': 'Starred',\n",
       " 'spotify:playlist:6uyKfDsY1gYjNOkeaiQwpV': 'freshies',\n",
       " 'spotify:playlist:4rGoQzD7ZjZnXNQCmAskKH': 'Satisfied',\n",
       " 'spotify:playlist:7BP6V8qKWyBP4J5aPBaABT': 'Birdsong',\n",
       " 'spotify:playlist:3NfxaJAv1pQnaczgJgT30n': 'Oh Devil',\n",
       " 'spotify:playlist:37i9dQZF1DX0XUsuxWHRQd': 'RapCaviar',\n",
       " 'spotify:playlist:37i9dQZF1DWVGy1YP1ojM5': 'Silk Sheets',\n",
       " 'spotify:playlist:37i9dQZF1DXb0j2lQMFxFe': 'This Is James Blake',\n",
       " 'spotify:playlist:2Tv6GnsvxCVXKvrMSRguCL': 'Good Girls',\n",
       " 'spotify:playlist:7E5aHtP0xGsLYYKka9rWuI': 'Focus',\n",
       " 'spotify:playlist:4eP6qwqymbvB6Uz9ARkv7j': 'yo shit',\n",
       " 'spotify:playlist:2g3YOrhHES9eeBbso3Adfm': 'imthaweekend',\n",
       " 'spotify:playlist:5hzFPdGWtKxpdKacQtgmDi': 'steeped',\n",
       " 'spotify:playlist:0kzKcU2Ubtju5U5mbtoO0A': '1moarrep',\n",
       " 'spotify:playlist:0zXTEaS5I5ECu5LvxSleFz': 'contact',\n",
       " 'spotify:playlist:5rIUTQLtnhbwCFQwEijRWo': 'Lofi Radio Mix: Hip Hop, Chill, Instrumental, Vaporwave, Relax, Anime, Sleep, Study, Sad, Jazz, Beat',\n",
       " 'spotify:playlist:3JUFkGunBUlTnXKTu3Voxy': 'docile antelope',\n",
       " 'spotify:playlist:31FWVQBp3WQydWLNhO0ACi': \"ChilledCow's favorites\",\n",
       " 'spotify:playlist:38q8G46YzAjrI8wr2nGZlH': 'Booty Tunes',\n",
       " 'spotify:playlist:37i9dQZF1DX186v583rmzp': \"I Love My '90s Hip-Hop\"}"
      ]
     },
     "execution_count": 324,
     "metadata": {},
     "output_type": "execute_result"
    }
   ],
   "source": [
    "# get playlist names and uris\n",
    "my_playlists = {}\n",
    "result = sp.user_playlists(username)\n",
    "for each in result['items']:\n",
    "    my_playlists[each['uri']] = each['name']\n",
    "\n",
    "my_playlists"
   ]
  },
  {
   "cell_type": "code",
   "execution_count": 283,
   "metadata": {},
   "outputs": [],
   "source": [
    "# update playlist info\n",
    "missi_id = '1ndO4967sqMKFsMapRUVXe'\n",
    "playlist_name = 'ShowQuester: Mississippi Studios'\n",
    "venue_name = 'Mississippi Studios'\n",
    "missi_descr = f'A programmatically-generated playlist featuring artists coming soon to {venue_name}. Ordered by date, with this week up top and events farther in the future at the bottom. Updated {todays_date}. Go to https://www.mississippistudios.com/calendar/ for tickets. Check out my GitHub for details on how this playlist is generated: [COMING SOON]'\n",
    "results = sp.user_playlist_change_details(\n",
    "        username, playlist_id=missi_id, name=playlist_name, description=missi_descr)"
   ]
  },
  {
   "cell_type": "code",
   "execution_count": 262,
   "metadata": {},
   "outputs": [
    {
     "data": {
      "text/plain": [
       "'spotify:playlist:3wyoGUeXeFAkz048JxbeBV'"
      ]
     },
     "execution_count": 262,
     "metadata": {},
     "output_type": "execute_result"
    }
   ],
   "source": [
    "uri = 'spotify:playlist:3wyoGUeXeFAkz048JxbeBV'\n",
    "polaris_pl_uri"
   ]
  },
  {
   "cell_type": "code",
   "execution_count": 284,
   "metadata": {},
   "outputs": [],
   "source": [
    "# update playlist info\n",
    "playlist_id = '3wyoGUeXeFAkz048JxbeBV'\n",
    "playlist_name = 'ShowQuester: Polaris Hall'\n",
    "venue_name = 'Polaris Hall'\n",
    "descr = f'A programmatically-generated playlist featuring artists coming soon to {venue_name}. Ordered by date, with this week up top and events farther in the future at the bottom. Updated {todays_date}. Go to https://www.mississippistudios.com/calendar/ for tickets. Check out my GitHub for details on how this playlist is generated: [LINK COMING SOON]'\n",
    "results = sp.user_playlist_change_details(\n",
    "        username, playlist_id, name=playlist_name, \n",
    "        description=descr)"
   ]
  },
  {
   "cell_type": "code",
   "execution_count": 279,
   "metadata": {},
   "outputs": [
    {
     "data": {
      "text/plain": [
       "'\\nA programmatically-generated playlist featuring artists coming soon to Polaris Hall. Ordered by date, with this week up top and events farther in the future at the bottom. Updated 2020-02-20. Go to https://www.mississippistudios.com/calendar/ for tickets. Check out my GitHub for details on how this playlist is generated: [LINK COMING SOON]\\n'"
      ]
     },
     "execution_count": 279,
     "metadata": {},
     "output_type": "execute_result"
    }
   ],
   "source": [
    "str(descr)"
   ]
  },
  {
   "cell_type": "code",
   "execution_count": 189,
   "metadata": {},
   "outputs": [],
   "source": [
    "sp.user_playlist_change_details?"
   ]
  },
  {
   "cell_type": "markdown",
   "metadata": {},
   "source": [
    "# Debugging\n",
    "\n",
    "I listened to the playlist and found a few cases that were weird:\n",
    "1. Steep Canyon Rangers - the track features Steve Martin, who is not on tour with them\n",
    "2. Ben Watt - featured track \"Bright Star - Sunset Mix\" is a collab with 2 other artists and sounds nothing like Ben Watt's singer songwriter-y stuff.\n",
    "\n",
    "Debug strategy: Check URI's for these songs and get track objects. Inside the track object, extract the 'artists' array. If array > 1, try second most popular track."
   ]
  },
  {
   "cell_type": "code",
   "execution_count": 124,
   "metadata": {},
   "outputs": [],
   "source": [
    "bright_star_uri = 'spotify:track:0kdli9bGgWufvIgeKtmtF5'\n",
    "ben_watt_uri = 'spotify:artist:4RIOH6XCUt1Xr8NLUj2u66'\n",
    "steep_canyon_rangers_uri = 'spotify:artist:1a6tqLJPUs4DBAnNUZkr2O'\n",
    "kevin_devine_uri = 'spotify:artist:66ScZxprvrMbCtN4ivA0JX'\n",
    "check_artists = ['spotify:artist:4RIOH6XCUt1Xr8NLUj2u66', 'spotify:artist:1a6tqLJPUs4DBAnNUZkr2O']"
   ]
  },
  {
   "cell_type": "code",
   "execution_count": 122,
   "metadata": {},
   "outputs": [],
   "source": [
    "result = sp.track(bright_star_uri)\n",
    "num_artists_on_track = len(result['artists'])"
   ]
  },
  {
   "cell_type": "code",
   "execution_count": 141,
   "metadata": {},
   "outputs": [
    {
     "name": "stdout",
     "output_type": "stream",
     "text": [
      "spotify:track:23SGoB6pbBXx2qcrM1VEYU \t North Marine Drive\n"
     ]
    }
   ],
   "source": [
    "artist_uri = ben_watt_uri\n",
    "result = sp.artist_top_tracks(artist_uri)['tracks']\n",
    "\n",
    "# find first track in top tracks that is only the artist\n",
    "for each in result:\n",
    "    if (len(each['artists'])) > 1:\n",
    "        continue\n",
    "    else:\n",
    "        print(each['uri'], '\\t', each['name'])\n",
    "        break"
   ]
  },
  {
   "cell_type": "code",
   "execution_count": 137,
   "metadata": {},
   "outputs": [
    {
     "name": "stdout",
     "output_type": "stream",
     "text": [
      "spotify:track:0kdli9bGgWufvIgeKtmtF5\n",
      "spotify:track:23SGoB6pbBXx2qcrM1VEYU\n",
      "spotify:track:0FmXimDKUUtcP2aodW828S\n",
      "spotify:track:1IwTgB0lEWnQWNXkng9wU7\n",
      "spotify:track:4TbQsImMHpfAI0XzSuWO3d\n",
      "spotify:track:0h6OiVfh9ICxDfv01XVgO4\n",
      "spotify:track:3Uzg5xASF1RMBngOgBk3iH\n",
      "spotify:track:4p843hcUcVM2rZgQvhoZOL\n",
      "spotify:track:5DtnDC47CQuGiGHVZ92qx0\n",
      "spotify:track:48YemRTa3pBlnmE1gnXomX\n"
     ]
    }
   ],
   "source": [
    "for each in result:\n",
    "    print(each['uri'])"
   ]
  },
  {
   "cell_type": "markdown",
   "metadata": {},
   "source": [
    "## Additional string cleaning to increase search result success rate\n",
    "\n",
    "That leaves 24 strings with no Spotify artist results, at least searching as is. We'll need to get into the nitty gritty to address these with a general strategy of:\n",
    "- identifying patterns that might explain search failure\n",
    "- manually checking a fair number\n",
    "- developing a strategy to address edge cases in iterative search passes"
   ]
  },
  {
   "cell_type": "code",
   "execution_count": null,
   "metadata": {},
   "outputs": [],
   "source": [
    "not_found"
   ]
  },
  {
   "cell_type": "markdown",
   "metadata": {},
   "source": [
    "Some of these strings simply do not have a Spotify entry. Take, for example, the boy band \"Sexy Pants\". This is a real band, but they do not appear to have any Spotify data.\n",
    "\n",
    "Here's what no results look like:"
   ]
  },
  {
   "cell_type": "code",
   "execution_count": null,
   "metadata": {},
   "outputs": [],
   "source": [
    "artist = 'sexy pants'\n",
    "results = sp.search(artist, type='artist')\n",
    "results['artists']"
   ]
  },
  {
   "cell_type": "markdown",
   "metadata": {},
   "source": [
    "Another is Phoebe Robinson, who has a podcast called \"Sooo Many White Guys\" but does not have a Spotify artist URI.\n",
    "\n",
    "But some of these like `'stumpfest ix: pallbearer'` contain an artist (in this case, Pallbearer), and some sort of modifier, often followed or preceeded by ':'. In this case, 'Stumpfest IX' refers to a local music festival. Another similar case is `'jason lytle: acoustic piano and guitar'`. As we can see from these two examples, sometimes the artist appears before the ':', and sometimes after.\n",
    "\n",
    "Here are some other observations of strings we might expect to see regularly on a billing but reduce our search success, as well as strategies to handle them:\n",
    "\n",
    "string | strategy | example\n",
    "---|---|---\n",
    "`unplugged` | remove string | `yacht rock revue unplugged`\n",
    "`with (special guest)` | search either side of | `kandace springs with special guest jimmie herrod`, `caitlin canty with noam pikelny`\n",
    "`solo` | remove string | `hiss golden messenger (solo)`\n",
    "`acoustic` | remove string | `joe henry solo & acoustic`\n",
    "`&` | search either side of | `dave hause & the mermaid`\n",
    "`:` | search either side of | `stumfest ix: pallbearer`\n",
    "`moved to` | skip and remove event - has been relocated | `moved to aladdin theater: beach bunny`\n",
    "`(...)` | uncertain, see below | `polaris (from the adventures of pete & pete)`\n",
    "`feat.` or `featuring` | search either side of | \"`he mysti krewe of nimbus' mardi gras party feat. too loose cajun`\n",
    "\n",
    "It's important to remember that for cases where we break the string up ('dave hause & the mermaid'), we might get results for each side, which may be a true collaboration, or simply a title with 1 artist and other stuff (as in the case of 'dave hause & the mermaid'). The best thing to do here may be to flag these cases and manually check them after the program runs each week.\n",
    "\n",
    "Combinations also exist, such as `'joe henry solo & acoustic'`, which requires us to think about the order of operations we should attempt here.\n",
    "\n",
    "There are also cases, like `'brent amaker deathsquad'`, where the artist (\"brent amaker\") is searchable, but the other word(s) (\"deathsquad\") throw off the search. Another example of this is: `'danny carey trio'` We might want to save these for a \"last pass\" that involves iteratively searching pairs of words, or perhaps using NLTK to identify \"proper nouns\" and searching those.\n",
    "\n",
    "Sometimes, trimming our search by removing certain strings (e.g. text within parentheses) may produce a hit to a different band than intended, as with `polaris (from the adventures of pete & pete)`. The top search hit on Spotify for \"Polaris\" is psych rock band, not the Polaris billed here. However, using the second half of the search string, perhaps in a general search, would likely turn up the correct artist. I tested this string in the general seach below, and do retrieve a correct album hit, from which I can extract the artist URI."
   ]
  },
  {
   "cell_type": "code",
   "execution_count": 36,
   "metadata": {},
   "outputs": [
    {
     "ename": "NameError",
     "evalue": "name 'sp' is not defined",
     "output_type": "error",
     "traceback": [
      "\u001b[0;31m---------------------------------------------------------------------------\u001b[0m",
      "\u001b[0;31mNameError\u001b[0m                                 Traceback (most recent call last)",
      "\u001b[0;32m<ipython-input-36-888845fe8db6>\u001b[0m in \u001b[0;36m<module>\u001b[0;34m\u001b[0m\n\u001b[0;32m----> 1\u001b[0;31m \u001b[0mresults\u001b[0m \u001b[0;34m=\u001b[0m \u001b[0msp\u001b[0m\u001b[0;34m.\u001b[0m\u001b[0msearch\u001b[0m\u001b[0;34m(\u001b[0m\u001b[0;34m'adventures of pete & pete'\u001b[0m\u001b[0;34m)\u001b[0m\u001b[0;34m\u001b[0m\u001b[0;34m\u001b[0m\u001b[0m\n\u001b[0m\u001b[1;32m      2\u001b[0m \u001b[0mresults\u001b[0m\u001b[0;34m\u001b[0m\u001b[0;34m\u001b[0m\u001b[0m\n",
      "\u001b[0;31mNameError\u001b[0m: name 'sp' is not defined"
     ]
    }
   ],
   "source": [
    "results = sp.search('adventures of pete & pete')\n",
    "results"
   ]
  },
  {
   "cell_type": "markdown",
   "metadata": {},
   "source": [
    "### The Not Founds: Breaking up complex strings and dealing with special characters"
   ]
  },
  {
   "cell_type": "code",
   "execution_count": null,
   "metadata": {},
   "outputs": [],
   "source": [
    "# searching strings w/ colons \":\"\n",
    "still_not_found = []\n",
    "add_to_found = []\n",
    "\n",
    "for artist in not_found:\n",
    "    search_terms = []\n",
    "    \n",
    "    if ':' in artist:\n",
    "        print(\"SEARCHING...:\",artist)\n",
    "        search_terms = artist.split(':')  # split string at colon\n",
    "        \n",
    "        for search_str in search_terms: # for each string\n",
    "            good_match = False\n",
    "            # search spotify\n",
    "            results = sp.search(search_str,type='artist')\n",
    "            # if result is found\n",
    "            if results['artists']['total'] > 0:\n",
    "                good_match = True  # indicate a match has been found\n",
    "                official_name = results['artists']['items'][0]['name']\n",
    "                add_to_found.append(official_name)\n",
    "                break\n",
    "            else:\n",
    "                print(\"No results for: \",search_str)\n",
    "            \n",
    "        if good_match == True:\n",
    "            print(\"FOUND: \", official_name)\n",
    "        else:\n",
    "            print(\"NOT FOUND: \", artist)\n",
    "            still_not_found.append(artist)"
   ]
  },
  {
   "cell_type": "code",
   "execution_count": null,
   "metadata": {},
   "outputs": [],
   "source": [
    "still_not_found"
   ]
  },
  {
   "cell_type": "code",
   "execution_count": null,
   "metadata": {},
   "outputs": [],
   "source": [
    "for search_str in not_found:\n",
    "    print(search_str)\n",
    "    search_terms = []\n",
    "    if ':' in artist:\n",
    "        search_terms = artist.split(':')\n",
    "    elif ' - ' in artist:\n",
    "        search_terms = artist.split(' - ')\n",
    "    else:\n",
    "        search_terms.append(artist)\n",
    "    print(search_terms)"
   ]
  },
  {
   "cell_type": "code",
   "execution_count": null,
   "metadata": {},
   "outputs": [],
   "source": []
  },
  {
   "cell_type": "code",
   "execution_count": null,
   "metadata": {},
   "outputs": [],
   "source": [
    "not_found = []\n",
    "found_artists = []\n",
    "\n",
    "for artist in hl_flat:\n",
    "    search_str = artist\n",
    "    results = sp.search(search_str,type='artist')\n",
    "    if results['artists']['total'] == 0:\n",
    "        print(\"Artist not found: \",search_str)\n",
    "        not_found.append(search_str)\n",
    "    else:\n",
    "        print(\"FOUND: \",results['artists']['items'][0]['name'])\n",
    "        found_artists.append(results['artists']['items'][0]['name'])"
   ]
  },
  {
   "cell_type": "code",
   "execution_count": null,
   "metadata": {},
   "outputs": [],
   "source": [
    "not_found"
   ]
  },
  {
   "cell_type": "markdown",
   "metadata": {},
   "source": [
    "# Scratch paper"
   ]
  },
  {
   "cell_type": "code",
   "execution_count": null,
   "metadata": {},
   "outputs": [],
   "source": [
    "## get artist uri\n",
    "search_str = 'Incubus'\n",
    "results = sp.search(search_str,type='artist')\n",
    "artist_uri = results['artists']['items'][0]['uri']\n",
    "artist_uri"
   ]
  },
  {
   "cell_type": "code",
   "execution_count": null,
   "metadata": {},
   "outputs": [],
   "source": [
    "# inspect search results for artist search\n",
    "search_results = result['items']\n",
    "\n",
    "for result in search_results:\n",
    "    print(result['name'])"
   ]
  },
  {
   "cell_type": "code",
   "execution_count": null,
   "metadata": {},
   "outputs": [],
   "source": [
    "# get top tracks' uris for artist\n",
    "top_tracks = sp.artist_top_tracks(artist_uri)['tracks']\n",
    "top_tracks_uri = [track['uri'] for track in top_tracks]\n",
    "top_tracks_uri"
   ]
  },
  {
   "cell_type": "code",
   "execution_count": null,
   "metadata": {},
   "outputs": [],
   "source": [
    "# get top tracks' uris for artist\n",
    "top_tracks = sp.artist_top_tracks(artist_uri)['tracks']\n",
    "top_tracks_uri = [track['uri'] for track in top_tracks]\n",
    "top_tracks_uri\n",
    "# add top tracks to 'add_me' list\n",
    "for each in top_tracks_uri[0:2]:\n",
    "    add_me.append(each)"
   ]
  },
  {
   "cell_type": "code",
   "execution_count": null,
   "metadata": {},
   "outputs": [],
   "source": [
    "add_me"
   ]
  },
  {
   "cell_type": "code",
   "execution_count": null,
   "metadata": {},
   "outputs": [],
   "source": [
    "# get top tracks' uris for artist\n",
    "top_tracks = sp.artist_top_tracks(artist_uri)['tracks']\n",
    "top_tracks_uri = [track['uri'] for track in top_tracks]\n",
    "top_tracks_uri\n",
    "# add top tracks to 'add_me' list\n",
    "for each in top_tracks_uri[0:2]:\n",
    "    add_me.append(each)\n",
    "# once add_me is complete,\n",
    "# replace all tracks with add_me\n",
    "playlist_id = pl_uri\n",
    "user = username\n",
    "tracks = add_me\n",
    "result = sp.user_playlist_replace_tracks(user, playlist_id, tracks)"
   ]
  },
  {
   "cell_type": "markdown",
   "metadata": {},
   "source": [
    "### Creating datetime objects\n",
    "\n",
    "Note: A `timedelta` object represents a duration, the difference between two dates or times."
   ]
  },
  {
   "cell_type": "code",
   "execution_count": null,
   "metadata": {},
   "outputs": [],
   "source": [
    "# convert dates to datetime objects\n",
    "shows['date'] = [datetime.datetime.fromisoformat(date) for date in shows['date']]\n",
    "\n",
    "# convert datetime objects to date objects\n",
    "shows['date'] = [each.date() for each in shows['date']]\n",
    "shows\n",
    "\n",
    "# get today's date as a date object\n",
    "today_date = datetime.date.today()\n",
    "# test as if today was March 10 so that \"past\" events can be filtered out\n",
    "\n",
    "# calculate how many days from today's date the event is\n",
    "# convert timedeltas to ints\n",
    "# create mask to remove shows in the past\n",
    "days_until_event = [(each - today_date).days for each in date_object]\n",
    "past_events_mask = [each >= 0 for each in days_until_event]\n",
    "shows[past_events_mask]"
   ]
  },
  {
   "cell_type": "code",
   "execution_count": null,
   "metadata": {},
   "outputs": [],
   "source": []
  }
 ],
 "metadata": {
  "kernelspec": {
   "display_name": "Python 3",
   "language": "python",
   "name": "python3"
  },
  "language_info": {
   "codemirror_mode": {
    "name": "ipython",
    "version": 3
   },
   "file_extension": ".py",
   "mimetype": "text/x-python",
   "name": "python",
   "nbconvert_exporter": "python",
   "pygments_lexer": "ipython3",
   "version": "3.8.0"
  }
 },
 "nbformat": 4,
 "nbformat_minor": 2
}
