{
 "cells": [
  {
   "cell_type": "code",
   "execution_count": 1,
   "metadata": {},
   "outputs": [
    {
     "data": {
      "text/plain": [
       "True"
      ]
     },
     "execution_count": 1,
     "metadata": {},
     "output_type": "execute_result"
    }
   ],
   "source": [
    "# load environmental variables\n",
    "from dotenv import load_dotenv\n",
    "load_dotenv()"
   ]
  },
  {
   "cell_type": "markdown",
   "metadata": {},
   "source": [
    "# Scrape Mississippi Studios calendar"
   ]
  },
  {
   "cell_type": "code",
   "execution_count": 2,
   "metadata": {},
   "outputs": [],
   "source": [
    "# load libraries\n",
    "import os\n",
    "import spotipy\n",
    "import spotipy.util as util\n",
    "\n",
    "import pickle\n",
    "\n",
    "import requests\n",
    "from bs4 import BeautifulSoup\n",
    "import re\n",
    "import pandas as pd\n",
    "\n",
    "import datetime"
   ]
  },
  {
   "cell_type": "code",
   "execution_count": 3,
   "metadata": {},
   "outputs": [],
   "source": [
    "# scrape calendar page for mississippi\n",
    "site = \"https://www.mississippistudios.com/calendar/\"\n",
    "# no headers\n",
    "response = requests.get(site)\n",
    "content = response.content"
   ]
  },
  {
   "cell_type": "markdown",
   "metadata": {},
   "source": [
    "## Parse the scraped website using BeautifulSoup4"
   ]
  },
  {
   "cell_type": "code",
   "execution_count": 4,
   "metadata": {},
   "outputs": [],
   "source": [
    "soup = BeautifulSoup(content, 'lxml')"
   ]
  },
  {
   "cell_type": "markdown",
   "metadata": {},
   "source": [
    "### BROKEN: Save data as a text file\n",
    "It seems that BeautifulSoup objects cannot be pickled...\n",
    "\n",
    "Will need to save html from the initial URL request if we want to do this, or alternatively just output the dataframe."
   ]
  },
  {
   "cell_type": "code",
   "execution_count": null,
   "metadata": {},
   "outputs": [],
   "source": [
    "# give today's date to file name\n",
    "todays_date = datetime.date.today()\n",
    "filename = str(todays_date) + '_mississippi_studios_cal.txt'\n",
    "filename"
   ]
  },
  {
   "cell_type": "code",
   "execution_count": null,
   "metadata": {},
   "outputs": [],
   "source": [
    "# write data to file\n",
    "#filename = '2020-01-22_mississippi_studios_cal.txt'\n",
    "f = open( filename, 'w' )\n",
    "f.write(soup.prettify())\n",
    "f.close()"
   ]
  },
  {
   "cell_type": "code",
   "execution_count": null,
   "metadata": {},
   "outputs": [],
   "source": [
    "# load a file\n",
    "filename = '2020-02-18_mississippi_studios_cal.txt'\n",
    "with open(filename) as f:\n",
    "    soup = BeautifulSoup(f.read(), 'lxml')"
   ]
  },
  {
   "cell_type": "markdown",
   "metadata": {},
   "source": [
    "## Parse the soup"
   ]
  },
  {
   "cell_type": "code",
   "execution_count": 5,
   "metadata": {},
   "outputs": [],
   "source": [
    "days = soup.find_all('td')\n",
    "\n",
    "dates = []\n",
    "headliners = []\n",
    "openers = []\n",
    "venues = []\n",
    "\n",
    "for day in days:\n",
    "    \n",
    "    events = day.find_all(class_='one-event')\n",
    "    if events:\n",
    "            date = day.section.span['title']\n",
    "\n",
    "    for event in events:\n",
    "        # record a date\n",
    "        dates.append(date)\n",
    "        \n",
    "        # record venue\n",
    "        venue = event.find(class_='venue').text\n",
    "        venues.append(venue)\n",
    "        \n",
    "        # get headliner and add to list\n",
    "        heads = event.find(class_='headliners').text\n",
    "        headliners.append(heads)\n",
    "        \n",
    "        # get openers and add to list \n",
    "        supps = event.find_all(class_='supports')\n",
    "        \n",
    "        opener_list = []\n",
    "        for supp in supps:\n",
    "            opener_list.append(supp.text)\n",
    "\n",
    "        # format multiple openers to match multiple headliners\n",
    "        # (to allow vectorized string methods later on)\n",
    "        opener_string = ' / '.join(opener_list)\n",
    "        \n",
    "        openers.append(opener_string)"
   ]
  },
  {
   "cell_type": "code",
   "execution_count": 72,
   "metadata": {},
   "outputs": [
    {
     "data": {
      "text/html": [
       "<div>\n",
       "<style scoped>\n",
       "    .dataframe tbody tr th:only-of-type {\n",
       "        vertical-align: middle;\n",
       "    }\n",
       "\n",
       "    .dataframe tbody tr th {\n",
       "        vertical-align: top;\n",
       "    }\n",
       "\n",
       "    .dataframe thead th {\n",
       "        text-align: right;\n",
       "    }\n",
       "</style>\n",
       "<table border=\"1\" class=\"dataframe\">\n",
       "  <thead>\n",
       "    <tr style=\"text-align: right;\">\n",
       "      <th></th>\n",
       "      <th>headliners</th>\n",
       "      <th>openers</th>\n",
       "      <th>date</th>\n",
       "      <th>venue</th>\n",
       "    </tr>\n",
       "  </thead>\n",
       "  <tbody>\n",
       "    <tr>\n",
       "      <th>0</th>\n",
       "      <td>Trout Steak Revival</td>\n",
       "      <td>Left Coast Country</td>\n",
       "      <td>2020-02-19T00:00:00-08:00</td>\n",
       "      <td>Mississippi Studios</td>\n",
       "    </tr>\n",
       "    <tr>\n",
       "      <th>1</th>\n",
       "      <td>Dustbowl Revival</td>\n",
       "      <td>Jared &amp; The Mill</td>\n",
       "      <td>2020-02-20T00:00:00-08:00</td>\n",
       "      <td>Mississippi Studios</td>\n",
       "    </tr>\n",
       "    <tr>\n",
       "      <th>2</th>\n",
       "      <td>Mike and the Moonpies / Quaker City Night Hawks</td>\n",
       "      <td></td>\n",
       "      <td>2020-02-21T00:00:00-08:00</td>\n",
       "      <td>Polaris Hall</td>\n",
       "    </tr>\n",
       "    <tr>\n",
       "      <th>3</th>\n",
       "      <td>Sexy Pants</td>\n",
       "      <td>Internet Beef / Rap Class</td>\n",
       "      <td>2020-02-21T00:00:00-08:00</td>\n",
       "      <td>Mississippi Studios</td>\n",
       "    </tr>\n",
       "    <tr>\n",
       "      <th>4</th>\n",
       "      <td>Dirty Honey - Rolling 7s Tour</td>\n",
       "      <td>The Amazons</td>\n",
       "      <td>2020-02-22T00:00:00-08:00</td>\n",
       "      <td>Polaris Hall</td>\n",
       "    </tr>\n",
       "    <tr>\n",
       "      <th>...</th>\n",
       "      <td>...</td>\n",
       "      <td>...</td>\n",
       "      <td>...</td>\n",
       "      <td>...</td>\n",
       "    </tr>\n",
       "    <tr>\n",
       "      <th>106</th>\n",
       "      <td>The BellRays / Slim Cessna's Auto Club</td>\n",
       "      <td></td>\n",
       "      <td>2020-06-18T00:00:00-07:00</td>\n",
       "      <td>Mississippi Studios</td>\n",
       "    </tr>\n",
       "    <tr>\n",
       "      <th>107</th>\n",
       "      <td>Bing &amp; Ruth</td>\n",
       "      <td></td>\n",
       "      <td>2020-06-19T00:00:00-07:00</td>\n",
       "      <td>Mississippi Studios</td>\n",
       "    </tr>\n",
       "    <tr>\n",
       "      <th>108</th>\n",
       "      <td>Polaris (from The Adventures of Pete &amp; Pete)</td>\n",
       "      <td></td>\n",
       "      <td>2020-07-08T00:00:00-07:00</td>\n",
       "      <td>Mississippi Studios</td>\n",
       "    </tr>\n",
       "    <tr>\n",
       "      <th>109</th>\n",
       "      <td>Archers Of Loaf</td>\n",
       "      <td></td>\n",
       "      <td>2020-07-09T00:00:00-07:00</td>\n",
       "      <td>Mississippi Studios</td>\n",
       "    </tr>\n",
       "    <tr>\n",
       "      <th>110</th>\n",
       "      <td>Archers Of Loaf</td>\n",
       "      <td></td>\n",
       "      <td>2020-07-10T00:00:00-07:00</td>\n",
       "      <td>Mississippi Studios</td>\n",
       "    </tr>\n",
       "  </tbody>\n",
       "</table>\n",
       "<p>111 rows × 4 columns</p>\n",
       "</div>"
      ],
      "text/plain": [
       "                                          headliners  \\\n",
       "0                                Trout Steak Revival   \n",
       "1                                   Dustbowl Revival   \n",
       "2    Mike and the Moonpies / Quaker City Night Hawks   \n",
       "3                                         Sexy Pants   \n",
       "4                      Dirty Honey - Rolling 7s Tour   \n",
       "..                                               ...   \n",
       "106           The BellRays / Slim Cessna's Auto Club   \n",
       "107                                      Bing & Ruth   \n",
       "108     Polaris (from The Adventures of Pete & Pete)   \n",
       "109                                  Archers Of Loaf   \n",
       "110                                  Archers Of Loaf   \n",
       "\n",
       "                       openers                       date                venue  \n",
       "0           Left Coast Country  2020-02-19T00:00:00-08:00  Mississippi Studios  \n",
       "1             Jared & The Mill  2020-02-20T00:00:00-08:00  Mississippi Studios  \n",
       "2                               2020-02-21T00:00:00-08:00         Polaris Hall  \n",
       "3    Internet Beef / Rap Class  2020-02-21T00:00:00-08:00  Mississippi Studios  \n",
       "4                  The Amazons  2020-02-22T00:00:00-08:00         Polaris Hall  \n",
       "..                         ...                        ...                  ...  \n",
       "106                             2020-06-18T00:00:00-07:00  Mississippi Studios  \n",
       "107                             2020-06-19T00:00:00-07:00  Mississippi Studios  \n",
       "108                             2020-07-08T00:00:00-07:00  Mississippi Studios  \n",
       "109                             2020-07-09T00:00:00-07:00  Mississippi Studios  \n",
       "110                             2020-07-10T00:00:00-07:00  Mississippi Studios  \n",
       "\n",
       "[111 rows x 4 columns]"
      ]
     },
     "execution_count": 72,
     "metadata": {},
     "output_type": "execute_result"
    }
   ],
   "source": [
    "d = {'headliners': headliners, 'openers': openers, 'date': dates, 'venue': venues}\n",
    "all_shows = pd.DataFrame(data = d)\n",
    "all_shows"
   ]
  },
  {
   "cell_type": "markdown",
   "metadata": {},
   "source": [
    "## Pickling the `all_shows` dataframe"
   ]
  },
  {
   "cell_type": "code",
   "execution_count": 14,
   "metadata": {},
   "outputs": [
    {
     "data": {
      "text/plain": [
       "'02-19-2020_all_shows.pickle'"
      ]
     },
     "execution_count": 14,
     "metadata": {},
     "output_type": "execute_result"
    }
   ],
   "source": [
    "today = datetime.date.today()\n",
    "today = today.strftime('%m-%d-%Y')\n",
    "pickle_name = today + '_all_shows.pickle'\n",
    "pickle_name"
   ]
  },
  {
   "cell_type": "code",
   "execution_count": 15,
   "metadata": {},
   "outputs": [],
   "source": [
    "# pickle the dataframe\n",
    "all_shows.to_pickle(pickle_name)"
   ]
  },
  {
   "cell_type": "code",
   "execution_count": null,
   "metadata": {},
   "outputs": [],
   "source": [
    "# load the pickled dataframe\n",
    "# all_shows = pd.read_pickle('02-19-2020_all_shows.pickle')"
   ]
  },
  {
   "cell_type": "markdown",
   "metadata": {},
   "source": [
    "## Remove cancelled shows and shows moved to other venues"
   ]
  },
  {
   "cell_type": "code",
   "execution_count": 74,
   "metadata": {},
   "outputs": [],
   "source": [
    "# convert all strings to lowercase\n",
    "all_shows['headliners'] = all_shows['headliners'].str.lower()\n",
    "all_shows['openers'] = all_shows['openers'].str.lower()\n",
    "all_shows['venue'] = all_shows['venue'].str.lower()"
   ]
  },
  {
   "cell_type": "code",
   "execution_count": 75,
   "metadata": {},
   "outputs": [],
   "source": [
    "# remove cancelled shows\n",
    "shows = all_shows[~all_shows['headliners'].str.contains('cancelled')]"
   ]
  },
  {
   "cell_type": "code",
   "execution_count": 76,
   "metadata": {},
   "outputs": [],
   "source": [
    "# remove shows that have been moved to other venues\n",
    "shows = shows[~shows['headliners'].str.contains('moved to')]"
   ]
  },
  {
   "cell_type": "code",
   "execution_count": 77,
   "metadata": {},
   "outputs": [
    {
     "data": {
      "text/html": [
       "<div>\n",
       "<style scoped>\n",
       "    .dataframe tbody tr th:only-of-type {\n",
       "        vertical-align: middle;\n",
       "    }\n",
       "\n",
       "    .dataframe tbody tr th {\n",
       "        vertical-align: top;\n",
       "    }\n",
       "\n",
       "    .dataframe thead th {\n",
       "        text-align: right;\n",
       "    }\n",
       "</style>\n",
       "<table border=\"1\" class=\"dataframe\">\n",
       "  <thead>\n",
       "    <tr style=\"text-align: right;\">\n",
       "      <th></th>\n",
       "      <th>headliners</th>\n",
       "      <th>openers</th>\n",
       "      <th>date</th>\n",
       "      <th>venue</th>\n",
       "    </tr>\n",
       "  </thead>\n",
       "  <tbody>\n",
       "    <tr>\n",
       "      <th>0</th>\n",
       "      <td>trout steak revival</td>\n",
       "      <td>left coast country</td>\n",
       "      <td>2020-02-19T00:00:00-08:00</td>\n",
       "      <td>mississippi studios</td>\n",
       "    </tr>\n",
       "    <tr>\n",
       "      <th>1</th>\n",
       "      <td>dustbowl revival</td>\n",
       "      <td>jared &amp; the mill</td>\n",
       "      <td>2020-02-20T00:00:00-08:00</td>\n",
       "      <td>mississippi studios</td>\n",
       "    </tr>\n",
       "    <tr>\n",
       "      <th>2</th>\n",
       "      <td>mike and the moonpies / quaker city night hawks</td>\n",
       "      <td></td>\n",
       "      <td>2020-02-21T00:00:00-08:00</td>\n",
       "      <td>polaris hall</td>\n",
       "    </tr>\n",
       "    <tr>\n",
       "      <th>3</th>\n",
       "      <td>sexy pants</td>\n",
       "      <td>internet beef / rap class</td>\n",
       "      <td>2020-02-21T00:00:00-08:00</td>\n",
       "      <td>mississippi studios</td>\n",
       "    </tr>\n",
       "    <tr>\n",
       "      <th>4</th>\n",
       "      <td>dirty honey - rolling 7s tour</td>\n",
       "      <td>the amazons</td>\n",
       "      <td>2020-02-22T00:00:00-08:00</td>\n",
       "      <td>polaris hall</td>\n",
       "    </tr>\n",
       "  </tbody>\n",
       "</table>\n",
       "</div>"
      ],
      "text/plain": [
       "                                        headliners                    openers  \\\n",
       "0                              trout steak revival         left coast country   \n",
       "1                                 dustbowl revival           jared & the mill   \n",
       "2  mike and the moonpies / quaker city night hawks                              \n",
       "3                                       sexy pants  internet beef / rap class   \n",
       "4                    dirty honey - rolling 7s tour                the amazons   \n",
       "\n",
       "                        date                venue  \n",
       "0  2020-02-19T00:00:00-08:00  mississippi studios  \n",
       "1  2020-02-20T00:00:00-08:00  mississippi studios  \n",
       "2  2020-02-21T00:00:00-08:00         polaris hall  \n",
       "3  2020-02-21T00:00:00-08:00  mississippi studios  \n",
       "4  2020-02-22T00:00:00-08:00         polaris hall  "
      ]
     },
     "execution_count": 77,
     "metadata": {},
     "output_type": "execute_result"
    }
   ],
   "source": [
    "shows.head()"
   ]
  },
  {
   "cell_type": "markdown",
   "metadata": {},
   "source": [
    "## Combine headliners and openers into a single string\n",
    "\n",
    "I decided to do this so that I use vectorized string methods on **all** artist listings **at once**. To keep consistent with the Mississippi calendar scheme, I'll use a ` / ` as a seperator.\n",
    "\n",
    "Alternatively, I could've written my cleaning functions then applied them to a list of `[shows['headliners'], shows['openers']]`."
   ]
  },
  {
   "cell_type": "code",
   "execution_count": 78,
   "metadata": {},
   "outputs": [],
   "source": [
    "# create full event lineup as a single string\n",
    "marquee = []\n",
    "for index, row in shows.iterrows():\n",
    "    # if no openers, billing is just headliner(s)\n",
    "    if not row['openers']:  \n",
    "        performers = row['headliners']\n",
    "    # if openers, billing is headliner(s) + opener(s)\n",
    "    else:\n",
    "        performers = row['headliners'] + \" / \" + row['openers']\n",
    "    \n",
    "    marquee.append(performers)"
   ]
  },
  {
   "cell_type": "code",
   "execution_count": 79,
   "metadata": {},
   "outputs": [
    {
     "data": {
      "text/html": [
       "<div>\n",
       "<style scoped>\n",
       "    .dataframe tbody tr th:only-of-type {\n",
       "        vertical-align: middle;\n",
       "    }\n",
       "\n",
       "    .dataframe tbody tr th {\n",
       "        vertical-align: top;\n",
       "    }\n",
       "\n",
       "    .dataframe thead th {\n",
       "        text-align: right;\n",
       "    }\n",
       "</style>\n",
       "<table border=\"1\" class=\"dataframe\">\n",
       "  <thead>\n",
       "    <tr style=\"text-align: right;\">\n",
       "      <th></th>\n",
       "      <th>headliners</th>\n",
       "      <th>openers</th>\n",
       "      <th>date</th>\n",
       "      <th>venue</th>\n",
       "      <th>marquee</th>\n",
       "    </tr>\n",
       "  </thead>\n",
       "  <tbody>\n",
       "    <tr>\n",
       "      <th>0</th>\n",
       "      <td>trout steak revival</td>\n",
       "      <td>left coast country</td>\n",
       "      <td>2020-02-19T00:00:00-08:00</td>\n",
       "      <td>mississippi studios</td>\n",
       "      <td>trout steak revival / left coast country</td>\n",
       "    </tr>\n",
       "    <tr>\n",
       "      <th>1</th>\n",
       "      <td>dustbowl revival</td>\n",
       "      <td>jared &amp; the mill</td>\n",
       "      <td>2020-02-20T00:00:00-08:00</td>\n",
       "      <td>mississippi studios</td>\n",
       "      <td>dustbowl revival / jared &amp; the mill</td>\n",
       "    </tr>\n",
       "    <tr>\n",
       "      <th>2</th>\n",
       "      <td>mike and the moonpies / quaker city night hawks</td>\n",
       "      <td></td>\n",
       "      <td>2020-02-21T00:00:00-08:00</td>\n",
       "      <td>polaris hall</td>\n",
       "      <td>mike and the moonpies / quaker city night hawks</td>\n",
       "    </tr>\n",
       "    <tr>\n",
       "      <th>3</th>\n",
       "      <td>sexy pants</td>\n",
       "      <td>internet beef / rap class</td>\n",
       "      <td>2020-02-21T00:00:00-08:00</td>\n",
       "      <td>mississippi studios</td>\n",
       "      <td>sexy pants / internet beef / rap class</td>\n",
       "    </tr>\n",
       "    <tr>\n",
       "      <th>4</th>\n",
       "      <td>dirty honey - rolling 7s tour</td>\n",
       "      <td>the amazons</td>\n",
       "      <td>2020-02-22T00:00:00-08:00</td>\n",
       "      <td>polaris hall</td>\n",
       "      <td>dirty honey - rolling 7s tour / the amazons</td>\n",
       "    </tr>\n",
       "    <tr>\n",
       "      <th>...</th>\n",
       "      <td>...</td>\n",
       "      <td>...</td>\n",
       "      <td>...</td>\n",
       "      <td>...</td>\n",
       "      <td>...</td>\n",
       "    </tr>\n",
       "    <tr>\n",
       "      <th>106</th>\n",
       "      <td>the bellrays / slim cessna's auto club</td>\n",
       "      <td></td>\n",
       "      <td>2020-06-18T00:00:00-07:00</td>\n",
       "      <td>mississippi studios</td>\n",
       "      <td>the bellrays / slim cessna's auto club</td>\n",
       "    </tr>\n",
       "    <tr>\n",
       "      <th>107</th>\n",
       "      <td>bing &amp; ruth</td>\n",
       "      <td></td>\n",
       "      <td>2020-06-19T00:00:00-07:00</td>\n",
       "      <td>mississippi studios</td>\n",
       "      <td>bing &amp; ruth</td>\n",
       "    </tr>\n",
       "    <tr>\n",
       "      <th>108</th>\n",
       "      <td>polaris (from the adventures of pete &amp; pete)</td>\n",
       "      <td></td>\n",
       "      <td>2020-07-08T00:00:00-07:00</td>\n",
       "      <td>mississippi studios</td>\n",
       "      <td>polaris (from the adventures of pete &amp; pete)</td>\n",
       "    </tr>\n",
       "    <tr>\n",
       "      <th>109</th>\n",
       "      <td>archers of loaf</td>\n",
       "      <td></td>\n",
       "      <td>2020-07-09T00:00:00-07:00</td>\n",
       "      <td>mississippi studios</td>\n",
       "      <td>archers of loaf</td>\n",
       "    </tr>\n",
       "    <tr>\n",
       "      <th>110</th>\n",
       "      <td>archers of loaf</td>\n",
       "      <td></td>\n",
       "      <td>2020-07-10T00:00:00-07:00</td>\n",
       "      <td>mississippi studios</td>\n",
       "      <td>archers of loaf</td>\n",
       "    </tr>\n",
       "  </tbody>\n",
       "</table>\n",
       "<p>110 rows × 5 columns</p>\n",
       "</div>"
      ],
      "text/plain": [
       "                                          headliners  \\\n",
       "0                                trout steak revival   \n",
       "1                                   dustbowl revival   \n",
       "2    mike and the moonpies / quaker city night hawks   \n",
       "3                                         sexy pants   \n",
       "4                      dirty honey - rolling 7s tour   \n",
       "..                                               ...   \n",
       "106           the bellrays / slim cessna's auto club   \n",
       "107                                      bing & ruth   \n",
       "108     polaris (from the adventures of pete & pete)   \n",
       "109                                  archers of loaf   \n",
       "110                                  archers of loaf   \n",
       "\n",
       "                       openers                       date  \\\n",
       "0           left coast country  2020-02-19T00:00:00-08:00   \n",
       "1             jared & the mill  2020-02-20T00:00:00-08:00   \n",
       "2                               2020-02-21T00:00:00-08:00   \n",
       "3    internet beef / rap class  2020-02-21T00:00:00-08:00   \n",
       "4                  the amazons  2020-02-22T00:00:00-08:00   \n",
       "..                         ...                        ...   \n",
       "106                             2020-06-18T00:00:00-07:00   \n",
       "107                             2020-06-19T00:00:00-07:00   \n",
       "108                             2020-07-08T00:00:00-07:00   \n",
       "109                             2020-07-09T00:00:00-07:00   \n",
       "110                             2020-07-10T00:00:00-07:00   \n",
       "\n",
       "                   venue                                          marquee  \n",
       "0    mississippi studios         trout steak revival / left coast country  \n",
       "1    mississippi studios              dustbowl revival / jared & the mill  \n",
       "2           polaris hall  mike and the moonpies / quaker city night hawks  \n",
       "3    mississippi studios           sexy pants / internet beef / rap class  \n",
       "4           polaris hall      dirty honey - rolling 7s tour / the amazons  \n",
       "..                   ...                                              ...  \n",
       "106  mississippi studios           the bellrays / slim cessna's auto club  \n",
       "107  mississippi studios                                      bing & ruth  \n",
       "108  mississippi studios     polaris (from the adventures of pete & pete)  \n",
       "109  mississippi studios                                  archers of loaf  \n",
       "110  mississippi studios                                  archers of loaf  \n",
       "\n",
       "[110 rows x 5 columns]"
      ]
     },
     "execution_count": 79,
     "metadata": {},
     "output_type": "execute_result"
    }
   ],
   "source": [
    "# save combined lineup to shows dataframe as a new column 'marquee'\n",
    "shows['marquee'] = marquee\n",
    "shows"
   ]
  },
  {
   "cell_type": "markdown",
   "metadata": {},
   "source": [
    "# Cleaning strings\n",
    "\n",
    "- remove 'an evening with' and 'an evening of'\n",
    "- remove 'sold out: '\n",
    "- remove 'solo' and '(solo)'"
   ]
  },
  {
   "cell_type": "code",
   "execution_count": 92,
   "metadata": {},
   "outputs": [
    {
     "data": {
      "text/plain": [
       "28    sold out: jason lytle: an evening of acoustic ...\n",
       "29    jason lytle: an evening of acoustic piano and ...\n",
       "50      an evening with caitlin canty with noam pikelny\n",
       "61                 an evening with steep canyon rangers\n",
       "73                           an evening with dan mangan\n",
       "Name: marquee, dtype: object"
      ]
     },
     "execution_count": 92,
     "metadata": {},
     "output_type": "execute_result"
    }
   ],
   "source": [
    "# playing with the pattern\n",
    "# unclear why adding a '\\b' after 'evening' results in 0 hits\n",
    "pattern = r\"\\ban evening (?:of|with) \"\n",
    "shows[shows['marquee'].str.contains(pattern)]['marquee']"
   ]
  },
  {
   "cell_type": "code",
   "execution_count": 93,
   "metadata": {},
   "outputs": [],
   "source": [
    "# remove \"an evening of/with \" from artist strings\n",
    "pattern = r\"\\ban evening (?:of|with) \"\n",
    "shows['marquee'] = [re.sub(pattern, \"\", each) for each in shows['marquee']]"
   ]
  },
  {
   "cell_type": "code",
   "execution_count": 98,
   "metadata": {},
   "outputs": [],
   "source": [
    "# remove \"sold out: \" from artist strings\n",
    "shows['marquee'] = shows['marquee'].str.replace('sold out: ','')"
   ]
  },
  {
   "cell_type": "code",
   "execution_count": 95,
   "metadata": {},
   "outputs": [],
   "source": [
    "# remove instances of 'solo' and '(solo)' from artist strings\n",
    "pattern = r\"\\b[(]?solo[)]?\\b\"\n",
    "shows['marquee'] = [re.sub(pattern, \"\", each) for each in shows['marquee']]"
   ]
  },
  {
   "cell_type": "code",
   "execution_count": 102,
   "metadata": {},
   "outputs": [],
   "source": [
    "# remove 'unplugged' from artist strings\n",
    "pattern = r\"\\bunplugged\\b\"\n",
    "shows['marquee'] = [re.sub(pattern, \"\", each) for each in shows['marquee']]"
   ]
  },
  {
   "cell_type": "markdown",
   "metadata": {},
   "source": [
    "## Separating by venue"
   ]
  },
  {
   "cell_type": "code",
   "execution_count": 10,
   "metadata": {},
   "outputs": [
    {
     "data": {
      "text/plain": [
       "mississippi studios    81\n",
       "polaris hall           26\n",
       "Name: venue, dtype: int64"
      ]
     },
     "execution_count": 10,
     "metadata": {},
     "output_type": "execute_result"
    }
   ],
   "source": [
    "shows['venue'].value_counts()"
   ]
  },
  {
   "cell_type": "markdown",
   "metadata": {},
   "source": [
    "There are 81 events at Mississippi Studios, and 26 at Polaris Hall."
   ]
  },
  {
   "cell_type": "code",
   "execution_count": 24,
   "metadata": {},
   "outputs": [
    {
     "data": {
      "text/html": [
       "<div>\n",
       "<style scoped>\n",
       "    .dataframe tbody tr th:only-of-type {\n",
       "        vertical-align: middle;\n",
       "    }\n",
       "\n",
       "    .dataframe tbody tr th {\n",
       "        vertical-align: top;\n",
       "    }\n",
       "\n",
       "    .dataframe thead th {\n",
       "        text-align: right;\n",
       "    }\n",
       "</style>\n",
       "<table border=\"1\" class=\"dataframe\">\n",
       "  <thead>\n",
       "    <tr style=\"text-align: right;\">\n",
       "      <th></th>\n",
       "      <th>headliners</th>\n",
       "      <th>openers</th>\n",
       "      <th>date</th>\n",
       "      <th>venue</th>\n",
       "    </tr>\n",
       "  </thead>\n",
       "  <tbody>\n",
       "    <tr>\n",
       "      <th>0</th>\n",
       "      <td>trout steak revival</td>\n",
       "      <td>left coast country</td>\n",
       "      <td>2020-02-19T00:00:00-08:00</td>\n",
       "      <td>mississippi studios</td>\n",
       "    </tr>\n",
       "    <tr>\n",
       "      <th>1</th>\n",
       "      <td>dustbowl revival</td>\n",
       "      <td>jared &amp; the mill</td>\n",
       "      <td>2020-02-20T00:00:00-08:00</td>\n",
       "      <td>mississippi studios</td>\n",
       "    </tr>\n",
       "    <tr>\n",
       "      <th>3</th>\n",
       "      <td>sexy pants</td>\n",
       "      <td>internet beef / rap class</td>\n",
       "      <td>2020-02-21T00:00:00-08:00</td>\n",
       "      <td>mississippi studios</td>\n",
       "    </tr>\n",
       "    <tr>\n",
       "      <th>5</th>\n",
       "      <td>dave hause &amp; the mermaid</td>\n",
       "      <td>northcote</td>\n",
       "      <td>2020-02-22T00:00:00-08:00</td>\n",
       "      <td>mississippi studios</td>\n",
       "    </tr>\n",
       "    <tr>\n",
       "      <th>6</th>\n",
       "      <td>kandace springs with special guest jimmie herrod</td>\n",
       "      <td></td>\n",
       "      <td>2020-02-23T00:00:00-08:00</td>\n",
       "      <td>mississippi studios</td>\n",
       "    </tr>\n",
       "    <tr>\n",
       "      <th>...</th>\n",
       "      <td>...</td>\n",
       "      <td>...</td>\n",
       "      <td>...</td>\n",
       "      <td>...</td>\n",
       "    </tr>\n",
       "    <tr>\n",
       "      <th>106</th>\n",
       "      <td>the bellrays / slim cessna's auto club</td>\n",
       "      <td></td>\n",
       "      <td>2020-06-18T00:00:00-07:00</td>\n",
       "      <td>mississippi studios</td>\n",
       "    </tr>\n",
       "    <tr>\n",
       "      <th>107</th>\n",
       "      <td>bing &amp; ruth</td>\n",
       "      <td></td>\n",
       "      <td>2020-06-19T00:00:00-07:00</td>\n",
       "      <td>mississippi studios</td>\n",
       "    </tr>\n",
       "    <tr>\n",
       "      <th>108</th>\n",
       "      <td>polaris (from the adventures of pete &amp; pete)</td>\n",
       "      <td></td>\n",
       "      <td>2020-07-08T00:00:00-07:00</td>\n",
       "      <td>mississippi studios</td>\n",
       "    </tr>\n",
       "    <tr>\n",
       "      <th>109</th>\n",
       "      <td>archers of loaf</td>\n",
       "      <td></td>\n",
       "      <td>2020-07-09T00:00:00-07:00</td>\n",
       "      <td>mississippi studios</td>\n",
       "    </tr>\n",
       "    <tr>\n",
       "      <th>110</th>\n",
       "      <td>archers of loaf</td>\n",
       "      <td></td>\n",
       "      <td>2020-07-10T00:00:00-07:00</td>\n",
       "      <td>mississippi studios</td>\n",
       "    </tr>\n",
       "  </tbody>\n",
       "</table>\n",
       "<p>83 rows × 4 columns</p>\n",
       "</div>"
      ],
      "text/plain": [
       "                                           headliners  \\\n",
       "0                                 trout steak revival   \n",
       "1                                    dustbowl revival   \n",
       "3                                          sexy pants   \n",
       "5                            dave hause & the mermaid   \n",
       "6    kandace springs with special guest jimmie herrod   \n",
       "..                                                ...   \n",
       "106            the bellrays / slim cessna's auto club   \n",
       "107                                       bing & ruth   \n",
       "108      polaris (from the adventures of pete & pete)   \n",
       "109                                   archers of loaf   \n",
       "110                                   archers of loaf   \n",
       "\n",
       "                       openers                       date                venue  \n",
       "0           left coast country  2020-02-19T00:00:00-08:00  mississippi studios  \n",
       "1             jared & the mill  2020-02-20T00:00:00-08:00  mississippi studios  \n",
       "3    internet beef / rap class  2020-02-21T00:00:00-08:00  mississippi studios  \n",
       "5                    northcote  2020-02-22T00:00:00-08:00  mississippi studios  \n",
       "6                               2020-02-23T00:00:00-08:00  mississippi studios  \n",
       "..                         ...                        ...                  ...  \n",
       "106                             2020-06-18T00:00:00-07:00  mississippi studios  \n",
       "107                             2020-06-19T00:00:00-07:00  mississippi studios  \n",
       "108                             2020-07-08T00:00:00-07:00  mississippi studios  \n",
       "109                             2020-07-09T00:00:00-07:00  mississippi studios  \n",
       "110                             2020-07-10T00:00:00-07:00  mississippi studios  \n",
       "\n",
       "[83 rows x 4 columns]"
      ]
     },
     "execution_count": 24,
     "metadata": {},
     "output_type": "execute_result"
    }
   ],
   "source": [
    "# extract events at Mississippi\n",
    "mississippi_shows = shows[shows['venue'].str.contains('mississippi')].copy()\n",
    "mississippi_shows"
   ]
  },
  {
   "cell_type": "code",
   "execution_count": 25,
   "metadata": {},
   "outputs": [
    {
     "data": {
      "text/html": [
       "<div>\n",
       "<style scoped>\n",
       "    .dataframe tbody tr th:only-of-type {\n",
       "        vertical-align: middle;\n",
       "    }\n",
       "\n",
       "    .dataframe tbody tr th {\n",
       "        vertical-align: top;\n",
       "    }\n",
       "\n",
       "    .dataframe thead th {\n",
       "        text-align: right;\n",
       "    }\n",
       "</style>\n",
       "<table border=\"1\" class=\"dataframe\">\n",
       "  <thead>\n",
       "    <tr style=\"text-align: right;\">\n",
       "      <th></th>\n",
       "      <th>headliners</th>\n",
       "      <th>openers</th>\n",
       "      <th>date</th>\n",
       "      <th>venue</th>\n",
       "    </tr>\n",
       "  </thead>\n",
       "  <tbody>\n",
       "    <tr>\n",
       "      <th>2</th>\n",
       "      <td>mike and the moonpies / quaker city night hawks</td>\n",
       "      <td></td>\n",
       "      <td>2020-02-21T00:00:00-08:00</td>\n",
       "      <td>polaris hall</td>\n",
       "    </tr>\n",
       "    <tr>\n",
       "      <th>4</th>\n",
       "      <td>dirty honey - rolling 7s tour</td>\n",
       "      <td>the amazons</td>\n",
       "      <td>2020-02-22T00:00:00-08:00</td>\n",
       "      <td>polaris hall</td>\n",
       "    </tr>\n",
       "    <tr>\n",
       "      <th>13</th>\n",
       "      <td>reptaliens / cones</td>\n",
       "      <td></td>\n",
       "      <td>2020-03-01T00:00:00-08:00</td>\n",
       "      <td>polaris hall</td>\n",
       "    </tr>\n",
       "    <tr>\n",
       "      <th>19</th>\n",
       "      <td>michaela anne</td>\n",
       "      <td>barna howard</td>\n",
       "      <td>2020-03-06T00:00:00-08:00</td>\n",
       "      <td>polaris hall</td>\n",
       "    </tr>\n",
       "    <tr>\n",
       "      <th>21</th>\n",
       "      <td>the shivas</td>\n",
       "      <td>máscaras / bad shadows</td>\n",
       "      <td>2020-03-07T00:00:00-08:00</td>\n",
       "      <td>polaris hall</td>\n",
       "    </tr>\n",
       "    <tr>\n",
       "      <th>34</th>\n",
       "      <td>jason boland and the stragglers</td>\n",
       "      <td>elaina kay</td>\n",
       "      <td>2020-03-19T00:00:00-07:00</td>\n",
       "      <td>polaris hall</td>\n",
       "    </tr>\n",
       "    <tr>\n",
       "      <th>36</th>\n",
       "      <td>old salt union</td>\n",
       "      <td>left coast country</td>\n",
       "      <td>2020-03-20T00:00:00-07:00</td>\n",
       "      <td>polaris hall</td>\n",
       "    </tr>\n",
       "    <tr>\n",
       "      <th>38</th>\n",
       "      <td>2020 xray awards</td>\n",
       "      <td></td>\n",
       "      <td>2020-03-21T00:00:00-07:00</td>\n",
       "      <td>polaris hall</td>\n",
       "    </tr>\n",
       "    <tr>\n",
       "      <th>39</th>\n",
       "      <td>2020 xray after party</td>\n",
       "      <td></td>\n",
       "      <td>2020-03-21T00:00:00-07:00</td>\n",
       "      <td>polaris hall</td>\n",
       "    </tr>\n",
       "    <tr>\n",
       "      <th>46</th>\n",
       "      <td>sonny and the sunsets</td>\n",
       "      <td>michael hurley / with special guests the gonks</td>\n",
       "      <td>2020-03-26T00:00:00-07:00</td>\n",
       "      <td>polaris hall</td>\n",
       "    </tr>\n",
       "    <tr>\n",
       "      <th>48</th>\n",
       "      <td>algiers</td>\n",
       "      <td>zen mother</td>\n",
       "      <td>2020-03-28T00:00:00-07:00</td>\n",
       "      <td>polaris hall</td>\n",
       "    </tr>\n",
       "    <tr>\n",
       "      <th>50</th>\n",
       "      <td>an evening with caitlin canty with noam pikelny</td>\n",
       "      <td></td>\n",
       "      <td>2020-03-29T00:00:00-07:00</td>\n",
       "      <td>polaris hall</td>\n",
       "    </tr>\n",
       "    <tr>\n",
       "      <th>53</th>\n",
       "      <td>sarah shook and the disarmers</td>\n",
       "      <td></td>\n",
       "      <td>2020-03-30T00:00:00-07:00</td>\n",
       "      <td>polaris hall</td>\n",
       "    </tr>\n",
       "    <tr>\n",
       "      <th>54</th>\n",
       "      <td>cameron esposito: save yourself tour</td>\n",
       "      <td></td>\n",
       "      <td>2020-03-31T00:00:00-07:00</td>\n",
       "      <td>polaris hall</td>\n",
       "    </tr>\n",
       "    <tr>\n",
       "      <th>56</th>\n",
       "      <td>esmé patterson</td>\n",
       "      <td></td>\n",
       "      <td>2020-04-01T00:00:00-07:00</td>\n",
       "      <td>polaris hall</td>\n",
       "    </tr>\n",
       "    <tr>\n",
       "      <th>58</th>\n",
       "      <td>strange ranger / horse jumper of love</td>\n",
       "      <td>blowout</td>\n",
       "      <td>2020-04-02T00:00:00-07:00</td>\n",
       "      <td>polaris hall</td>\n",
       "    </tr>\n",
       "    <tr>\n",
       "      <th>60</th>\n",
       "      <td>horseshoes and hand grenades</td>\n",
       "      <td>quattlebaum</td>\n",
       "      <td>2020-04-03T00:00:00-07:00</td>\n",
       "      <td>polaris hall</td>\n",
       "    </tr>\n",
       "    <tr>\n",
       "      <th>62</th>\n",
       "      <td>the warning</td>\n",
       "      <td></td>\n",
       "      <td>2020-04-04T00:00:00-07:00</td>\n",
       "      <td>polaris hall</td>\n",
       "    </tr>\n",
       "    <tr>\n",
       "      <th>69</th>\n",
       "      <td>the jackalope saints  / the weather machine</td>\n",
       "      <td></td>\n",
       "      <td>2020-04-10T00:00:00-07:00</td>\n",
       "      <td>polaris hall</td>\n",
       "    </tr>\n",
       "    <tr>\n",
       "      <th>70</th>\n",
       "      <td>oh, rose</td>\n",
       "      <td></td>\n",
       "      <td>2020-04-11T00:00:00-07:00</td>\n",
       "      <td>polaris hall</td>\n",
       "    </tr>\n",
       "    <tr>\n",
       "      <th>76</th>\n",
       "      <td>marisa anderson / tara jane o'neil</td>\n",
       "      <td></td>\n",
       "      <td>2020-04-18T00:00:00-07:00</td>\n",
       "      <td>polaris hall</td>\n",
       "    </tr>\n",
       "    <tr>\n",
       "      <th>79</th>\n",
       "      <td>joyce manor</td>\n",
       "      <td>dogleg / alien boy</td>\n",
       "      <td>2020-04-25T00:00:00-07:00</td>\n",
       "      <td>polaris hall</td>\n",
       "    </tr>\n",
       "    <tr>\n",
       "      <th>86</th>\n",
       "      <td>la luz</td>\n",
       "      <td>the berries</td>\n",
       "      <td>2020-05-07T00:00:00-07:00</td>\n",
       "      <td>polaris hall</td>\n",
       "    </tr>\n",
       "    <tr>\n",
       "      <th>88</th>\n",
       "      <td>hiss golden messenger (solo)</td>\n",
       "      <td></td>\n",
       "      <td>2020-05-08T00:00:00-07:00</td>\n",
       "      <td>polaris hall</td>\n",
       "    </tr>\n",
       "    <tr>\n",
       "      <th>94</th>\n",
       "      <td>david torn-michael manring-scott amendola</td>\n",
       "      <td></td>\n",
       "      <td>2020-05-15T00:00:00-07:00</td>\n",
       "      <td>polaris hall</td>\n",
       "    </tr>\n",
       "    <tr>\n",
       "      <th>95</th>\n",
       "      <td>wonderly's true and tall tales of the pacific ...</td>\n",
       "      <td>bizarre star string quartet</td>\n",
       "      <td>2020-05-16T00:00:00-07:00</td>\n",
       "      <td>polaris hall</td>\n",
       "    </tr>\n",
       "    <tr>\n",
       "      <th>97</th>\n",
       "      <td>filthy friends</td>\n",
       "      <td></td>\n",
       "      <td>2020-05-22T00:00:00-07:00</td>\n",
       "      <td>polaris hall</td>\n",
       "    </tr>\n",
       "  </tbody>\n",
       "</table>\n",
       "</div>"
      ],
      "text/plain": [
       "                                           headliners  \\\n",
       "2     mike and the moonpies / quaker city night hawks   \n",
       "4                       dirty honey - rolling 7s tour   \n",
       "13                                reptaliens / cones    \n",
       "19                                      michaela anne   \n",
       "21                                         the shivas   \n",
       "34                    jason boland and the stragglers   \n",
       "36                                     old salt union   \n",
       "38                                   2020 xray awards   \n",
       "39                              2020 xray after party   \n",
       "46                              sonny and the sunsets   \n",
       "48                                            algiers   \n",
       "50    an evening with caitlin canty with noam pikelny   \n",
       "53                      sarah shook and the disarmers   \n",
       "54               cameron esposito: save yourself tour   \n",
       "56                                     esmé patterson   \n",
       "58              strange ranger / horse jumper of love   \n",
       "60                       horseshoes and hand grenades   \n",
       "62                                        the warning   \n",
       "69        the jackalope saints  / the weather machine   \n",
       "70                                           oh, rose   \n",
       "76                 marisa anderson / tara jane o'neil   \n",
       "79                                        joyce manor   \n",
       "86                                             la luz   \n",
       "88                       hiss golden messenger (solo)   \n",
       "94          david torn-michael manring-scott amendola   \n",
       "95  wonderly's true and tall tales of the pacific ...   \n",
       "97                                     filthy friends   \n",
       "\n",
       "                                           openers                       date  \\\n",
       "2                                                   2020-02-21T00:00:00-08:00   \n",
       "4                                      the amazons  2020-02-22T00:00:00-08:00   \n",
       "13                                                  2020-03-01T00:00:00-08:00   \n",
       "19                                    barna howard  2020-03-06T00:00:00-08:00   \n",
       "21                          máscaras / bad shadows  2020-03-07T00:00:00-08:00   \n",
       "34                                      elaina kay  2020-03-19T00:00:00-07:00   \n",
       "36                              left coast country  2020-03-20T00:00:00-07:00   \n",
       "38                                                  2020-03-21T00:00:00-07:00   \n",
       "39                                                  2020-03-21T00:00:00-07:00   \n",
       "46  michael hurley / with special guests the gonks  2020-03-26T00:00:00-07:00   \n",
       "48                                      zen mother  2020-03-28T00:00:00-07:00   \n",
       "50                                                  2020-03-29T00:00:00-07:00   \n",
       "53                                                  2020-03-30T00:00:00-07:00   \n",
       "54                                                  2020-03-31T00:00:00-07:00   \n",
       "56                                                  2020-04-01T00:00:00-07:00   \n",
       "58                                         blowout  2020-04-02T00:00:00-07:00   \n",
       "60                                     quattlebaum  2020-04-03T00:00:00-07:00   \n",
       "62                                                  2020-04-04T00:00:00-07:00   \n",
       "69                                                  2020-04-10T00:00:00-07:00   \n",
       "70                                                  2020-04-11T00:00:00-07:00   \n",
       "76                                                  2020-04-18T00:00:00-07:00   \n",
       "79                              dogleg / alien boy  2020-04-25T00:00:00-07:00   \n",
       "86                                     the berries  2020-05-07T00:00:00-07:00   \n",
       "88                                                  2020-05-08T00:00:00-07:00   \n",
       "94                                                  2020-05-15T00:00:00-07:00   \n",
       "95                     bizarre star string quartet  2020-05-16T00:00:00-07:00   \n",
       "97                                                  2020-05-22T00:00:00-07:00   \n",
       "\n",
       "           venue  \n",
       "2   polaris hall  \n",
       "4   polaris hall  \n",
       "13  polaris hall  \n",
       "19  polaris hall  \n",
       "21  polaris hall  \n",
       "34  polaris hall  \n",
       "36  polaris hall  \n",
       "38  polaris hall  \n",
       "39  polaris hall  \n",
       "46  polaris hall  \n",
       "48  polaris hall  \n",
       "50  polaris hall  \n",
       "53  polaris hall  \n",
       "54  polaris hall  \n",
       "56  polaris hall  \n",
       "58  polaris hall  \n",
       "60  polaris hall  \n",
       "62  polaris hall  \n",
       "69  polaris hall  \n",
       "70  polaris hall  \n",
       "76  polaris hall  \n",
       "79  polaris hall  \n",
       "86  polaris hall  \n",
       "88  polaris hall  \n",
       "94  polaris hall  \n",
       "95  polaris hall  \n",
       "97  polaris hall  "
      ]
     },
     "execution_count": 25,
     "metadata": {},
     "output_type": "execute_result"
    }
   ],
   "source": [
    "# extract events at Polaris Hall\n",
    "polaris_shows = shows[shows['venue'].str.contains('polaris')].copy()\n",
    "polaris_shows"
   ]
  },
  {
   "cell_type": "markdown",
   "metadata": {},
   "source": [
    "### Creating datetime objects"
   ]
  },
  {
   "cell_type": "code",
   "execution_count": null,
   "metadata": {},
   "outputs": [],
   "source": [
    "# convert dates to datetime objects\n",
    "shows['date'] = [datetime.datetime.fromisoformat(date) for date in shows['date']]"
   ]
  },
  {
   "cell_type": "code",
   "execution_count": null,
   "metadata": {},
   "outputs": [],
   "source": [
    "shows"
   ]
  },
  {
   "cell_type": "markdown",
   "metadata": {},
   "source": [
    "Note: A `timedelta` object represents a duration, the difference between two dates or times."
   ]
  },
  {
   "cell_type": "code",
   "execution_count": null,
   "metadata": {},
   "outputs": [],
   "source": [
    "# convert datetime objects to date objects\n",
    "shows['date'] = [each.date() for each in shows['date']]\n",
    "shows"
   ]
  },
  {
   "cell_type": "code",
   "execution_count": null,
   "metadata": {},
   "outputs": [],
   "source": [
    "# get today's date as a date object\n",
    "today_date = datetime.date.today()\n",
    "# test as if today was March 10 so that \"past\" events can be filtered out"
   ]
  },
  {
   "cell_type": "code",
   "execution_count": null,
   "metadata": {},
   "outputs": [],
   "source": [
    "# calculate how many days from today's date the event is\n",
    "# convert timedeltas to ints\n",
    "# create mask to remove shows in the past\n",
    "days_until_event = [(each - today_date).days for each in date_object]\n",
    "past_events_mask = [each >= 0 for each in days_until_event]\n",
    "shows[past_events_mask]"
   ]
  },
  {
   "cell_type": "markdown",
   "metadata": {},
   "source": [
    "### Sold out shows\n",
    "Artists playing sold out shows do not need to be removed, as tickets may still be obtainable from third parties.\n",
    "\n",
    "The string 'sold out', however, should be removed from the string."
   ]
  },
  {
   "cell_type": "code",
   "execution_count": null,
   "metadata": {},
   "outputs": [],
   "source": [
    "# flagging sold out shows\n",
    "sold_out_shows = shows[shows['headliners'].str.contains('sold out')]\n",
    "sold_out_shows"
   ]
  },
  {
   "cell_type": "code",
   "execution_count": 26,
   "metadata": {},
   "outputs": [
    {
     "ename": "KeyError",
     "evalue": "'marquee'",
     "output_type": "error",
     "traceback": [
      "\u001b[0;31m---------------------------------------------------------------------------\u001b[0m",
      "\u001b[0;31mKeyError\u001b[0m                                  Traceback (most recent call last)",
      "\u001b[0;32m~/.pyenv/versions/3.8.0/envs/dstools3/lib/python3.8/site-packages/pandas/core/indexes/base.py\u001b[0m in \u001b[0;36mget_loc\u001b[0;34m(self, key, method, tolerance)\u001b[0m\n\u001b[1;32m   2896\u001b[0m             \u001b[0;32mtry\u001b[0m\u001b[0;34m:\u001b[0m\u001b[0;34m\u001b[0m\u001b[0;34m\u001b[0m\u001b[0m\n\u001b[0;32m-> 2897\u001b[0;31m                 \u001b[0;32mreturn\u001b[0m \u001b[0mself\u001b[0m\u001b[0;34m.\u001b[0m\u001b[0m_engine\u001b[0m\u001b[0;34m.\u001b[0m\u001b[0mget_loc\u001b[0m\u001b[0;34m(\u001b[0m\u001b[0mkey\u001b[0m\u001b[0;34m)\u001b[0m\u001b[0;34m\u001b[0m\u001b[0;34m\u001b[0m\u001b[0m\n\u001b[0m\u001b[1;32m   2898\u001b[0m             \u001b[0;32mexcept\u001b[0m \u001b[0mKeyError\u001b[0m\u001b[0;34m:\u001b[0m\u001b[0;34m\u001b[0m\u001b[0;34m\u001b[0m\u001b[0m\n",
      "\u001b[0;32mpandas/_libs/index.pyx\u001b[0m in \u001b[0;36mpandas._libs.index.IndexEngine.get_loc\u001b[0;34m()\u001b[0m\n",
      "\u001b[0;32mpandas/_libs/index.pyx\u001b[0m in \u001b[0;36mpandas._libs.index.IndexEngine.get_loc\u001b[0;34m()\u001b[0m\n",
      "\u001b[0;32mpandas/_libs/hashtable_class_helper.pxi\u001b[0m in \u001b[0;36mpandas._libs.hashtable.PyObjectHashTable.get_item\u001b[0;34m()\u001b[0m\n",
      "\u001b[0;32mpandas/_libs/hashtable_class_helper.pxi\u001b[0m in \u001b[0;36mpandas._libs.hashtable.PyObjectHashTable.get_item\u001b[0;34m()\u001b[0m\n",
      "\u001b[0;31mKeyError\u001b[0m: 'marquee'",
      "\nDuring handling of the above exception, another exception occurred:\n",
      "\u001b[0;31mKeyError\u001b[0m                                  Traceback (most recent call last)",
      "\u001b[0;32m<ipython-input-26-6216b2fbc620>\u001b[0m in \u001b[0;36m<module>\u001b[0;34m\u001b[0m\n\u001b[0;32m----> 1\u001b[0;31m \u001b[0msold_out_shows\u001b[0m \u001b[0;34m=\u001b[0m \u001b[0mmississippi_shows\u001b[0m\u001b[0;34m[\u001b[0m\u001b[0mmississippi_shows\u001b[0m\u001b[0;34m[\u001b[0m\u001b[0;34m'marquee'\u001b[0m\u001b[0;34m]\u001b[0m\u001b[0;34m.\u001b[0m\u001b[0mstr\u001b[0m\u001b[0;34m.\u001b[0m\u001b[0mcontains\u001b[0m\u001b[0;34m(\u001b[0m\u001b[0;34m'sold out'\u001b[0m\u001b[0;34m)\u001b[0m\u001b[0;34m]\u001b[0m\u001b[0;34m\u001b[0m\u001b[0;34m\u001b[0m\u001b[0m\n\u001b[0m\u001b[1;32m      2\u001b[0m \u001b[0msold_out_shows\u001b[0m\u001b[0;34m\u001b[0m\u001b[0;34m\u001b[0m\u001b[0m\n",
      "\u001b[0;32m~/.pyenv/versions/3.8.0/envs/dstools3/lib/python3.8/site-packages/pandas/core/frame.py\u001b[0m in \u001b[0;36m__getitem__\u001b[0;34m(self, key)\u001b[0m\n\u001b[1;32m   2993\u001b[0m             \u001b[0;32mif\u001b[0m \u001b[0mself\u001b[0m\u001b[0;34m.\u001b[0m\u001b[0mcolumns\u001b[0m\u001b[0;34m.\u001b[0m\u001b[0mnlevels\u001b[0m \u001b[0;34m>\u001b[0m \u001b[0;36m1\u001b[0m\u001b[0;34m:\u001b[0m\u001b[0;34m\u001b[0m\u001b[0;34m\u001b[0m\u001b[0m\n\u001b[1;32m   2994\u001b[0m                 \u001b[0;32mreturn\u001b[0m \u001b[0mself\u001b[0m\u001b[0;34m.\u001b[0m\u001b[0m_getitem_multilevel\u001b[0m\u001b[0;34m(\u001b[0m\u001b[0mkey\u001b[0m\u001b[0;34m)\u001b[0m\u001b[0;34m\u001b[0m\u001b[0;34m\u001b[0m\u001b[0m\n\u001b[0;32m-> 2995\u001b[0;31m             \u001b[0mindexer\u001b[0m \u001b[0;34m=\u001b[0m \u001b[0mself\u001b[0m\u001b[0;34m.\u001b[0m\u001b[0mcolumns\u001b[0m\u001b[0;34m.\u001b[0m\u001b[0mget_loc\u001b[0m\u001b[0;34m(\u001b[0m\u001b[0mkey\u001b[0m\u001b[0;34m)\u001b[0m\u001b[0;34m\u001b[0m\u001b[0;34m\u001b[0m\u001b[0m\n\u001b[0m\u001b[1;32m   2996\u001b[0m             \u001b[0;32mif\u001b[0m \u001b[0mis_integer\u001b[0m\u001b[0;34m(\u001b[0m\u001b[0mindexer\u001b[0m\u001b[0;34m)\u001b[0m\u001b[0;34m:\u001b[0m\u001b[0;34m\u001b[0m\u001b[0;34m\u001b[0m\u001b[0m\n\u001b[1;32m   2997\u001b[0m                 \u001b[0mindexer\u001b[0m \u001b[0;34m=\u001b[0m \u001b[0;34m[\u001b[0m\u001b[0mindexer\u001b[0m\u001b[0;34m]\u001b[0m\u001b[0;34m\u001b[0m\u001b[0;34m\u001b[0m\u001b[0m\n",
      "\u001b[0;32m~/.pyenv/versions/3.8.0/envs/dstools3/lib/python3.8/site-packages/pandas/core/indexes/base.py\u001b[0m in \u001b[0;36mget_loc\u001b[0;34m(self, key, method, tolerance)\u001b[0m\n\u001b[1;32m   2897\u001b[0m                 \u001b[0;32mreturn\u001b[0m \u001b[0mself\u001b[0m\u001b[0;34m.\u001b[0m\u001b[0m_engine\u001b[0m\u001b[0;34m.\u001b[0m\u001b[0mget_loc\u001b[0m\u001b[0;34m(\u001b[0m\u001b[0mkey\u001b[0m\u001b[0;34m)\u001b[0m\u001b[0;34m\u001b[0m\u001b[0;34m\u001b[0m\u001b[0m\n\u001b[1;32m   2898\u001b[0m             \u001b[0;32mexcept\u001b[0m \u001b[0mKeyError\u001b[0m\u001b[0;34m:\u001b[0m\u001b[0;34m\u001b[0m\u001b[0;34m\u001b[0m\u001b[0m\n\u001b[0;32m-> 2899\u001b[0;31m                 \u001b[0;32mreturn\u001b[0m \u001b[0mself\u001b[0m\u001b[0;34m.\u001b[0m\u001b[0m_engine\u001b[0m\u001b[0;34m.\u001b[0m\u001b[0mget_loc\u001b[0m\u001b[0;34m(\u001b[0m\u001b[0mself\u001b[0m\u001b[0;34m.\u001b[0m\u001b[0m_maybe_cast_indexer\u001b[0m\u001b[0;34m(\u001b[0m\u001b[0mkey\u001b[0m\u001b[0;34m)\u001b[0m\u001b[0;34m)\u001b[0m\u001b[0;34m\u001b[0m\u001b[0;34m\u001b[0m\u001b[0m\n\u001b[0m\u001b[1;32m   2900\u001b[0m         \u001b[0mindexer\u001b[0m \u001b[0;34m=\u001b[0m \u001b[0mself\u001b[0m\u001b[0;34m.\u001b[0m\u001b[0mget_indexer\u001b[0m\u001b[0;34m(\u001b[0m\u001b[0;34m[\u001b[0m\u001b[0mkey\u001b[0m\u001b[0;34m]\u001b[0m\u001b[0;34m,\u001b[0m \u001b[0mmethod\u001b[0m\u001b[0;34m=\u001b[0m\u001b[0mmethod\u001b[0m\u001b[0;34m,\u001b[0m \u001b[0mtolerance\u001b[0m\u001b[0;34m=\u001b[0m\u001b[0mtolerance\u001b[0m\u001b[0;34m)\u001b[0m\u001b[0;34m\u001b[0m\u001b[0;34m\u001b[0m\u001b[0m\n\u001b[1;32m   2901\u001b[0m         \u001b[0;32mif\u001b[0m \u001b[0mindexer\u001b[0m\u001b[0;34m.\u001b[0m\u001b[0mndim\u001b[0m \u001b[0;34m>\u001b[0m \u001b[0;36m1\u001b[0m \u001b[0;32mor\u001b[0m \u001b[0mindexer\u001b[0m\u001b[0;34m.\u001b[0m\u001b[0msize\u001b[0m \u001b[0;34m>\u001b[0m \u001b[0;36m1\u001b[0m\u001b[0;34m:\u001b[0m\u001b[0;34m\u001b[0m\u001b[0;34m\u001b[0m\u001b[0m\n",
      "\u001b[0;32mpandas/_libs/index.pyx\u001b[0m in \u001b[0;36mpandas._libs.index.IndexEngine.get_loc\u001b[0;34m()\u001b[0m\n",
      "\u001b[0;32mpandas/_libs/index.pyx\u001b[0m in \u001b[0;36mpandas._libs.index.IndexEngine.get_loc\u001b[0;34m()\u001b[0m\n",
      "\u001b[0;32mpandas/_libs/hashtable_class_helper.pxi\u001b[0m in \u001b[0;36mpandas._libs.hashtable.PyObjectHashTable.get_item\u001b[0;34m()\u001b[0m\n",
      "\u001b[0;32mpandas/_libs/hashtable_class_helper.pxi\u001b[0m in \u001b[0;36mpandas._libs.hashtable.PyObjectHashTable.get_item\u001b[0;34m()\u001b[0m\n",
      "\u001b[0;31mKeyError\u001b[0m: 'marquee'"
     ]
    }
   ],
   "source": [
    "sold_out_shows = mississippi_shows[mississippi_shows['marquee'].str.contains('sold out')]\n",
    "sold_out_shows"
   ]
  },
  {
   "cell_type": "markdown",
   "metadata": {},
   "source": [
    "It appears that \"sold out\" is always\n",
    "- at the beginning of the headline\n",
    "- followed by \": \"\n",
    "Thus, we can remove the \"sold out: \" part of the string."
   ]
  },
  {
   "cell_type": "code",
   "execution_count": 16,
   "metadata": {},
   "outputs": [],
   "source": [
    "# remove \"sold out: \" from headliner strings\n",
    "# shows['headliners'] = shows['headliners'].str.replace('sold out: ','')\n",
    "mississippi_shows['marquee'] = mississippi_shows['marquee'].str.replace('sold out: ','')"
   ]
  },
  {
   "cell_type": "markdown",
   "metadata": {},
   "source": [
    "### String cleaning: \"an evening with/of\""
   ]
  },
  {
   "cell_type": "code",
   "execution_count": null,
   "metadata": {},
   "outputs": [],
   "source": [
    "# use regex to replace evening\n",
    "evenings = shows[shows['headliners'].str.contains('an evening ')]\n",
    "evenings"
   ]
  },
  {
   "cell_type": "code",
   "execution_count": 17,
   "metadata": {},
   "outputs": [
    {
     "data": {
      "text/html": [
       "<div>\n",
       "<style scoped>\n",
       "    .dataframe tbody tr th:only-of-type {\n",
       "        vertical-align: middle;\n",
       "    }\n",
       "\n",
       "    .dataframe tbody tr th {\n",
       "        vertical-align: top;\n",
       "    }\n",
       "\n",
       "    .dataframe thead th {\n",
       "        text-align: right;\n",
       "    }\n",
       "</style>\n",
       "<table border=\"1\" class=\"dataframe\">\n",
       "  <thead>\n",
       "    <tr style=\"text-align: right;\">\n",
       "      <th></th>\n",
       "      <th>headliners</th>\n",
       "      <th>openers</th>\n",
       "      <th>date</th>\n",
       "      <th>venue</th>\n",
       "      <th>marquee</th>\n",
       "    </tr>\n",
       "  </thead>\n",
       "  <tbody>\n",
       "    <tr>\n",
       "      <th>28</th>\n",
       "      <td>sold out: jason lytle: an evening of acoustic ...</td>\n",
       "      <td></td>\n",
       "      <td>2020-03-13T00:00:00-07:00</td>\n",
       "      <td>mississippi studios</td>\n",
       "      <td>jason lytle: an evening of acoustic piano and ...</td>\n",
       "    </tr>\n",
       "    <tr>\n",
       "      <th>29</th>\n",
       "      <td>jason lytle: an evening of acoustic piano and ...</td>\n",
       "      <td></td>\n",
       "      <td>2020-03-13T00:00:00-07:00</td>\n",
       "      <td>mississippi studios</td>\n",
       "      <td>jason lytle: an evening of acoustic piano and ...</td>\n",
       "    </tr>\n",
       "    <tr>\n",
       "      <th>61</th>\n",
       "      <td>an evening with steep canyon rangers</td>\n",
       "      <td></td>\n",
       "      <td>2020-04-03T00:00:00-07:00</td>\n",
       "      <td>mississippi studios</td>\n",
       "      <td>an evening with steep canyon rangers</td>\n",
       "    </tr>\n",
       "    <tr>\n",
       "      <th>73</th>\n",
       "      <td>an evening with dan mangan</td>\n",
       "      <td></td>\n",
       "      <td>2020-04-14T00:00:00-07:00</td>\n",
       "      <td>mississippi studios</td>\n",
       "      <td>an evening with dan mangan</td>\n",
       "    </tr>\n",
       "  </tbody>\n",
       "</table>\n",
       "</div>"
      ],
      "text/plain": [
       "                                           headliners openers  \\\n",
       "28  sold out: jason lytle: an evening of acoustic ...           \n",
       "29  jason lytle: an evening of acoustic piano and ...           \n",
       "61               an evening with steep canyon rangers           \n",
       "73                         an evening with dan mangan           \n",
       "\n",
       "                         date                venue  \\\n",
       "28  2020-03-13T00:00:00-07:00  mississippi studios   \n",
       "29  2020-03-13T00:00:00-07:00  mississippi studios   \n",
       "61  2020-04-03T00:00:00-07:00  mississippi studios   \n",
       "73  2020-04-14T00:00:00-07:00  mississippi studios   \n",
       "\n",
       "                                              marquee  \n",
       "28  jason lytle: an evening of acoustic piano and ...  \n",
       "29  jason lytle: an evening of acoustic piano and ...  \n",
       "61               an evening with steep canyon rangers  \n",
       "73                         an evening with dan mangan  "
      ]
     },
     "execution_count": 17,
     "metadata": {},
     "output_type": "execute_result"
    }
   ],
   "source": [
    "evenings = mississippi_shows[mississippi_shows['marquee'].str.contains('an evening ')]\n",
    "evenings"
   ]
  },
  {
   "cell_type": "markdown",
   "metadata": {},
   "source": [
    "Note that in the code block below, the `?:` indicates a non-capturing group:"
   ]
  },
  {
   "cell_type": "code",
   "execution_count": null,
   "metadata": {},
   "outputs": [],
   "source": [
    "pattern = r\"\\ban evening (?:of|with) \"\n",
    "shows[shows['headliners'].str.contains(pattern, flags=re.I)]"
   ]
  },
  {
   "cell_type": "code",
   "execution_count": null,
   "metadata": {},
   "outputs": [],
   "source": [
    "# remove \"an evening of/with \" from headliner strings\n",
    "pattern = r\"\\ban evening (?:of|with) \"\n",
    "shows['headliners'] = [re.sub(pattern, \"\", each) for each in shows['headliners']]"
   ]
  },
  {
   "cell_type": "code",
   "execution_count": 18,
   "metadata": {},
   "outputs": [],
   "source": [
    "# remove \"an evening of/with \" from headliner strings\n",
    "pattern = r\"\\ban evening (?:of|with) \"\n",
    "mississippi_shows['headliners'] = [re.sub(pattern, \"\", each) for each in mississippi_shows['headliners']]"
   ]
  },
  {
   "cell_type": "code",
   "execution_count": null,
   "metadata": {},
   "outputs": [],
   "source": [
    "# lines containing the string 'an evening'\n",
    "shows[shows['headliners'].str.contains('an evening')]"
   ]
  },
  {
   "cell_type": "code",
   "execution_count": null,
   "metadata": {},
   "outputs": [],
   "source": [
    "shows[shows['headliners'].str.contains(':')]['headliners']"
   ]
  },
  {
   "cell_type": "code",
   "execution_count": null,
   "metadata": {},
   "outputs": [],
   "source": [
    "shows[shows['headliners'].str.contains(' - ')]['headliners']"
   ]
  },
  {
   "cell_type": "markdown",
   "metadata": {},
   "source": [
    "### Non-musical events\n",
    "The page for Raphael Saadiq says: \"This event is not a musical performance\" on the click-to page, but this is not the case for every non-musical event (e.g. \"the comedians following tool on tour: the tour...\"."
   ]
  },
  {
   "cell_type": "markdown",
   "metadata": {},
   "source": [
    "## Problem strings and their natures:\n",
    "\n",
    "### Special characters and strings\n",
    "- ` - `\n",
    "    - bookended by spaces\n",
    "- `&`\n",
    "- `:`\n",
    "    - seems that this always follows 'sold out'\n",
    "    - not always artist: qualifyer (as in `jason lytle: an evening of acoustic`); sometimes it's the opposite, as in `cameron esposito: save yourself tour`\n",
    "- `feat.`\n",
    "- `featuring`\n",
    "- `tour`\n",
    "- `moved to...`\n",
    "- `sold out`\n",
    "    - always followed by a ':'\n",
    "- `an evening with/of`\n",
    "- `early show`, `late show`\n",
    "\n",
    "\n",
    "- `dirty honey - rolling 7s tour`: the artist is 'dirty honey' and the `- rolling 7s tour` refers to the tour name\n",
    "    - possible solution: watch to see if '-' characters indicate \"extra\" info about the event that can be removed for passing a string to the Spotify artist search\n",
    "    - try splitting string before and after the special character, then searching both and seeing what hits better\n",
    "    - look for reference to the string \"tour\" and do something like:\n",
    "    ```\n",
    "    if artist.contains('tour'):\n",
    "        skip\n",
    "    ```\n",
    "- `dave hause & the mermaid`: the artist is `dave hause`, the mermaid is extra and does not help search function\n",
    "    - same as above, but for '&' characters\n",
    "- `casey neill & the norway rats`: the artist in this case is the full string, including the `&`\n",
    "- `the mysti krewe of nimbus' mardi gras party feat. too loose cajun`: no results for any way of breaking this up\n",
    "- `zydeco band`\n",
    "- `moved to aladdin theater:`\n"
   ]
  },
  {
   "cell_type": "markdown",
   "metadata": {},
   "source": [
    "# Spotify"
   ]
  },
  {
   "cell_type": "code",
   "execution_count": 108,
   "metadata": {},
   "outputs": [],
   "source": [
    "# set API authorization vars and scope\n",
    "client_id = os.environ.get('SPOTIPY_CLIENT_ID')\n",
    "client_secret = os.environ.get('SPOTIPY_CLIENT_SECRET')\n",
    "scope = 'user-library-read playlist-modify-private playlist-modify-public playlist-read-private'\n",
    "username = '1237403078'"
   ]
  },
  {
   "cell_type": "code",
   "execution_count": 114,
   "metadata": {},
   "outputs": [],
   "source": [
    "# authenticate\n",
    "token = util.prompt_for_user_token(\n",
    "        username=username,\n",
    "        scope=scope,\n",
    "        client_id=client_id,\n",
    "        client_secret=client_secret,\n",
    "        redirect_uri='http://localhost/')\n",
    "\n",
    "\n",
    "sp = spotipy.Spotify(auth=token)"
   ]
  },
  {
   "cell_type": "code",
   "execution_count": null,
   "metadata": {},
   "outputs": [],
   "source": [
    "# create new playlist\n",
    "#results = sp.user_playlist_create(username, \"Mississippi\")"
   ]
  },
  {
   "cell_type": "code",
   "execution_count": null,
   "metadata": {},
   "outputs": [],
   "source": [
    "pl_uri = results['uri']"
   ]
  },
  {
   "cell_type": "code",
   "execution_count": null,
   "metadata": {},
   "outputs": [],
   "source": [
    "pl_uri"
   ]
  },
  {
   "cell_type": "code",
   "execution_count": 21,
   "metadata": {},
   "outputs": [],
   "source": [
    "# initialize list of tracks to be added to playlist\n",
    "add_me = []\n",
    "# copy headliners series into new variable for ease of typing\n",
    "hl = shows['headliners'].copy()"
   ]
  },
  {
   "cell_type": "code",
   "execution_count": 30,
   "metadata": {},
   "outputs": [],
   "source": [
    "miss_marquee = mississippi_shows['marquee']"
   ]
  },
  {
   "cell_type": "code",
   "execution_count": null,
   "metadata": {},
   "outputs": [],
   "source": [
    "# split double headliners indicated by \" / \"\n",
    "hl = hl.str.split(' / ')\n",
    "hl"
   ]
  },
  {
   "cell_type": "code",
   "execution_count": 31,
   "metadata": {},
   "outputs": [
    {
     "data": {
      "text/plain": [
       "0              [trout steak revival, left coast country]\n",
       "1                   [dustbowl revival, jared & the mill]\n",
       "3                 [sexy pants, internet beef, rap class]\n",
       "5                  [dave hause & the mermaid, northcote]\n",
       "6      [kandace springs with special guest jimmie her...\n",
       "                             ...                        \n",
       "102              [the bellrays, slim cessna's auto club]\n",
       "103                                        [bing & ruth]\n",
       "104       [polaris (from the adventures of pete & pete)]\n",
       "105                                    [archers of loaf]\n",
       "106                                    [archers of loaf]\n",
       "Name: marquee, Length: 81, dtype: object"
      ]
     },
     "execution_count": 31,
     "metadata": {},
     "output_type": "execute_result"
    }
   ],
   "source": [
    "miss_marquee = miss_marque.str.split(' / ')\n",
    "miss_marquee"
   ]
  },
  {
   "cell_type": "code",
   "execution_count": null,
   "metadata": {},
   "outputs": [],
   "source": [
    "type(hl)"
   ]
  },
  {
   "cell_type": "code",
   "execution_count": null,
   "metadata": {},
   "outputs": [],
   "source": [
    "# flatten list of lists into single list\n",
    "hl_flat = [item for sublist in hl for item in sublist]\n",
    "# convert to Series\n",
    "hl_series = pd.Series(hl_flat)\n",
    "hl_series"
   ]
  },
  {
   "cell_type": "code",
   "execution_count": 32,
   "metadata": {},
   "outputs": [
    {
     "data": {
      "text/plain": [
       "0                               trout steak revival\n",
       "1                                left coast country\n",
       "2                                  dustbowl revival\n",
       "3                                  jared & the mill\n",
       "4                                        sexy pants\n",
       "                           ...                     \n",
       "142                         slim cessna's auto club\n",
       "143                                     bing & ruth\n",
       "144    polaris (from the adventures of pete & pete)\n",
       "145                                 archers of loaf\n",
       "146                                 archers of loaf\n",
       "Length: 147, dtype: object"
      ]
     },
     "execution_count": 32,
     "metadata": {},
     "output_type": "execute_result"
    }
   ],
   "source": [
    "# flatten list of lists into single list\n",
    "miss_marquee_flat = [item for sublist in miss_marquee for item in sublist]\n",
    "# convert to Series\n",
    "miss_series = pd.Series(miss_marquee_flat)\n",
    "miss_series"
   ]
  },
  {
   "cell_type": "markdown",
   "metadata": {},
   "source": [
    "Note: I could just leave duplicates in and filter this later based on Spotify's search results. Might not be a bad idea to double check for duplicate artist URI's once all acquired."
   ]
  },
  {
   "cell_type": "code",
   "execution_count": null,
   "metadata": {},
   "outputs": [],
   "source": [
    "# remove various notations of \"early show\" and \"late show\" (which escape duplicates)\n",
    "pattern = r\"\\s?-?\\s?[(]?(?:early|late) show[)]?\"\n",
    "double_shows = hl_series[hl_series.str.contains(pattern)]\n",
    "print(double_shows)\n",
    "hl_series = hl_series.str.replace(pattern, '')"
   ]
  },
  {
   "cell_type": "code",
   "execution_count": 33,
   "metadata": {},
   "outputs": [
    {
     "name": "stdout",
     "output_type": "stream",
     "text": [
      "47     jason lytle: an evening of acoustic piano and ...\n",
      "48     jason lytle: an evening of acoustic piano and ...\n",
      "133                         phoebe robinson - early show\n",
      "134                          phoebe robinson - late show\n",
      "dtype: object\n"
     ]
    }
   ],
   "source": [
    "# remove various notations of \"early show\" and \"late show\" (which escape duplicates)\n",
    "pattern = r\"\\s?-?\\s?[(]?(?:early|late) show[)]?\"\n",
    "double_shows = miss_series[miss_series.str.contains(pattern)]\n",
    "miss_series = miss_series.str.replace(pattern, '')"
   ]
  },
  {
   "cell_type": "code",
   "execution_count": null,
   "metadata": {},
   "outputs": [],
   "source": [
    "# remove duplicates from list\n",
    "hl_no_dups = [] \n",
    "[hl_no_dups.append(artist) for artist in hl_series if artist not in hl_no_dups] \n",
    "hl_no_dups"
   ]
  },
  {
   "cell_type": "code",
   "execution_count": 35,
   "metadata": {},
   "outputs": [
    {
     "data": {
      "text/plain": [
       "['trout steak revival',\n",
       " 'left coast country',\n",
       " 'dustbowl revival',\n",
       " 'jared & the mill',\n",
       " 'sexy pants',\n",
       " 'internet beef',\n",
       " 'rap class',\n",
       " 'dave hause & the mermaid',\n",
       " 'northcote',\n",
       " 'kandace springs with special guest jimmie herrod',\n",
       " \"the mysti krewe of nimbus' mardi gras party feat. too loose cajun\",\n",
       " 'zydeco band',\n",
       " 'a conversation with raphael saadiq',\n",
       " 'siren and the sea',\n",
       " 'blossom',\n",
       " 'snugsworth',\n",
       " 'slow hollows',\n",
       " 'fox academy',\n",
       " 'yacht rock revue unplugged',\n",
       " 'eyelids',\n",
       " \"talkin' to johnny\",\n",
       " 'zebra hunt',\n",
       " 'carsie blanton',\n",
       " 'jamie drake',\n",
       " 'hikes',\n",
       " 'childspeak',\n",
       " 'lower dens',\n",
       " 'ami dang',\n",
       " 'habibi',\n",
       " 'rudy de anda',\n",
       " 'shopping',\n",
       " 'automatic',\n",
       " 'mope grooves',\n",
       " 'blackwater holylight',\n",
       " 'abronia',\n",
       " 'night swim',\n",
       " 'the ballroom thieves',\n",
       " 'harlequin gold',\n",
       " 'christopher paul stelling',\n",
       " 'jacob miller',\n",
       " 'the comedians following tool on tour: the tour featuring rory scovel and nick youssef',\n",
       " 'advance base',\n",
       " 'claire cronin',\n",
       " 'ruth gabrus',\n",
       " 'casey neill & the norway rats',\n",
       " 'redray frazier band',\n",
       " 'alia farah & friends',\n",
       " 'jason lytle: an evening of acoustic piano and guitar',\n",
       " 'califone',\n",
       " 'marisa anderson',\n",
       " 'blackbird blackbird',\n",
       " 'megan diana',\n",
       " 'evan thomas way and the phasers',\n",
       " \"isabeau waia'u walker\",\n",
       " 'roselit bone',\n",
       " 'brent amaker deathsquad',\n",
       " 'frazey ford',\n",
       " 'alec shaw',\n",
       " 'gladie',\n",
       " 'delicate steve',\n",
       " 'al lover',\n",
       " 'potty mouth',\n",
       " 'sir babygirl',\n",
       " 'ata kak',\n",
       " 'town mountain',\n",
       " 'laney lou and the bird dogs',\n",
       " 'good morning',\n",
       " 'vita and the woolf',\n",
       " 'stealing sheep',\n",
       " 'vundabar',\n",
       " 'great grandpa',\n",
       " 'dumbo gets mad',\n",
       " 'sea moya',\n",
       " 'ratboys',\n",
       " 'ellis',\n",
       " 'the mauskovic dance band',\n",
       " 'orquestra pacifico tropical',\n",
       " 'beach slang',\n",
       " 'the aquadolls',\n",
       " 'social animals',\n",
       " 'rainbow girls',\n",
       " 'goodnight, texas',\n",
       " 'an evening with steep canyon rangers',\n",
       " 'ezra bell',\n",
       " 'múm',\n",
       " 'joe henry solo & acoustic',\n",
       " 'mdou moctar',\n",
       " 'lithics',\n",
       " 'sam coomes',\n",
       " 'the third mind: introducing dave alvin, david immergluck, michael jerome, victor krummenacher and featuring jesse sykes',\n",
       " 'post animal',\n",
       " 'twen',\n",
       " 'acid mothers temple & the melting paraiso u.f.o.',\n",
       " 'my education',\n",
       " 'an evening with dan mangan',\n",
       " 'ben watt',\n",
       " 'whitmer thomas',\n",
       " 'u.s. girls',\n",
       " 'bonjay',\n",
       " 'quasi',\n",
       " 'the cave singers',\n",
       " 'somesurprises',\n",
       " 'the california honeydrops',\n",
       " 'lillie mae & aubrie sellers',\n",
       " 'out of limits',\n",
       " 'juana molina',\n",
       " 'stumpfest ix: pallbearer',\n",
       " 'true widow',\n",
       " 'dead now',\n",
       " 'persekutor',\n",
       " 'ils',\n",
       " 'stumpfest ix: high on fire',\n",
       " 'lord dying',\n",
       " 'black cobra',\n",
       " 'semantron',\n",
       " 'mike scheidt (solo)',\n",
       " 'stumpfest ix: danny carey trio',\n",
       " \"daniel romano's outfit\",\n",
       " 'mammatus',\n",
       " 'carlton melton',\n",
       " 'dommengang',\n",
       " 'via vale',\n",
       " 'kevin devine',\n",
       " 'john k. samson',\n",
       " 'worriers (solo)',\n",
       " 'ivan & alyosha',\n",
       " 'six organs of admittance',\n",
       " 'della mae',\n",
       " 'half waif',\n",
       " 'mk.gee',\n",
       " 'phoebe robinson',\n",
       " 'kyle dunnigan',\n",
       " 'alex lahey',\n",
       " 'liv slingerland',\n",
       " 'vanessa carlton',\n",
       " 'jenny o.',\n",
       " 'braids',\n",
       " 'the bellrays',\n",
       " \"slim cessna's auto club\",\n",
       " 'bing & ruth',\n",
       " 'polaris (from the adventures of pete & pete)',\n",
       " 'archers of loaf']"
      ]
     },
     "execution_count": 35,
     "metadata": {},
     "output_type": "execute_result"
    }
   ],
   "source": [
    "# remove duplicates from list\n",
    "miss_no_dups = [] \n",
    "[miss_no_dups.append(artist) for artist in miss_series if artist not in miss_no_dups] \n",
    "miss_no_dups"
   ]
  },
  {
   "cell_type": "markdown",
   "metadata": {},
   "source": [
    "## Searching for Spotify artists, first pass\n",
    "\n",
    "**The for loop**\n",
    "\n",
    "In this block of code, I loop through the strings of the `hl_no_dups` list, passing each to the `sp.search` function and passing in `artist` for the `type` parameter, and limiting the number of returned search result hits to 1.\n",
    "\n",
    "**The conditionals**\n",
    "\n",
    "If the search produces at least one result, the top hit Artist Object (contained within `results['artists']['items'][0]`) is extracted and assigned to the `artists_found` dictionary, with the `uri` serving as the dictionary key. Even though I only need the artist URI to generate my playlist, I might want to analyze other artist parameters (e.g. popularity) later, so I might as well grab the whole thing for now."
   ]
  },
  {
   "cell_type": "code",
   "execution_count": null,
   "metadata": {},
   "outputs": [],
   "source": [
    "artists_found = {}\n",
    "not_found = []\n",
    "artist_uris = []\n",
    "# first pass:\n",
    "for artist in hl_no_dups:\n",
    "    # try searching unmodified string\n",
    "    print('SEARCHING... ',artist)\n",
    "    results = sp.search(artist,type='artist',limit=1)\n",
    "    # if search produces artist hit(s)\n",
    "    if results['artists']['total'] > 0:\n",
    "        top_hit = results['artists']['items'][0]  # take top hit\n",
    "        official_name = top_hit['name']  # extract name (mostly for verbose printing)\n",
    "        uri = top_hit['uri']  # extract uri to be used as dictionary key\n",
    "        artists_found[uri] = top_hit  # save top hit to dictionary w/ uri as key\n",
    "        artist_uris.append(uri)  # save artist uri to list (to keep order)\n",
    "        print('Found! ', official_name, uri)\n",
    "    # if artist not found\n",
    "    elif results['artists']['total'] == 0:\n",
    "        not_found.append(artist)\n",
    "        print('XXXXXX NOT found: ',artist)\n",
    "        \n",
    "        "
   ]
  },
  {
   "cell_type": "code",
   "execution_count": 36,
   "metadata": {},
   "outputs": [
    {
     "name": "stdout",
     "output_type": "stream",
     "text": [
      "SEARCHING...  trout steak revival\n",
      "Found!  Trout Steak Revival spotify:artist:7gf4unCQOlGg7UD38XzqPd\n",
      "SEARCHING...  left coast country\n",
      "Found!  Left Coast Country spotify:artist:0lrjVsOuOG3lqrhDzsJN6x\n",
      "SEARCHING...  dustbowl revival\n",
      "Found!  Dustbowl Revival spotify:artist:3cB0nIIeIGSuMlw6rnu1dm\n",
      "SEARCHING...  jared & the mill\n",
      "Found!  Jared & The Mill spotify:artist:0GklSybv01PPje5GlXFq2i\n",
      "SEARCHING...  sexy pants\n",
      "XXXXXX NOT found:  sexy pants\n",
      "SEARCHING...  internet beef\n",
      "Found!  Internet Beef spotify:artist:1gyvvV8gEt85zp189XdyaO\n",
      "SEARCHING...  rap class\n",
      "Found!  Rap Class spotify:artist:73yoLoaMB8o5AvG3vDd498\n",
      "SEARCHING...  dave hause & the mermaid\n",
      "XXXXXX NOT found:  dave hause & the mermaid\n",
      "SEARCHING...  northcote\n",
      "Found!  Northcote spotify:artist:0238bOScDVbMG0RBP2NguG\n",
      "SEARCHING...  kandace springs with special guest jimmie herrod\n",
      "XXXXXX NOT found:  kandace springs with special guest jimmie herrod\n",
      "SEARCHING...  the mysti krewe of nimbus' mardi gras party feat. too loose cajun\n",
      "XXXXXX NOT found:  the mysti krewe of nimbus' mardi gras party feat. too loose cajun\n",
      "SEARCHING...  zydeco band\n",
      "Found!  The Soileau Zydeco Band spotify:artist:1gIeQpnV2wL2LNklWtQGnT\n",
      "SEARCHING...  a conversation with raphael saadiq\n",
      "XXXXXX NOT found:  a conversation with raphael saadiq\n",
      "SEARCHING...  siren and the sea\n",
      "Found!  Siren and the Sea spotify:artist:45Z7TLBfSId65NDrTBr7t3\n",
      "SEARCHING...  blossom\n",
      "Found!  Blossoms spotify:artist:22RISwgVJyZu9lpqAcv1F5\n",
      "SEARCHING...  snugsworth\n",
      "Found!  Snugsworth spotify:artist:38PIRv5SnPsCwlQzoL1ec4\n",
      "SEARCHING...  slow hollows\n",
      "Found!  Slow Hollows spotify:artist:7qME2V5vIIPqIKCpzxQMPz\n",
      "SEARCHING...  fox academy\n",
      "Found!  Fox Academy spotify:artist:0JqRJZzARcjmH60HwUenow\n",
      "SEARCHING...  yacht rock revue unplugged\n",
      "XXXXXX NOT found:  yacht rock revue unplugged\n",
      "SEARCHING...  eyelids\n",
      "Found!  Eyelids spotify:artist:0rYNielsCINWVoYJofAmUs\n",
      "SEARCHING...  talkin' to johnny\n",
      "XXXXXX NOT found:  talkin' to johnny\n",
      "SEARCHING...  zebra hunt\n",
      "Found!  Zebra Hunt spotify:artist:7ieyLt5tfhq9SDuQHUAWEy\n",
      "SEARCHING...  carsie blanton\n",
      "Found!  Carsie Blanton spotify:artist:1NkiZTHV6voDpcA7eEQQMb\n",
      "SEARCHING...  jamie drake\n",
      "Found!  Jamie Drake spotify:artist:7rvB7ONJSqlmaCrcbhelir\n",
      "SEARCHING...  hikes\n",
      "Found!  Hikes spotify:artist:5luRIEhyaVB12mabNujZHx\n",
      "SEARCHING...  childspeak\n",
      "Found!  Childspeak spotify:artist:7EChgPT2nlsUDY8IDgzMbp\n",
      "SEARCHING...  lower dens\n",
      "Found!  Lower Dens spotify:artist:5uTJLo3c4ZHpH8oEwGxYUN\n",
      "SEARCHING...  ami dang\n",
      "Found!  Ami Dang spotify:artist:1DAqw4sYHPmgHQ6gzOVDig\n",
      "SEARCHING...  habibi\n",
      "Found!  Habibi spotify:artist:600GgDUq9kzGJgNIrVsWfz\n",
      "SEARCHING...  rudy de anda\n",
      "Found!  Rudy De Anda spotify:artist:4zAauwbGLs7vAEzfJEklGF\n",
      "SEARCHING...  shopping\n",
      "Found!  Shopping spotify:artist:1UgRlUUZBwiGwqMFHA4Puf\n",
      "SEARCHING...  automatic\n",
      "Found!  Automatic spotify:artist:3uX1tstdmFJyxW9b5mSNlU\n",
      "SEARCHING...  mope grooves\n",
      "Found!  Mope Grooves spotify:artist:180kJdOQylLrSL0euYbqLF\n",
      "SEARCHING...  blackwater holylight\n",
      "Found!  Blackwater Holylight spotify:artist:2fqEhs5dZBrDLUqHvWRtBc\n",
      "SEARCHING...  abronia\n",
      "Found!  Abronia spotify:artist:4BTddjd5LzqjQ5WAViSw0g\n",
      "SEARCHING...  night swim\n",
      "Found!  Night Swims spotify:artist:1dbB3o36oc3cNytRgI9cca\n",
      "SEARCHING...  the ballroom thieves\n",
      "Found!  The Ballroom Thieves spotify:artist:7kZBQcHbD4IKKEJIMnrRWC\n",
      "SEARCHING...  harlequin gold\n",
      "Found!  Harlequin Gold spotify:artist:0gCgdNAS3rxAlWw1qVXX5F\n",
      "SEARCHING...  christopher paul stelling\n",
      "Found!  Christopher Paul Stelling spotify:artist:0uvkj2Pqn60liBxf2a91D4\n",
      "SEARCHING...  jacob miller\n",
      "Found!  Jacob Miller spotify:artist:6zJjuLyqniz4ilDlYIjiio\n",
      "SEARCHING...  the comedians following tool on tour: the tour featuring rory scovel and nick youssef\n",
      "XXXXXX NOT found:  the comedians following tool on tour: the tour featuring rory scovel and nick youssef\n",
      "SEARCHING...  advance base\n",
      "Found!  Advance Base spotify:artist:4YIMPSc3zZLRwe4Ujaxjce\n",
      "SEARCHING...  claire cronin\n",
      "Found!  Claire Cronin spotify:artist:3QpahvBtZqiCtP5aacbX1I\n",
      "SEARCHING...  ruth gabrus\n",
      "Found!  Ruth Garbus spotify:artist:4n4AixYCSIn4H5BriyTEhm\n",
      "SEARCHING...  casey neill & the norway rats\n",
      "Found!  Casey Neill & The Norway Rats spotify:artist:6vEAVDP48QvbfXuYOSCRiE\n",
      "SEARCHING...  redray frazier band\n",
      "XXXXXX NOT found:  redray frazier band\n",
      "SEARCHING...  alia farah & friends\n",
      "XXXXXX NOT found:  alia farah & friends\n",
      "SEARCHING...  jason lytle: an evening of acoustic piano and guitar\n",
      "XXXXXX NOT found:  jason lytle: an evening of acoustic piano and guitar\n",
      "SEARCHING...  califone\n",
      "Found!  Califone spotify:artist:3mv2eHwrIONSkviASDMRMa\n",
      "SEARCHING...  marisa anderson\n",
      "Found!  Marisa Anderson spotify:artist:5j2d5CS0sh2LTpFsrKAFcW\n",
      "SEARCHING...  blackbird blackbird\n",
      "Found!  Blackbird Blackbird spotify:artist:2TWKl87Jnmd5MApKEpVCxA\n",
      "SEARCHING...  megan diana\n",
      "Found!  Megan Diana spotify:artist:3jtb4SRwzhhMRYd6wqNuxu\n",
      "SEARCHING...  evan thomas way and the phasers\n",
      "Found!  Evan Thomas Way & The Phasers spotify:artist:1qKOyEsBtSuBorVkNSCwGZ\n",
      "SEARCHING...  isabeau waia'u walker\n",
      "Found!  Isabeau Waia'u Walker spotify:artist:34IeX9oov4lkjQF5ug72D9\n",
      "SEARCHING...  roselit bone\n",
      "Found!  Roselit Bone spotify:artist:37ycePIPQXwy6rXkjMLojU\n",
      "SEARCHING...  brent amaker deathsquad\n",
      "XXXXXX NOT found:  brent amaker deathsquad\n",
      "SEARCHING...  frazey ford\n",
      "Found!  Frazey Ford spotify:artist:3w6sr0v1PArSe6JAwqk8Bl\n",
      "SEARCHING...  alec shaw\n",
      "Found!  Alec Shaw spotify:artist:1x2a2ZJLYCvBrasdEfcuGw\n",
      "SEARCHING...  gladie\n",
      "Found!  Gladie spotify:artist:7CmAu41S1eT28xXF2ocPE6\n",
      "SEARCHING...  delicate steve\n",
      "Found!  Delicate Steve spotify:artist:1bNgeTuV3MlkAq64Ybvcq5\n",
      "SEARCHING...  al lover\n",
      "Found!  Al Lover spotify:artist:2rVYWIbqIKx8d6hN4owg4A\n",
      "SEARCHING...  potty mouth\n",
      "Found!  Potty Mouth spotify:artist:4liUQpCxxhjGMgc33K81Fw\n",
      "SEARCHING...  sir babygirl\n",
      "Found!  Sir Babygirl spotify:artist:3Z9b1MnVKbJw8LpgQclsls\n",
      "SEARCHING...  ata kak\n",
      "Found!  Ata Kak spotify:artist:172WdsNGJYNNXVNQ1tXfrB\n",
      "SEARCHING...  town mountain\n",
      "Found!  Town Mountain spotify:artist:5cudslRGWg0GsXaN79Wifs\n",
      "SEARCHING...  laney lou and the bird dogs\n",
      "Found!  Laney Lou and the Bird Dogs spotify:artist:2X8vBRaS7l9JlOJS3uoz3T\n",
      "SEARCHING...  good morning\n",
      "Found!  Good Morning spotify:artist:2kMzxA8edU05hvMFU493zJ\n",
      "SEARCHING...  vita and the woolf\n",
      "Found!  Vita and the Woolf spotify:artist:2EkeitO4tB1cvLuXX3xMx7\n",
      "SEARCHING...  stealing sheep\n",
      "Found!  Stealing Sheep spotify:artist:3ghT43Gj41br25PvBCDS22\n",
      "SEARCHING...  vundabar\n",
      "Found!  Vundabar spotify:artist:1W4itxt3vwhmrgLEBuVHJ6\n",
      "SEARCHING...  great grandpa\n",
      "Found!  Great Grandpa spotify:artist:1Hs5RG6WIwUSJLxRYWaOW6\n",
      "SEARCHING...  dumbo gets mad\n",
      "Found!  Dumbo Gets Mad spotify:artist:530iy3GzOTqWe9LEeiZuDO\n",
      "SEARCHING...  sea moya\n",
      "Found!  Sea Moya spotify:artist:3U2w4PW1aS0fNikBX0u3pG\n",
      "SEARCHING...  ratboys\n",
      "Found!  Ratboys spotify:artist:1SoBNpuC0N4nvaQFENS0qf\n",
      "SEARCHING...  ellis\n",
      "Found!  Ellise spotify:artist:2FovgCfOwN9iqbkCBlKFdT\n",
      "SEARCHING...  the mauskovic dance band\n",
      "Found!  The Mauskovic Dance Band spotify:artist:02riqGdWw4EdqKJzOeWRZS\n",
      "SEARCHING...  orquestra pacifico tropical\n",
      "Found!  Orquestra Pacifico Tropical spotify:artist:4dh4FGfCH6JynLw3W1meuq\n",
      "SEARCHING...  beach slang\n",
      "Found!  Beach Slang spotify:artist:3d5usliWmjkMKGsv2X341Q\n",
      "SEARCHING...  the aquadolls\n",
      "Found!  The Aquadolls spotify:artist:75dqW38mCNfvNv9G3nqIE5\n",
      "SEARCHING...  social animals\n",
      "Found!  Social Animals spotify:artist:6B7x4EysPMAo1fj4FSFrEJ\n",
      "SEARCHING...  rainbow girls\n",
      "Found!  Rainbow Girls spotify:artist:5qV8qZrppecEsKTWwCCtA7\n",
      "SEARCHING...  goodnight, texas\n",
      "Found!  Goodnight, Texas spotify:artist:5ammRFhN6wQXM30xlhndC5\n",
      "SEARCHING...  an evening with steep canyon rangers\n",
      "XXXXXX NOT found:  an evening with steep canyon rangers\n",
      "SEARCHING...  ezra bell\n",
      "Found!  Ezra Bell spotify:artist:1nGqKVGfPPiVgxMdx8hYOI\n",
      "SEARCHING...  múm\n",
      "Found!  Mumford & Sons spotify:artist:3gd8FJtBJtkRxdfbTu19U2\n",
      "SEARCHING...  joe henry solo & acoustic\n",
      "XXXXXX NOT found:  joe henry solo & acoustic\n",
      "SEARCHING...  mdou moctar\n",
      "Found!  Mdou Moctar spotify:artist:48dgx7iGqLQ3E5KO3pzd94\n",
      "SEARCHING...  lithics\n",
      "Found!  Lithics spotify:artist:11m3JrB2fXeM5rR5yxhKGF\n",
      "SEARCHING...  sam coomes\n",
      "Found!  Sam Coomes spotify:artist:15yETfkJIkKOIpL482Acd7\n",
      "SEARCHING...  the third mind: introducing dave alvin, david immergluck, michael jerome, victor krummenacher and featuring jesse sykes\n",
      "XXXXXX NOT found:  the third mind: introducing dave alvin, david immergluck, michael jerome, victor krummenacher and featuring jesse sykes\n",
      "SEARCHING...  post animal\n"
     ]
    },
    {
     "name": "stdout",
     "output_type": "stream",
     "text": [
      "Found!  Post Animal spotify:artist:4iaDWP59Z3e62DW7YWDbIE\n",
      "SEARCHING...  twen\n",
      "Found!  Twenty One Pilots spotify:artist:3YQKmKGau1PzlVlkL1iodx\n",
      "SEARCHING...  acid mothers temple & the melting paraiso u.f.o.\n",
      "Found!  Acid Mothers Temple & The Melting Paraiso U.F.O. spotify:artist:4lSb7hjm2q4WTwdpjwcar7\n",
      "SEARCHING...  my education\n",
      "Found!  My Education spotify:artist:4paz9ZhZMz5YhQEzWfBQnb\n",
      "SEARCHING...  an evening with dan mangan\n",
      "XXXXXX NOT found:  an evening with dan mangan\n",
      "SEARCHING...  ben watt\n",
      "Found!  Ben Watt spotify:artist:4RIOH6XCUt1Xr8NLUj2u66\n",
      "SEARCHING...  whitmer thomas\n",
      "Found!  Whitmer Thomas spotify:artist:6conzu32k403L1Zr3xWTr1\n",
      "SEARCHING...  u.s. girls\n",
      "Found!  U.S. Girls spotify:artist:3AHFDfqhSqPBecjQDIOIJA\n",
      "SEARCHING...  bonjay\n",
      "Found!  Bonjay spotify:artist:12Jc0PCNtdYxqlBev0EqGJ\n",
      "SEARCHING...  quasi\n",
      "Found!  Quasimoto spotify:artist:1rJkz5vopfGxTUGFNB3o4G\n",
      "SEARCHING...  the cave singers\n",
      "Found!  The Cave Singers spotify:artist:4SjCvf9Ctuz369ZKAnjkZP\n",
      "SEARCHING...  somesurprises\n",
      "Found!  Somesurprises spotify:artist:0qgRfYHnkX1aRKmlWOEJZV\n",
      "SEARCHING...  the california honeydrops\n",
      "Found!  The California Honeydrops spotify:artist:21t0aavYGSGFkYYFhu6urk\n",
      "SEARCHING...  lillie mae & aubrie sellers\n",
      "XXXXXX NOT found:  lillie mae & aubrie sellers\n",
      "SEARCHING...  out of limits\n",
      "XXXXXX NOT found:  out of limits\n",
      "SEARCHING...  juana molina\n",
      "Found!  Juana Molina spotify:artist:76hliHkgP5eIbVqLT7NmQ3\n",
      "SEARCHING...  stumpfest ix: pallbearer\n",
      "XXXXXX NOT found:  stumpfest ix: pallbearer\n",
      "SEARCHING...  true widow\n",
      "Found!  True Widow spotify:artist:7fS59zKuYPKhYlTGdg2PyM\n",
      "SEARCHING...  dead now\n",
      "Found!  Dead Now spotify:artist:0p3qMXSGchXXEwWZq0K4rR\n",
      "SEARCHING...  persekutor\n",
      "Found!  Persekutor spotify:artist:13qYgj860ADl0bM4qTfhlY\n",
      "SEARCHING...  ils\n",
      "Found!  Ilsey spotify:artist:2ZKzqJz3pPfWKVRgz9b39j\n",
      "SEARCHING...  stumpfest ix: high on fire\n",
      "XXXXXX NOT found:  stumpfest ix: high on fire\n",
      "SEARCHING...  lord dying\n",
      "Found!  Lord Dying spotify:artist:4t2eZIRH71WTOXpENMOM2Z\n",
      "SEARCHING...  black cobra\n",
      "Found!  Black Cobra spotify:artist:3vXdcEXbg9wysccGlh4LkD\n",
      "SEARCHING...  semantron\n",
      "XXXXXX NOT found:  semantron\n",
      "SEARCHING...  mike scheidt (solo)\n",
      "XXXXXX NOT found:  mike scheidt (solo)\n",
      "SEARCHING...  stumpfest ix: danny carey trio\n",
      "XXXXXX NOT found:  stumpfest ix: danny carey trio\n",
      "SEARCHING...  daniel romano's outfit\n",
      "XXXXXX NOT found:  daniel romano's outfit\n",
      "SEARCHING...  mammatus\n",
      "Found!  Mammatus spotify:artist:6EH9OqbeLIdAyinJhPb6va\n",
      "SEARCHING...  carlton melton\n",
      "Found!  Carlton Melton spotify:artist:7i2OQnh5CDETdLpdAzzYUL\n",
      "SEARCHING...  dommengang\n",
      "Found!  Dommengang spotify:artist:5q35XlMsagTXv2R48zJkkn\n",
      "SEARCHING...  via vale\n",
      "Found!  Via Vale spotify:artist:1FIDOEIn1HU7Pku5GrKfh2\n",
      "SEARCHING...  kevin devine\n",
      "Found!  Kevin Devine spotify:artist:66ScZxprvrMbCtN4ivA0JX\n",
      "SEARCHING...  john k. samson\n",
      "Found!  John K. Samson spotify:artist:3oOylXJSSKnZt9xZIjikTJ\n",
      "SEARCHING...  worriers (solo)\n",
      "XXXXXX NOT found:  worriers (solo)\n",
      "SEARCHING...  ivan & alyosha\n",
      "Found!  Ivan & Alyosha spotify:artist:3D1IyJznpDnWnnFrzjuWnh\n",
      "SEARCHING...  six organs of admittance\n",
      "Found!  Six Organs Of Admittance spotify:artist:5jX8L7D6vWHYlNj9k361vI\n",
      "SEARCHING...  della mae\n",
      "Found!  Della Mae spotify:artist:4v6KHXXFsmn8oREWFyodCh\n",
      "SEARCHING...  half waif\n",
      "Found!  Half Waif spotify:artist:28mCmWkgrWHZ4fm5c3OcIj\n",
      "SEARCHING...  mk.gee\n",
      "Found!  Mk.gee spotify:artist:7tr9pbgNEKtG0GQTKe08Tz\n",
      "SEARCHING...  phoebe robinson\n",
      "XXXXXX NOT found:  phoebe robinson\n",
      "SEARCHING...  kyle dunnigan\n",
      "Found!  Kyle Dunnigan spotify:artist:4IVDPPI5DlTTQVbaTB1cYv\n",
      "SEARCHING...  alex lahey\n",
      "Found!  Alex Lahey spotify:artist:5kdYrM3h2sB1Eid5tDf6Hk\n",
      "SEARCHING...  liv slingerland\n",
      "Found!  Liv Slingerland spotify:artist:7yXoQcO4C5HP5PyaU8pbAb\n",
      "SEARCHING...  vanessa carlton\n",
      "Found!  Vanessa Carlton spotify:artist:5ILrArfIV0tMURcHJN8Q07\n",
      "SEARCHING...  jenny o.\n",
      "Found!  Jenny Owen Youngs spotify:artist:52mkFCABBeP3KjkWFA4M2H\n",
      "SEARCHING...  braids\n",
      "Found!  Braids spotify:artist:6JX35IQ1Yw84Yjzq2Y5p5i\n",
      "SEARCHING...  the bellrays\n",
      "Found!  The BellRays spotify:artist:1j22sbMyu5n26N00BebDBh\n",
      "SEARCHING...  slim cessna's auto club\n",
      "Found!  Slim Cessna's Auto Club spotify:artist:4hadRvyBwQwfETFBEUUaru\n",
      "SEARCHING...  bing & ruth\n",
      "Found!  Bing & Ruth spotify:artist:0grPfzk6cTnzfQpxjLDPs0\n",
      "SEARCHING...  polaris (from the adventures of pete & pete)\n",
      "XXXXXX NOT found:  polaris (from the adventures of pete & pete)\n",
      "SEARCHING...  archers of loaf\n",
      "Found!  Archers Of Loaf spotify:artist:0pNaVvqSvldpJl7pHpNoM9\n"
     ]
    }
   ],
   "source": [
    "artists_found = {}\n",
    "not_found = []\n",
    "artist_uris = []\n",
    "# first pass:\n",
    "for artist in miss_no_dups:\n",
    "    # try searching unmodified string\n",
    "    print('SEARCHING... ',artist)\n",
    "    results = sp.search(artist,type='artist',limit=2)\n",
    "    # if search produces artist hit(s)\n",
    "    if results['artists']['total'] > 0:\n",
    "        top_hit = results['artists']['items'][0]  # top hit\n",
    "        second_hit = results['artists']['items'][1]  # second hit\n",
    "        # check that artist names for first two hits are not exactly the same\n",
    "        if top_hit['name'] == second_hit['name']:\n",
    "            print('########## CHECK SECOND HIT ##########')\n",
    "        official_name = top_hit['name']  # extract name (mostly for verbose printing)\n",
    "        uri = top_hit['uri']  # extract uri to be used as dictionary key\n",
    "        artists_found[uri] = top_hit  # save top hit to dictionary w/ uri as key\n",
    "        artist_uris.append(uri)  # save artist uri to list (to keep order)\n",
    "        print('Found! ', official_name, uri)\n",
    "    # if artist not found\n",
    "    elif results['artists']['total'] == 0:\n",
    "        not_found.append(artist)\n",
    "        print('XXXXXX NOT found: ',artist)\n",
    "        \n",
    "        "
   ]
  },
  {
   "cell_type": "markdown",
   "metadata": {},
   "source": [
    "Let's take a look at the official names of the artists we managed to find in Spotify:"
   ]
  },
  {
   "cell_type": "code",
   "execution_count": 37,
   "metadata": {},
   "outputs": [
    {
     "name": "stdout",
     "output_type": "stream",
     "text": [
      "Trout Steak Revival\n",
      "Left Coast Country\n",
      "Dustbowl Revival\n",
      "Jared & The Mill\n",
      "Internet Beef\n",
      "Rap Class\n",
      "Northcote\n",
      "The Soileau Zydeco Band\n",
      "Siren and the Sea\n",
      "Blossoms\n",
      "Snugsworth\n",
      "Slow Hollows\n",
      "Fox Academy\n",
      "Eyelids\n",
      "Zebra Hunt\n",
      "Carsie Blanton\n",
      "Jamie Drake\n",
      "Hikes\n",
      "Childspeak\n",
      "Lower Dens\n",
      "Ami Dang\n",
      "Habibi\n",
      "Rudy De Anda\n",
      "Shopping\n",
      "Automatic\n",
      "Mope Grooves\n",
      "Blackwater Holylight\n",
      "Abronia\n",
      "Night Swims\n",
      "The Ballroom Thieves\n",
      "Harlequin Gold\n",
      "Christopher Paul Stelling\n",
      "Jacob Miller\n",
      "Advance Base\n",
      "Claire Cronin\n",
      "Ruth Garbus\n",
      "Casey Neill & The Norway Rats\n",
      "Califone\n",
      "Marisa Anderson\n",
      "Blackbird Blackbird\n",
      "Megan Diana\n",
      "Evan Thomas Way & The Phasers\n",
      "Isabeau Waia'u Walker\n",
      "Roselit Bone\n",
      "Frazey Ford\n",
      "Alec Shaw\n",
      "Gladie\n",
      "Delicate Steve\n",
      "Al Lover\n",
      "Potty Mouth\n",
      "Sir Babygirl\n",
      "Ata Kak\n",
      "Town Mountain\n",
      "Laney Lou and the Bird Dogs\n",
      "Good Morning\n",
      "Vita and the Woolf\n",
      "Stealing Sheep\n",
      "Vundabar\n",
      "Great Grandpa\n",
      "Dumbo Gets Mad\n",
      "Sea Moya\n",
      "Ratboys\n",
      "Ellise\n",
      "The Mauskovic Dance Band\n",
      "Orquestra Pacifico Tropical\n",
      "Beach Slang\n",
      "The Aquadolls\n",
      "Social Animals\n",
      "Rainbow Girls\n",
      "Goodnight, Texas\n",
      "Ezra Bell\n",
      "Mumford & Sons\n",
      "Mdou Moctar\n",
      "Lithics\n",
      "Sam Coomes\n",
      "Post Animal\n",
      "Twenty One Pilots\n",
      "Acid Mothers Temple & The Melting Paraiso U.F.O.\n",
      "My Education\n",
      "Ben Watt\n",
      "Whitmer Thomas\n",
      "U.S. Girls\n",
      "Bonjay\n",
      "Quasimoto\n",
      "The Cave Singers\n",
      "Somesurprises\n",
      "The California Honeydrops\n",
      "Juana Molina\n",
      "True Widow\n",
      "Dead Now\n",
      "Persekutor\n",
      "Ilsey\n",
      "Lord Dying\n",
      "Black Cobra\n",
      "Mammatus\n",
      "Carlton Melton\n",
      "Dommengang\n",
      "Via Vale\n",
      "Kevin Devine\n",
      "John K. Samson\n",
      "Ivan & Alyosha\n",
      "Six Organs Of Admittance\n",
      "Della Mae\n",
      "Half Waif\n",
      "Mk.gee\n",
      "Kyle Dunnigan\n",
      "Alex Lahey\n",
      "Liv Slingerland\n",
      "Vanessa Carlton\n",
      "Jenny Owen Youngs\n",
      "Braids\n",
      "The BellRays\n",
      "Slim Cessna's Auto Club\n",
      "Bing & Ruth\n",
      "Archers Of Loaf\n"
     ]
    }
   ],
   "source": [
    "for each in artists_found.values():\n",
    "    print(each['name'])"
   ]
  },
  {
   "cell_type": "code",
   "execution_count": 41,
   "metadata": {},
   "outputs": [
    {
     "name": "stdout",
     "output_type": "stream",
     "text": [
      "142\n",
      "115\n",
      "27\n"
     ]
    }
   ],
   "source": [
    "print(len(miss_no_dups))\n",
    "print(len(artist_uris))\n",
    "print(len(not_found))"
   ]
  },
  {
   "cell_type": "markdown",
   "metadata": {},
   "source": [
    "### Check point: how many artists were recovered?\n",
    "\n",
    "What was our success rate of finding artists?"
   ]
  },
  {
   "cell_type": "code",
   "execution_count": null,
   "metadata": {},
   "outputs": [],
   "source": [
    "found_count = len(hl_no_dups)\n",
    "missing_count = len(not_found)\n",
    "total_count = found_count + missing_count\n",
    "search_success_rate = found_count/(found_count + missing_count)*100\n",
    "success_string = \"A first pass identified Spotify data for {} out of {} headliners, a {:.2f}% success rate.\"\n",
    "print(success_string.format(found_count, total_count, search_success_rate))"
   ]
  },
  {
   "cell_type": "code",
   "execution_count": 39,
   "metadata": {},
   "outputs": [
    {
     "name": "stdout",
     "output_type": "stream",
     "text": [
      "A first pass identified Spotify data for 142 out of 169 artists, a 84.02% success rate.\n"
     ]
    }
   ],
   "source": [
    "found_count = len(miss_no_dups)\n",
    "missing_count = len(not_found)\n",
    "total_count = found_count + missing_count\n",
    "search_success_rate = found_count/(found_count + missing_count)*100\n",
    "success_string = \"A first pass identified Spotify data for {} out of {} artists, a {:.2f}% success rate.\"\n",
    "print(success_string.format(found_count, total_count, search_success_rate))"
   ]
  },
  {
   "cell_type": "markdown",
   "metadata": {},
   "source": [
    "That's pretty good! \n",
    "\n",
    "For now, I'll complete the functionality of this script and add 1 song for each of these artists to a list of `tracks_to_add`."
   ]
  },
  {
   "cell_type": "code",
   "execution_count": null,
   "metadata": {},
   "outputs": [],
   "source": [
    "artist_uris[:3]"
   ]
  },
  {
   "cell_type": "code",
   "execution_count": null,
   "metadata": {},
   "outputs": [],
   "source": [
    "# pull top tracks \n",
    "tracks_to_add = []\n",
    "for artist_uri in artist_uris:\n",
    "    # retrieve list of top tracks\n",
    "    top_tracks = sp.artist_top_tracks(artist_uri)['tracks']\n",
    "    # find first track in top tracks that is credited to a single artist\n",
    "    for track in top_tracks:\n",
    "        if (len(track['artists'])) > 1:\n",
    "            continue\n",
    "        else:\n",
    "            top_track_uri = track['uri']\n",
    "            break\n",
    "    tracks_to_add.append(top_track_uri)\n",
    "\n",
    "tracks_to_add"
   ]
  },
  {
   "cell_type": "code",
   "execution_count": 142,
   "metadata": {},
   "outputs": [
    {
     "name": "stdout",
     "output_type": "stream",
     "text": [
      "North Marine Drive\n",
      "Call The Captain\n"
     ]
    },
    {
     "data": {
      "text/plain": [
       "['spotify:track:23SGoB6pbBXx2qcrM1VEYU',\n",
       " 'spotify:track:7xsjI11alpcfweV1y75dSs']"
      ]
     },
     "execution_count": 142,
     "metadata": {},
     "output_type": "execute_result"
    }
   ],
   "source": [
    "# debugging / testing\n",
    "check_artists = ['spotify:artist:4RIOH6XCUt1Xr8NLUj2u66', 'spotify:artist:1a6tqLJPUs4DBAnNUZkr2O']\n",
    "tracks_to_add = []\n",
    "for artist_uri in check_artists:\n",
    "    # retrieve list of top tracks\n",
    "    top_tracks = sp.artist_top_tracks(artist_uri)['tracks']\n",
    "    # find first track in top tracks that is credited to a single artist\n",
    "    # (this avoids remixes and one-offs and hopefully better captures an artist's sound)\n",
    "    for track in top_tracks:\n",
    "        if (len(track['artists'])) > 1:\n",
    "            continue\n",
    "        else:\n",
    "            top_track_uri = track['uri']\n",
    "            print(track['name'])\n",
    "            break\n",
    "    tracks_to_add.append(top_track_uri)\n",
    "\n",
    "tracks_to_add"
   ]
  },
  {
   "cell_type": "code",
   "execution_count": null,
   "metadata": {},
   "outputs": [],
   "source": [
    "# replace all tracks with tracks_to_add\n",
    "playlist_id = 'spotify:user:1237403078:playlist:1ndO4967sqMKFsMapRUVXe'\n",
    "user = username\n",
    "result = sp.user_playlist_replace_tracks(user, playlist_id, tracks = tracks_to_add)"
   ]
  },
  {
   "cell_type": "code",
   "execution_count": null,
   "metadata": {},
   "outputs": [],
   "source": [
    "\n",
    "# get top tracks' uris for artist\n",
    "top_tracks = sp.artist_top_tracks(artist_uri)['tracks']\n",
    "top_tracks_uri = [track['uri'] for track in top_tracks]\n",
    "top_tracks_uri\n",
    "# add top tracks to 'add_me' list\n",
    "for each in top_tracks_uri[0:2]:\n",
    "    add_me.append(each)\n",
    "# once add_me is complete,\n",
    "# replace all tracks with add_me\n",
    "playlist_id = pl_uri\n",
    "user = username\n",
    "tracks = add_me\n",
    "result = sp.user_playlist_replace_tracks(user, playlist_id, tracks)\n"
   ]
  },
  {
   "cell_type": "markdown",
   "metadata": {},
   "source": [
    "# Debugging\n",
    "\n",
    "I listened to the playlist and found a few cases that were weird:\n",
    "1. Steep Canyon Rangers - the track features Steve Martin, who is not on tour with them\n",
    "2. Ben Watt - featured track \"Bright Star - Sunset Mix\" is a collab with 2 other artists and sounds nothing like Ben Watt's singer songwriter-y stuff.\n",
    "\n",
    "Debug strategy: Check URI's for these songs and get track objects. Inside the track object, extract the 'artists' array. If array > 1, try second most popular track."
   ]
  },
  {
   "cell_type": "code",
   "execution_count": 124,
   "metadata": {},
   "outputs": [],
   "source": [
    "bright_star_uri = 'spotify:track:0kdli9bGgWufvIgeKtmtF5'\n",
    "ben_watt_uri = 'spotify:artist:4RIOH6XCUt1Xr8NLUj2u66'\n",
    "steep_canyon_rangers_uri = 'spotify:artist:1a6tqLJPUs4DBAnNUZkr2O'\n",
    "check_artists = ['spotify:artist:4RIOH6XCUt1Xr8NLUj2u66', 'spotify:artist:1a6tqLJPUs4DBAnNUZkr2O']"
   ]
  },
  {
   "cell_type": "code",
   "execution_count": 122,
   "metadata": {},
   "outputs": [],
   "source": [
    "result = sp.track(bright_star_uri)\n",
    "num_artists_on_track = len(result['artists'])"
   ]
  },
  {
   "cell_type": "code",
   "execution_count": 141,
   "metadata": {},
   "outputs": [
    {
     "name": "stdout",
     "output_type": "stream",
     "text": [
      "spotify:track:23SGoB6pbBXx2qcrM1VEYU \t North Marine Drive\n"
     ]
    }
   ],
   "source": [
    "artist_uri = ben_watt_uri\n",
    "result = sp.artist_top_tracks(artist_uri)['tracks']\n",
    "\n",
    "# find first track in top tracks that is only the artist\n",
    "for each in result:\n",
    "    if (len(each['artists'])) > 1:\n",
    "        continue\n",
    "    else:\n",
    "        print(each['uri'], '\\t', each['name'])\n",
    "        break"
   ]
  },
  {
   "cell_type": "code",
   "execution_count": 137,
   "metadata": {},
   "outputs": [
    {
     "name": "stdout",
     "output_type": "stream",
     "text": [
      "spotify:track:0kdli9bGgWufvIgeKtmtF5\n",
      "spotify:track:23SGoB6pbBXx2qcrM1VEYU\n",
      "spotify:track:0FmXimDKUUtcP2aodW828S\n",
      "spotify:track:1IwTgB0lEWnQWNXkng9wU7\n",
      "spotify:track:4TbQsImMHpfAI0XzSuWO3d\n",
      "spotify:track:0h6OiVfh9ICxDfv01XVgO4\n",
      "spotify:track:3Uzg5xASF1RMBngOgBk3iH\n",
      "spotify:track:4p843hcUcVM2rZgQvhoZOL\n",
      "spotify:track:5DtnDC47CQuGiGHVZ92qx0\n",
      "spotify:track:48YemRTa3pBlnmE1gnXomX\n"
     ]
    }
   ],
   "source": [
    "for each in result:\n",
    "    print(each['uri'])"
   ]
  },
  {
   "cell_type": "markdown",
   "metadata": {},
   "source": [
    "## Additional string cleaning to increase search result success rate\n",
    "\n",
    "That leaves 24 strings with no Spotify artist results, at least searching as is. We'll need to get into the nitty gritty to address these with a general strategy of:\n",
    "- identifying patterns that might explain search failure\n",
    "- manually checking a fair number\n",
    "- developing a strategy to address edge cases in iterative search passes"
   ]
  },
  {
   "cell_type": "code",
   "execution_count": null,
   "metadata": {},
   "outputs": [],
   "source": [
    "not_found"
   ]
  },
  {
   "cell_type": "markdown",
   "metadata": {},
   "source": [
    "Some of these strings simply do not have a Spotify entry. Take, for example, the boy band \"Sexy Pants\". This is a real band, but they do not appear to have any Spotify data.\n",
    "\n",
    "Here's what no results look like:"
   ]
  },
  {
   "cell_type": "code",
   "execution_count": null,
   "metadata": {},
   "outputs": [],
   "source": [
    "artist = 'sexy pants'\n",
    "results = sp.search(artist, type='artist')\n",
    "results['artists']"
   ]
  },
  {
   "cell_type": "markdown",
   "metadata": {},
   "source": [
    "Another is Phoebe Robinson, who has a podcast called \"Sooo Many White Guys\" but does not have a Spotify artist URI.\n",
    "\n",
    "But some of these like `'stumpfest ix: pallbearer'` contain an artist (in this case, Pallbearer), and some sort of modifier, often followed or preceeded by ':'. In this case, 'Stumpfest IX' refers to a local music festival. Another similar case is `'jason lytle: acoustic piano and guitar'`. As we can see from these two examples, sometimes the artist appears before the ':', and sometimes after.\n",
    "\n",
    "Here are some other observations of strings we might expect to see regularly on a billing but reduce our search success, as well as strategies to handle them:\n",
    "\n",
    "string | strategy | example\n",
    "---|---|---\n",
    "`unplugged` | remove string | `yacht rock revue unplugged`\n",
    "`with (special guest)` | search either side of | `kandace springs with special guest jimmie herrod`, `caitlin canty with noam pikelny`\n",
    "`solo` | remove string | `hiss golden messenger (solo)`\n",
    "`acoustic` | remove string | `joe henry solo & acoustic`\n",
    "`&` | search either side of | `dave hause & the mermaid`\n",
    "`:` | search either side of | `stumfest ix: pallbearer`\n",
    "`moved to` | skip and remove event - has been relocated | `moved to aladdin theater: beach bunny`\n",
    "`(...)` | uncertain, see below | `polaris (from the adventures of pete & pete)`\n",
    "`feat.` or `featuring` | search either side of | \"`he mysti krewe of nimbus' mardi gras party feat. too loose cajun`\n",
    "\n",
    "It's important to remember that for cases where we break the string up ('dave hause & the mermaid'), we might get results for each side, which may be a true collaboration, or simply a title with 1 artist and other stuff (as in the case of 'dave hause & the mermaid'). The best thing to do here may be to flag these cases and manually check them after the program runs each week.\n",
    "\n",
    "Combinations also exist, such as `'joe henry solo & acoustic'`, which requires us to think about the order of operations we should attempt here.\n",
    "\n",
    "There are also cases, like `'brent amaker deathsquad'`, where the artist (\"brent amaker\") is searchable, but the other word(s) (\"deathsquad\") throw off the search. Another example of this is: `'danny carey trio'` We might want to save these for a \"last pass\" that involves iteratively searching pairs of words, or perhaps using NLTK to identify \"proper nouns\" and searching those.\n",
    "\n",
    "Sometimes, trimming our search by removing certain strings (e.g. text within parentheses) may produce a hit to a different band than intended, as with `polaris (from the adventures of pete & pete)`. The top search hit on Spotify for \"Polaris\" is psych rock band, not the Polaris billed here. However, using the second half of the search string, perhaps in a general search, would likely turn up the correct artist. I tested this string in the general seach below, and do retrieve a correct album hit, from which I can extract the artist URI."
   ]
  },
  {
   "cell_type": "code",
   "execution_count": 36,
   "metadata": {},
   "outputs": [
    {
     "ename": "NameError",
     "evalue": "name 'sp' is not defined",
     "output_type": "error",
     "traceback": [
      "\u001b[0;31m---------------------------------------------------------------------------\u001b[0m",
      "\u001b[0;31mNameError\u001b[0m                                 Traceback (most recent call last)",
      "\u001b[0;32m<ipython-input-36-888845fe8db6>\u001b[0m in \u001b[0;36m<module>\u001b[0;34m\u001b[0m\n\u001b[0;32m----> 1\u001b[0;31m \u001b[0mresults\u001b[0m \u001b[0;34m=\u001b[0m \u001b[0msp\u001b[0m\u001b[0;34m.\u001b[0m\u001b[0msearch\u001b[0m\u001b[0;34m(\u001b[0m\u001b[0;34m'adventures of pete & pete'\u001b[0m\u001b[0;34m)\u001b[0m\u001b[0;34m\u001b[0m\u001b[0;34m\u001b[0m\u001b[0m\n\u001b[0m\u001b[1;32m      2\u001b[0m \u001b[0mresults\u001b[0m\u001b[0;34m\u001b[0m\u001b[0;34m\u001b[0m\u001b[0m\n",
      "\u001b[0;31mNameError\u001b[0m: name 'sp' is not defined"
     ]
    }
   ],
   "source": [
    "results = sp.search('adventures of pete & pete')\n",
    "results"
   ]
  },
  {
   "cell_type": "markdown",
   "metadata": {},
   "source": [
    "### The Not Founds: Breaking up complex strings and dealing with special characters"
   ]
  },
  {
   "cell_type": "code",
   "execution_count": null,
   "metadata": {},
   "outputs": [],
   "source": [
    "# searching strings w/ colons \":\"\n",
    "still_not_found = []\n",
    "add_to_found = []\n",
    "\n",
    "for artist in not_found:\n",
    "    search_terms = []\n",
    "    \n",
    "    if ':' in artist:\n",
    "        print(\"SEARCHING...:\",artist)\n",
    "        search_terms = artist.split(':')  # split string at colon\n",
    "        \n",
    "        for search_str in search_terms: # for each string\n",
    "            good_match = False\n",
    "            # search spotify\n",
    "            results = sp.search(search_str,type='artist')\n",
    "            # if result is found\n",
    "            if results['artists']['total'] > 0:\n",
    "                good_match = True  # indicate a match has been found\n",
    "                official_name = results['artists']['items'][0]['name']\n",
    "                add_to_found.append(official_name)\n",
    "                break\n",
    "            else:\n",
    "                print(\"No results for: \",search_str)\n",
    "            \n",
    "        if good_match == True:\n",
    "            print(\"FOUND: \", official_name)\n",
    "        else:\n",
    "            print(\"NOT FOUND: \", artist)\n",
    "            still_not_found.append(artist)"
   ]
  },
  {
   "cell_type": "code",
   "execution_count": null,
   "metadata": {},
   "outputs": [],
   "source": [
    "still_not_found"
   ]
  },
  {
   "cell_type": "code",
   "execution_count": null,
   "metadata": {},
   "outputs": [],
   "source": [
    "for search_str in not_found:\n",
    "    print(search_str)\n",
    "    search_terms = []\n",
    "    if ':' in artist:\n",
    "        search_terms = artist.split(':')\n",
    "    elif ' - ' in artist:\n",
    "        search_terms = artist.split(' - ')\n",
    "    else:\n",
    "        search_terms.append(artist)\n",
    "    print(search_terms)"
   ]
  },
  {
   "cell_type": "code",
   "execution_count": null,
   "metadata": {},
   "outputs": [],
   "source": []
  },
  {
   "cell_type": "code",
   "execution_count": null,
   "metadata": {},
   "outputs": [],
   "source": [
    "not_found = []\n",
    "found_artists = []\n",
    "\n",
    "for artist in hl_flat:\n",
    "    search_str = artist\n",
    "    results = sp.search(search_str,type='artist')\n",
    "    if results['artists']['total'] == 0:\n",
    "        print(\"Artist not found: \",search_str)\n",
    "        not_found.append(search_str)\n",
    "    else:\n",
    "        print(\"FOUND: \",results['artists']['items'][0]['name'])\n",
    "        found_artists.append(results['artists']['items'][0]['name'])"
   ]
  },
  {
   "cell_type": "code",
   "execution_count": null,
   "metadata": {},
   "outputs": [],
   "source": [
    "not_found"
   ]
  },
  {
   "cell_type": "markdown",
   "metadata": {},
   "source": [
    "# Scratch paper"
   ]
  },
  {
   "cell_type": "code",
   "execution_count": null,
   "metadata": {},
   "outputs": [],
   "source": [
    "## get artist uri\n",
    "search_str = 'Incubus'\n",
    "results = sp.search(search_str,type='artist')\n",
    "artist_uri = results['artists']['items'][0]['uri']\n",
    "artist_uri"
   ]
  },
  {
   "cell_type": "code",
   "execution_count": null,
   "metadata": {},
   "outputs": [],
   "source": [
    "# inspect search results for artist search\n",
    "search_results = result['items']\n",
    "\n",
    "for result in search_results:\n",
    "    print(result['name'])"
   ]
  },
  {
   "cell_type": "code",
   "execution_count": null,
   "metadata": {},
   "outputs": [],
   "source": [
    "# get top tracks' uris for artist\n",
    "top_tracks = sp.artist_top_tracks(artist_uri)['tracks']\n",
    "top_tracks_uri = [track['uri'] for track in top_tracks]\n",
    "top_tracks_uri"
   ]
  },
  {
   "cell_type": "code",
   "execution_count": null,
   "metadata": {},
   "outputs": [],
   "source": [
    "# get top tracks' uris for artist\n",
    "top_tracks = sp.artist_top_tracks(artist_uri)['tracks']\n",
    "top_tracks_uri = [track['uri'] for track in top_tracks]\n",
    "top_tracks_uri\n",
    "# add top tracks to 'add_me' list\n",
    "for each in top_tracks_uri[0:2]:\n",
    "    add_me.append(each)"
   ]
  },
  {
   "cell_type": "code",
   "execution_count": null,
   "metadata": {},
   "outputs": [],
   "source": [
    "add_me"
   ]
  },
  {
   "cell_type": "code",
   "execution_count": null,
   "metadata": {},
   "outputs": [],
   "source": [
    "# get top tracks' uris for artist\n",
    "top_tracks = sp.artist_top_tracks(artist_uri)['tracks']\n",
    "top_tracks_uri = [track['uri'] for track in top_tracks]\n",
    "top_tracks_uri\n",
    "# add top tracks to 'add_me' list\n",
    "for each in top_tracks_uri[0:2]:\n",
    "    add_me.append(each)\n",
    "# once add_me is complete,\n",
    "# replace all tracks with add_me\n",
    "playlist_id = pl_uri\n",
    "user = username\n",
    "tracks = add_me\n",
    "result = sp.user_playlist_replace_tracks(user, playlist_id, tracks)"
   ]
  }
 ],
 "metadata": {
  "kernelspec": {
   "display_name": "Python 3",
   "language": "python",
   "name": "python3"
  },
  "language_info": {
   "codemirror_mode": {
    "name": "ipython",
    "version": 3
   },
   "file_extension": ".py",
   "mimetype": "text/x-python",
   "name": "python",
   "nbconvert_exporter": "python",
   "pygments_lexer": "ipython3",
   "version": "3.8.0"
  }
 },
 "nbformat": 4,
 "nbformat_minor": 2
}
